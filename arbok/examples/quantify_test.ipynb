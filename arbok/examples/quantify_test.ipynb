{
 "cells": [
  {
   "cell_type": "code",
   "execution_count": 1,
   "id": "d70665d7-8411-4fba-9c4e-913c97130188",
   "metadata": {},
   "outputs": [],
   "source": [
    "%matplotlib inline\n",
    "import numpy as np\n",
    "\n",
    "import quantify_core.visualization.pyqt_plotmon as pqm\n",
    "import quantify_core.data.handling as dh\n",
    "from quantify_core.analysis import base_analysis as ba\n",
    "from quantify_core.analysis import cosine_analysis as ca\n",
    "from quantify_core.data.handling import (\n",
    "    default_datadir,\n",
    "    set_datadir,\n",
    ")\n",
    "from quantify_core.measurement import MeasurementControl\n",
    "from quantify_core.utilities.examples_support import mk_cosine_instrument\n",
    "from quantify_core.utilities.experiment_helpers import create_plotmon_from_historical\n",
    "\n",
    "from quantify_core.utilities.inspect_utils import display_source_code\n",
    "from quantify_core.visualization.instrument_monitor import InstrumentMonitor"
   ]
  },
  {
   "cell_type": "code",
   "execution_count": 3,
   "id": "0367c812-b558-414b-b9d1-0f37a44c578a",
   "metadata": {},
   "outputs": [
    {
     "name": "stdout",
     "output_type": "stream",
     "text": [
      "Data will be saved in:\n",
      "/home/andi/quantify-data\n"
     ]
    }
   ],
   "source": [
    "dh.set_datadir(dh.default_datadir())"
   ]
  },
  {
   "cell_type": "code",
   "execution_count": 4,
   "id": "c0fd81df-a29a-49f1-877e-86e8d269fe27",
   "metadata": {
    "scrolled": true
   },
   "outputs": [
    {
     "name": "stderr",
     "output_type": "stream",
     "text": [
      "/home/andi/.local/lib/python3.11/site-packages/quantify_core/visualization/pyqt_plotmon_remote.py:18: QCoDeSDeprecationWarning: The qcodes.plots is deprecated. Use \"qcodes_loop.plots\" as an alternative.\n",
      "  from qcodes.plots.colors import color_cycle\n",
      "/home/andi/.local/lib/python3.11/site-packages/quantify_core/visualization/pyqt_plotmon_remote.py:18: QCoDeSDeprecationWarning: The qcodes.plots.colors is deprecated. Use \"qcodes_loop.plots.colors\" as an alternative.\n",
      "  from qcodes.plots.colors import color_cycle\n",
      "/home/andi/.local/lib/python3.11/site-packages/qcodes/plots/pyqtgraph.py:17: QCoDeSDeprecationWarning: The qcodes.utils.qt_helpers module is deprecated. Use \"qcodes_loop.utils.qt_helpers\" as an alternative.\n",
      "  import qcodes.utils.qt_helpers\n",
      "/home/andi/.local/lib/python3.11/site-packages/quantify_core/visualization/pyqt_plotmon_remote.py:19: QCoDeSDeprecationWarning: The qcodes.plots.pyqtgraph is deprecated. Use \"qcodes_loop.plots.pyqtgraph\" as an alternative.\n",
      "  from qcodes.plots.pyqtgraph import QtPlot, TransformState\n"
     ]
    }
   ],
   "source": [
    "meas_ctrl = MeasurementControl(\"meas_ctrl\")\n",
    "plotmon = pqm.PlotMonitor_pyqt(\"plotmon\")\n",
    "#meas_ctrl.instr_plotmon(plotmon.name)\n",
    "#insmon = InstrumentMonitor(\"InstrumentMonitor\")"
   ]
  },
  {
   "cell_type": "code",
   "execution_count": 5,
   "id": "05ef946c-b86b-4532-b9d6-99f0c3e74be6",
   "metadata": {
    "scrolled": true
   },
   "outputs": [],
   "source": [
    "pars = mk_cosine_instrument()"
   ]
  },
  {
   "cell_type": "code",
   "execution_count": 6,
   "id": "c4bbae68-6ff4-48c5-ba15-facedd2558b3",
   "metadata": {},
   "outputs": [],
   "source": [
    "pars.acq_delay(1)\n",
    "pars.noise_level(101)"
   ]
  },
  {
   "cell_type": "code",
   "execution_count": null,
   "id": "0dde61e2-53f4-4b61-adcf-8d8b578145b4",
   "metadata": {},
   "outputs": [],
   "source": [
    "meas_ctrl.settables(\n",
    "    [pars.t, pars.freq]\n",
    ")  # as a QCoDeS parameter, 't' obeys the JSON schema for a valid Settable and can be passed to the meas_ctrl directly.\n",
    "meas_ctrl.setpoints_grid([\n",
    "    np.linspace(0, 2, 22), \n",
    "    np.linspace(0, 2, 22)\n",
    "])\n",
    "meas_ctrl.gettables(\n",
    "    pars.sig\n",
    ")  # as a QCoDeS parameter, 'sig' obeys the JSON schema for a valid Gettable and can be passed to the meas_ctrl directly.\n",
    "# opx_plus_driver.prepare_quantify_measurement(meas_ctrl)\n",
    "\n",
    "pars.t.batched = True\n",
    "pars.freq.batched = True\n",
    "pars.sig.batched = True\n",
    "pars.sig.batch_size = 22*11"
   ]
  },
  {
   "cell_type": "code",
   "execution_count": null,
   "id": "990566e0-1463-40f5-bce3-5c1d7b5ecdbd",
   "metadata": {},
   "outputs": [],
   "source": [
    "pars.sig.get_raw"
   ]
  },
  {
   "cell_type": "code",
   "execution_count": null,
   "id": "d89b9c97-4ec9-4b8c-9b24-ff862874cd25",
   "metadata": {},
   "outputs": [],
   "source": [
    "dset = meas_ctrl.run(\"my experiment\", soft_avg=100)"
   ]
  },
  {
   "cell_type": "code",
   "execution_count": null,
   "id": "b7f5c3d4-d911-47d0-a24f-3cf3e4c61edc",
   "metadata": {},
   "outputs": [],
   "source": [
    "from arbok.samples.sunshine.readout.other_ST_read import OtherStReadout"
   ]
  },
  {
   "cell_type": "code",
   "execution_count": null,
   "id": "314f49be-8a97-4832-8ced-9fbf2d21dea2",
   "metadata": {},
   "outputs": [],
   "source": []
  }
 ],
 "metadata": {
  "kernelspec": {
   "display_name": "arbok_install_env",
   "language": "python",
   "name": "arbok_install_env"
  },
  "language_info": {
   "codemirror_mode": {
    "name": "ipython",
    "version": 3
   },
   "file_extension": ".py",
   "mimetype": "text/x-python",
   "name": "python",
   "nbconvert_exporter": "python",
   "pygments_lexer": "ipython3",
   "version": "3.11.3"
  }
 },
 "nbformat": 4,
 "nbformat_minor": 5
}
