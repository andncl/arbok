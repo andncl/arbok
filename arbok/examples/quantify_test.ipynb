{
 "cells": [
  {
   "cell_type": "code",
   "execution_count": 1,
   "id": "d70665d7-8411-4fba-9c4e-913c97130188",
   "metadata": {},
   "outputs": [],
   "source": [
    "%matplotlib inline\n",
    "import numpy as np\n",
    "\n",
    "import quantify_core.visualization.pyqt_plotmon as pqm\n",
    "import quantify_core.data.handling as dh\n",
    "from quantify_core.analysis import base_analysis as ba\n",
    "from quantify_core.analysis import cosine_analysis as ca\n",
    "from quantify_core.data.handling import (\n",
    "    default_datadir,\n",
    "    set_datadir,\n",
    ")\n",
    "from quantify_core.measurement import MeasurementControl\n",
    "from quantify_core.utilities.examples_support import mk_cosine_instrument\n",
    "from quantify_core.utilities.experiment_helpers import create_plotmon_from_historical\n",
    "\n",
    "from quantify_core.utilities.inspect_utils import display_source_code\n",
    "from quantify_core.visualization.instrument_monitor import InstrumentMonitor"
   ]
  },
  {
   "cell_type": "code",
   "execution_count": 2,
   "id": "ebdc854a-c321-4cfb-b9ba-ec7450fc4da0",
   "metadata": {},
   "outputs": [
    {
     "name": "stdout",
     "output_type": "stream",
     "text": [
      "Data will be saved in:\n",
      "C:\\Users\\z5440260\\quantify-data\n"
     ]
    }
   ],
   "source": [
    "set_datadir(default_datadir())"
   ]
  },
  {
   "cell_type": "code",
   "execution_count": 3,
   "id": "6da2379a-edbc-4a55-b9de-f206c264e60a",
   "metadata": {},
   "outputs": [
    {
     "name": "stdout",
     "output_type": "stream",
     "text": [
      "Logging hadn't been started.\n",
      "Activating auto-logging. Current session state plus future input saved.\n",
      "Filename       : C:\\Users\\z5440260\\.qcodes\\logs\\command_history.log\n",
      "Mode           : append\n",
      "Output logging : True\n",
      "Raw input log  : False\n",
      "Timestamping   : True\n",
      "State          : active\n"
     ]
    },
    {
     "ename": "KeyboardInterrupt",
     "evalue": "",
     "output_type": "error",
     "traceback": [
      "\u001b[1;31m---------------------------------------------------------------------------\u001b[0m",
      "\u001b[1;31mKeyboardInterrupt\u001b[0m                         Traceback (most recent call last)",
      "Cell \u001b[1;32mIn[3], line 2\u001b[0m\n\u001b[0;32m      1\u001b[0m \u001b[38;5;28;01mimport\u001b[39;00m \u001b[38;5;21;01mqcodes\u001b[39;00m \u001b[38;5;28;01mas\u001b[39;00m \u001b[38;5;21;01mqc\u001b[39;00m\n\u001b[1;32m----> 2\u001b[0m \u001b[43mqc\u001b[49m\u001b[38;5;241;43m.\u001b[39;49m\u001b[43mlogger\u001b[49m\u001b[38;5;241;43m.\u001b[39;49m\u001b[43mstart_all_logging\u001b[49m\u001b[43m(\u001b[49m\u001b[43m)\u001b[49m\n",
      "File \u001b[1;32m~\\AppData\\Local\\miniconda3\\envs\\temp_env\\Lib\\site-packages\\qcodes\\logger\\logger.py:362\u001b[0m, in \u001b[0;36mstart_all_logging\u001b[1;34m()\u001b[0m\n\u001b[0;32m    358\u001b[0m \u001b[38;5;250m\u001b[39m\u001b[38;5;124;03m\"\"\"\u001b[39;00m\n\u001b[0;32m    359\u001b[0m \u001b[38;5;124;03mStarts python log module logging and ipython command history logging.\u001b[39;00m\n\u001b[0;32m    360\u001b[0m \u001b[38;5;124;03m\"\"\"\u001b[39;00m\n\u001b[0;32m    361\u001b[0m start_command_history_logger()\n\u001b[1;32m--> 362\u001b[0m \u001b[43mstart_logger\u001b[49m\u001b[43m(\u001b[49m\u001b[43m)\u001b[49m\n",
      "File \u001b[1;32m~\\AppData\\Local\\miniconda3\\envs\\temp_env\\Lib\\site-packages\\qcodes\\logger\\logger.py:307\u001b[0m, in \u001b[0;36mstart_logger\u001b[1;34m()\u001b[0m\n\u001b[0;32m    303\u001b[0m     root_logger\u001b[38;5;241m.\u001b[39maddHandler(_create_telemetry_handler())\n\u001b[0;32m    305\u001b[0m log\u001b[38;5;241m.\u001b[39minfo(\u001b[38;5;124m\"\u001b[39m\u001b[38;5;124mQCoDes logger setup completed\u001b[39m\u001b[38;5;124m\"\u001b[39m)\n\u001b[1;32m--> 307\u001b[0m \u001b[43mlog_qcodes_versions\u001b[49m\u001b[43m(\u001b[49m\u001b[43mlog\u001b[49m\u001b[43m)\u001b[49m\n\u001b[0;32m    309\u001b[0m \u001b[38;5;28mprint\u001b[39m(\u001b[38;5;124mf\u001b[39m\u001b[38;5;124m'\u001b[39m\u001b[38;5;124mQcodes Logfile : \u001b[39m\u001b[38;5;132;01m{\u001b[39;00mfilename\u001b[38;5;132;01m}\u001b[39;00m\u001b[38;5;124m'\u001b[39m)\n",
      "File \u001b[1;32m~\\AppData\\Local\\miniconda3\\envs\\temp_env\\Lib\\site-packages\\qcodes\\logger\\logger.py:349\u001b[0m, in \u001b[0;36mlog_qcodes_versions\u001b[1;34m(logger)\u001b[0m\n\u001b[0;32m    341\u001b[0m \u001b[38;5;250m\u001b[39m\u001b[38;5;124;03m\"\"\"\u001b[39;00m\n\u001b[0;32m    342\u001b[0m \u001b[38;5;124;03mLog the version information relevant to QCoDeS. This function logs\u001b[39;00m\n\u001b[0;32m    343\u001b[0m \u001b[38;5;124;03mthe currently installed qcodes version, whether QCoDeS is installed in\u001b[39;00m\n\u001b[0;32m    344\u001b[0m \u001b[38;5;124;03meditable mode, the installed versions of QCoDeS' requirements, and the\u001b[39;00m\n\u001b[0;32m    345\u001b[0m \u001b[38;5;124;03mversions of all installed packages.\u001b[39;00m\n\u001b[0;32m    346\u001b[0m \u001b[38;5;124;03m\"\"\"\u001b[39;00m\n\u001b[0;32m    348\u001b[0m qc_version \u001b[38;5;241m=\u001b[39m qc\u001b[38;5;241m.\u001b[39m__version__\n\u001b[1;32m--> 349\u001b[0m qc_e_inst \u001b[38;5;241m=\u001b[39m \u001b[43mis_qcodes_installed_editably\u001b[49m\u001b[43m(\u001b[49m\u001b[43m)\u001b[49m\n\u001b[0;32m    350\u001b[0m ipvs \u001b[38;5;241m=\u001b[39m get_all_installed_package_versions()\n\u001b[0;32m    352\u001b[0m logger\u001b[38;5;241m.\u001b[39minfo(\u001b[38;5;124mf\u001b[39m\u001b[38;5;124m\"\u001b[39m\u001b[38;5;124mQCoDeS version: \u001b[39m\u001b[38;5;132;01m{\u001b[39;00mqc_version\u001b[38;5;132;01m}\u001b[39;00m\u001b[38;5;124m\"\u001b[39m)\n",
      "File \u001b[1;32m~\\AppData\\Local\\miniconda3\\envs\\temp_env\\Lib\\site-packages\\qcodes\\utils\\installation_info.py:35\u001b[0m, in \u001b[0;36mis_qcodes_installed_editably\u001b[1;34m()\u001b[0m\n\u001b[0;32m     32\u001b[0m answer: Optional[\u001b[38;5;28mbool\u001b[39m]\n\u001b[0;32m     34\u001b[0m \u001b[38;5;28;01mtry\u001b[39;00m:\n\u001b[1;32m---> 35\u001b[0m     pipproc \u001b[38;5;241m=\u001b[39m \u001b[43msubprocess\u001b[49m\u001b[38;5;241;43m.\u001b[39;49m\u001b[43mrun\u001b[49m\u001b[43m(\u001b[49m\u001b[43m[\u001b[49m\u001b[38;5;124;43m'\u001b[39;49m\u001b[38;5;124;43mpython\u001b[39;49m\u001b[38;5;124;43m'\u001b[39;49m\u001b[43m,\u001b[49m\u001b[43m \u001b[49m\u001b[38;5;124;43m'\u001b[39;49m\u001b[38;5;124;43m-m\u001b[39;49m\u001b[38;5;124;43m'\u001b[39;49m\u001b[43m,\u001b[49m\u001b[43m \u001b[49m\u001b[38;5;124;43m'\u001b[39;49m\u001b[38;5;124;43mpip\u001b[39;49m\u001b[38;5;124;43m'\u001b[39;49m\u001b[43m,\u001b[49m\u001b[43m \u001b[49m\u001b[38;5;124;43m'\u001b[39;49m\u001b[38;5;124;43mlist\u001b[39;49m\u001b[38;5;124;43m'\u001b[39;49m\u001b[43m,\u001b[49m\u001b[43m \u001b[49m\u001b[38;5;124;43m'\u001b[39;49m\u001b[38;5;124;43m-e\u001b[39;49m\u001b[38;5;124;43m'\u001b[39;49m\u001b[43m,\u001b[49m\u001b[43m \u001b[49m\u001b[38;5;124;43m'\u001b[39;49m\u001b[38;5;124;43m--no-index\u001b[39;49m\u001b[38;5;124;43m'\u001b[39;49m\u001b[43m,\u001b[49m\n\u001b[0;32m     36\u001b[0m \u001b[43m                              \u001b[49m\u001b[38;5;124;43m'\u001b[39;49m\u001b[38;5;124;43m--format=json\u001b[39;49m\u001b[38;5;124;43m'\u001b[39;49m\u001b[43m]\u001b[49m\u001b[43m,\u001b[49m\n\u001b[0;32m     37\u001b[0m \u001b[43m                             \u001b[49m\u001b[43mcheck\u001b[49m\u001b[38;5;241;43m=\u001b[39;49m\u001b[38;5;28;43;01mTrue\u001b[39;49;00m\u001b[43m,\u001b[49m\n\u001b[0;32m     38\u001b[0m \u001b[43m                             \u001b[49m\u001b[43mstdout\u001b[49m\u001b[38;5;241;43m=\u001b[39;49m\u001b[43msubprocess\u001b[49m\u001b[38;5;241;43m.\u001b[39;49m\u001b[43mPIPE\u001b[49m\u001b[43m)\u001b[49m\n\u001b[0;32m     39\u001b[0m     e_pkgs \u001b[38;5;241m=\u001b[39m json\u001b[38;5;241m.\u001b[39mloads(pipproc\u001b[38;5;241m.\u001b[39mstdout\u001b[38;5;241m.\u001b[39mdecode(\u001b[38;5;124m'\u001b[39m\u001b[38;5;124mutf-8\u001b[39m\u001b[38;5;124m'\u001b[39m))\n\u001b[0;32m     40\u001b[0m     answer \u001b[38;5;241m=\u001b[39m \u001b[38;5;28many\u001b[39m([d[\u001b[38;5;124m\"\u001b[39m\u001b[38;5;124mname\u001b[39m\u001b[38;5;124m\"\u001b[39m] \u001b[38;5;241m==\u001b[39m \u001b[38;5;124m'\u001b[39m\u001b[38;5;124mqcodes\u001b[39m\u001b[38;5;124m'\u001b[39m \u001b[38;5;28;01mfor\u001b[39;00m d \u001b[38;5;129;01min\u001b[39;00m e_pkgs])\n",
      "File \u001b[1;32m~\\AppData\\Local\\miniconda3\\envs\\temp_env\\Lib\\subprocess.py:550\u001b[0m, in \u001b[0;36mrun\u001b[1;34m(input, capture_output, timeout, check, *popenargs, **kwargs)\u001b[0m\n\u001b[0;32m    548\u001b[0m \u001b[38;5;28;01mwith\u001b[39;00m Popen(\u001b[38;5;241m*\u001b[39mpopenargs, \u001b[38;5;241m*\u001b[39m\u001b[38;5;241m*\u001b[39mkwargs) \u001b[38;5;28;01mas\u001b[39;00m process:\n\u001b[0;32m    549\u001b[0m     \u001b[38;5;28;01mtry\u001b[39;00m:\n\u001b[1;32m--> 550\u001b[0m         stdout, stderr \u001b[38;5;241m=\u001b[39m \u001b[43mprocess\u001b[49m\u001b[38;5;241;43m.\u001b[39;49m\u001b[43mcommunicate\u001b[49m\u001b[43m(\u001b[49m\u001b[38;5;28;43minput\u001b[39;49m\u001b[43m,\u001b[49m\u001b[43m \u001b[49m\u001b[43mtimeout\u001b[49m\u001b[38;5;241;43m=\u001b[39;49m\u001b[43mtimeout\u001b[49m\u001b[43m)\u001b[49m\n\u001b[0;32m    551\u001b[0m     \u001b[38;5;28;01mexcept\u001b[39;00m TimeoutExpired \u001b[38;5;28;01mas\u001b[39;00m exc:\n\u001b[0;32m    552\u001b[0m         process\u001b[38;5;241m.\u001b[39mkill()\n",
      "File \u001b[1;32m~\\AppData\\Local\\miniconda3\\envs\\temp_env\\Lib\\subprocess.py:1194\u001b[0m, in \u001b[0;36mPopen.communicate\u001b[1;34m(self, input, timeout)\u001b[0m\n\u001b[0;32m   1192\u001b[0m     \u001b[38;5;28mself\u001b[39m\u001b[38;5;241m.\u001b[39m_stdin_write(\u001b[38;5;28minput\u001b[39m)\n\u001b[0;32m   1193\u001b[0m \u001b[38;5;28;01melif\u001b[39;00m \u001b[38;5;28mself\u001b[39m\u001b[38;5;241m.\u001b[39mstdout:\n\u001b[1;32m-> 1194\u001b[0m     stdout \u001b[38;5;241m=\u001b[39m \u001b[38;5;28;43mself\u001b[39;49m\u001b[38;5;241;43m.\u001b[39;49m\u001b[43mstdout\u001b[49m\u001b[38;5;241;43m.\u001b[39;49m\u001b[43mread\u001b[49m\u001b[43m(\u001b[49m\u001b[43m)\u001b[49m\n\u001b[0;32m   1195\u001b[0m     \u001b[38;5;28mself\u001b[39m\u001b[38;5;241m.\u001b[39mstdout\u001b[38;5;241m.\u001b[39mclose()\n\u001b[0;32m   1196\u001b[0m \u001b[38;5;28;01melif\u001b[39;00m \u001b[38;5;28mself\u001b[39m\u001b[38;5;241m.\u001b[39mstderr:\n",
      "\u001b[1;31mKeyboardInterrupt\u001b[0m: "
     ]
    }
   ],
   "source": [
    "import qcodes as qc\n",
    "qc.logger.start_all_logging()"
   ]
  },
  {
   "cell_type": "code",
   "execution_count": null,
   "id": "c0fd81df-a29a-49f1-877e-86e8d269fe27",
   "metadata": {
    "scrolled": true
   },
   "outputs": [],
   "source": [
    "meas_ctrl = MeasurementControl(\"meas_ctrl\")\n",
    "plotmon = pqm.PlotMonitor_pyqt(\"plotmon\")\n",
    "meas_ctrl.instr_plotmon(plotmon.name)\n",
    "#insmon = InstrumentMonitor(\"InstrumentMonitor\")"
   ]
  },
  {
   "cell_type": "code",
   "execution_count": null,
   "id": "05ef946c-b86b-4532-b9d6-99f0c3e74be6",
   "metadata": {
    "scrolled": true
   },
   "outputs": [],
   "source": [
    "pars = mk_cosine_instrument()"
   ]
  },
  {
   "cell_type": "code",
   "execution_count": null,
   "id": "c4bbae68-6ff4-48c5-ba15-facedd2558b3",
   "metadata": {},
   "outputs": [],
   "source": [
    "pars.acq_delay(1)\n",
    "pars.noise_level(101)"
   ]
  },
  {
   "cell_type": "code",
   "execution_count": null,
   "id": "0dde61e2-53f4-4b61-adcf-8d8b578145b4",
   "metadata": {},
   "outputs": [],
   "source": [
    "meas_ctrl.settables(\n",
    "    [pars.t, pars.freq]\n",
    ")  # as a QCoDeS parameter, 't' obeys the JSON schema for a valid Settable and can be passed to the meas_ctrl directly.\n",
    "meas_ctrl.setpoints_grid([\n",
    "    np.linspace(0, 2, 22), \n",
    "    np.linspace(0, 2, 22)\n",
    "])\n",
    "meas_ctrl.gettables(\n",
    "    pars.sig\n",
    ")  # as a QCoDeS parameter, 'sig' obeys the JSON schema for a valid Gettable and can be passed to the meas_ctrl directly.\n",
    "# opx_plus_driver.prepare_quantify_measurement(meas_ctrl)\n",
    "\n",
    "pars.t.batched = True\n",
    "pars.freq.batched = True\n",
    "pars.sig.batched = True\n",
    "pars.sig.batch_size = 22*11"
   ]
  },
  {
   "cell_type": "code",
   "execution_count": null,
   "id": "990566e0-1463-40f5-bce3-5c1d7b5ecdbd",
   "metadata": {},
   "outputs": [],
   "source": [
    "pars.sig.get_raw"
   ]
  },
  {
   "cell_type": "code",
   "execution_count": null,
   "id": "d89b9c97-4ec9-4b8c-9b24-ff862874cd25",
   "metadata": {},
   "outputs": [],
   "source": [
    "dset = meas_ctrl.run(\"my experiment\", soft_avg=100)"
   ]
  },
  {
   "cell_type": "code",
   "execution_count": null,
   "id": "b7f5c3d4-d911-47d0-a24f-3cf3e4c61edc",
   "metadata": {},
   "outputs": [],
   "source": [
    "from arbok.samples.sunshine.readout.other_ST_read import OtherStReadout"
   ]
  },
  {
   "cell_type": "code",
   "execution_count": null,
   "id": "314f49be-8a97-4832-8ced-9fbf2d21dea2",
   "metadata": {},
   "outputs": [],
   "source": []
  }
 ],
 "metadata": {
  "kernelspec": {
   "display_name": "temp_env",
   "language": "python",
   "name": "temp_env"
  },
  "language_info": {
   "codemirror_mode": {
    "name": "ipython",
    "version": 3
   },
   "file_extension": ".py",
   "mimetype": "text/x-python",
   "name": "python",
   "nbconvert_exporter": "python",
   "pygments_lexer": "ipython3",
   "version": "3.11.3"
  }
 },
 "nbformat": 4,
 "nbformat_minor": 5
}
