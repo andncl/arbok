{
 "cells": [
  {
   "cell_type": "markdown",
   "id": "005480dd-1ab9-4c32-b6a2-fde2678ec877",
   "metadata": {},
   "source": [
    "# Data acquisition in arbok"
   ]
  },
  {
   "cell_type": "markdown",
   "id": "7eea0c96-44ad-418c-bd9c-efcfaf5071fb",
   "metadata": {},
   "source": [
    "### Arbok module imports"
   ]
  },
  {
   "cell_type": "code",
   "execution_count": 1,
   "id": "ba382081-cc0b-4476-94eb-5062c61a5ec8",
   "metadata": {},
   "outputs": [
    {
     "name": "stdout",
     "output_type": "stream",
     "text": [
      "2023-09-18 11:05:12,411 - qm - INFO     - Starting session: cec815be-f7ee-4a67-a3ff-bce5711755d3\n"
     ]
    }
   ],
   "source": [
    "from arbok.samples.aurora.configs.aurora_qua_config import aurora_qua_config\n",
    "\n",
    "from arbok.samples.aurora.initialization.odd_6_dot_init import InitOdd6dot\n",
    "from arbok.samples.aurora.control.adb import ADB\n",
    "from arbok.samples.aurora.readout.psb_6_dot_read import PSB6dotRead"
   ]
  },
  {
   "cell_type": "code",
   "execution_count": 2,
   "id": "aff1ac20-db58-4c15-a088-822d63613bae",
   "metadata": {
    "jp-MarkdownHeadingCollapsed": true
   },
   "outputs": [],
   "source": [
    "from arbok.core.program import Program\n",
    "from arbok.core.sample import Sample"
   ]
  },
  {
   "cell_type": "markdown",
   "id": "b83f8e16-346f-4192-adca-7307a313ac79",
   "metadata": {},
   "source": [
    "Instanciating sample and measurement objects"
   ]
  },
  {
   "cell_type": "code",
   "execution_count": 3,
   "id": "be43f407-3a42-4468-aa84-862398e4cd3f",
   "metadata": {},
   "outputs": [],
   "source": [
    "aurora = Sample('aurora', aurora_qua_config)\n",
    "ESR_search = Program('ESR_search', sample = aurora)"
   ]
  },
  {
   "cell_type": "code",
   "execution_count": 4,
   "id": "4f43b9c7-466c-4b64-a1b8-e000606931bc",
   "metadata": {},
   "outputs": [],
   "source": [
    "from arbok.samples.aurora.configs.aurora_qua_config import aurora_qua_config\n",
    "\n",
    "from arbok.samples.aurora.initialization.odd_6_dot_init import InitOdd6dot\n",
    "from arbok.samples.aurora.control.adb import ADB\n",
    "from arbok.samples.aurora.control.rabi import Rabi\n",
    "from arbok.samples.aurora.readout.psb_6_dot_read import PSB6dotRead"
   ]
  },
  {
   "cell_type": "markdown",
   "id": "6ecc773a-d2af-4f22-a068-de3817bfa645",
   "metadata": {},
   "source": [
    "Creating Subsequences and adding them to the measurement object `ESR_search`"
   ]
  },
  {
   "cell_type": "code",
   "execution_count": 5,
   "id": "09747bb6-d302-4ae6-9716-3b67438d16b3",
   "metadata": {},
   "outputs": [],
   "source": [
    "init6 = InitOdd6dot('init6')\n",
    "adb6 = ADB('adb6')\n",
    "read6 = PSB6dotRead('read6')"
   ]
  },
  {
   "cell_type": "code",
   "execution_count": 6,
   "id": "5918ef6a-c8bb-4f77-943e-3a869f8b7aa3",
   "metadata": {},
   "outputs": [],
   "source": [
    "ESR_search.add_subsequence(init6)\n",
    "ESR_search.add_subsequence(adb6)\n",
    "ESR_search.add_subsequence(read6)"
   ]
  },
  {
   "cell_type": "code",
   "execution_count": 7,
   "id": "62fc9ed8-6f60-4ef8-8f24-d47a0d147ddd",
   "metadata": {},
   "outputs": [
    {
     "data": {
      "text/plain": [
       "21000"
      ]
     },
     "execution_count": 7,
     "metadata": {},
     "output_type": "execute_result"
    }
   ],
   "source": [
    "ESR_search.adb6.chirp_rate()"
   ]
  },
  {
   "cell_type": "markdown",
   "id": "1e6d62bd-1095-413c-a4c2-c0a4947ab7e5",
   "metadata": {},
   "source": [
    "# Running the program in the quantify framework"
   ]
  },
  {
   "cell_type": "code",
   "execution_count": 8,
   "id": "717c2f91-40ac-48dd-8b29-da207946d4d8",
   "metadata": {},
   "outputs": [],
   "source": [
    "import quantify_core.data.handling as dh\n",
    "from quantify_core.measurement import MeasurementControl\n",
    "from quantify_core.visualization.pyqt_plotmon import PlotMonitor_pyqt"
   ]
  },
  {
   "cell_type": "markdown",
   "id": "6c2136ce-55e4-4009-bd07-2a00ceaff1c5",
   "metadata": {},
   "source": [
    "Specifying the path for the database containing results"
   ]
  },
  {
   "cell_type": "code",
   "execution_count": 9,
   "id": "6e48d424-a17e-42a6-ad54-a15e1c77bf9b",
   "metadata": {},
   "outputs": [
    {
     "name": "stdout",
     "output_type": "stream",
     "text": [
      "Data will be saved in:\n",
      "C:\\Users\\labuser\\quantify-data\n"
     ]
    }
   ],
   "source": [
    "dh.set_datadir()"
   ]
  },
  {
   "cell_type": "markdown",
   "id": "4ba0b435-553c-483b-aeaa-78ee6fda6ca8",
   "metadata": {},
   "source": [
    "Next we connect the physical OPX+ instrument to our program ... "
   ]
  },
  {
   "cell_type": "code",
   "execution_count": 10,
   "id": "939a5b9c-e9df-4cd5-b07d-66754960297d",
   "metadata": {},
   "outputs": [
    {
     "name": "stdout",
     "output_type": "stream",
     "text": [
      "2023-09-18 11:05:14,134 - qm - INFO     - Performing health check\n",
      "2023-09-18 11:05:14,177 - qm - INFO     - Health check passed\n",
      "2023-09-18 11:05:16,803 - qm - WARNING  - Open QM ended with warning 0: Opening a new Quantum Machine and closing existing identical Quantum Machine qm-1694999505283\n",
      "2023-09-18 11:05:16,805 - qm - WARNING  - Open QM ended with warning 0: Quantum Machine qm-1694999505283 is canceling running job 1684735462153.\n"
     ]
    }
   ],
   "source": [
    "ESR_search.connect_OPX(host_ip= '192.168.0.3')"
   ]
  },
  {
   "cell_type": "markdown",
   "id": "6457e997-4adb-460e-95cb-29eddd10b559",
   "metadata": {},
   "source": [
    "Instanciating `MeasurementControl`"
   ]
  },
  {
   "cell_type": "code",
   "execution_count": 11,
   "id": "5cdc08f4-2f35-48c0-a06f-3ea809e2d16e",
   "metadata": {},
   "outputs": [],
   "source": [
    "meas_ctrl = MeasurementControl('meas_ctrl')"
   ]
  },
  {
   "cell_type": "markdown",
   "id": "bbdf8d53-2d8e-4ed6-a8ec-5574feb854eb",
   "metadata": {},
   "source": [
    "Creating and connecting a `PlotMonitor` to our `MeasurementControl`"
   ]
  },
  {
   "cell_type": "code",
   "execution_count": 12,
   "id": "4ffeab2d-1892-4d5f-8289-bc34e7cc2572",
   "metadata": {},
   "outputs": [
    {
     "name": "stderr",
     "output_type": "stream",
     "text": [
      "C:\\Users\\labuser\\miniconda3\\envs\\temp2_env\\Lib\\site-packages\\quantify_core\\visualization\\pyqt_plotmon_remote.py:18: QCoDeSDeprecationWarning: The qcodes.plots is deprecated. Use \"qcodes_loop.plots\" as an alternative.\n",
      "  from qcodes.plots.colors import color_cycle\n",
      "C:\\Users\\labuser\\miniconda3\\envs\\temp2_env\\Lib\\site-packages\\quantify_core\\visualization\\pyqt_plotmon_remote.py:18: QCoDeSDeprecationWarning: The qcodes.plots.colors is deprecated. Use \"qcodes_loop.plots.colors\" as an alternative.\n",
      "  from qcodes.plots.colors import color_cycle\n",
      "C:\\Users\\labuser\\miniconda3\\envs\\temp2_env\\Lib\\site-packages\\qcodes\\plots\\pyqtgraph.py:17: QCoDeSDeprecationWarning: The qcodes.utils.qt_helpers module is deprecated. Use \"qcodes_loop.utils.qt_helpers\" as an alternative.\n",
      "  import qcodes.utils.qt_helpers\n",
      "C:\\Users\\labuser\\miniconda3\\envs\\temp2_env\\Lib\\site-packages\\quantify_core\\visualization\\pyqt_plotmon_remote.py:19: QCoDeSDeprecationWarning: The qcodes.plots.pyqtgraph is deprecated. Use \"qcodes_loop.plots.pyqtgraph\" as an alternative.\n",
      "  from qcodes.plots.pyqtgraph import QtPlot, TransformState\n"
     ]
    }
   ],
   "source": [
    "plotmon = PlotMonitor_pyqt(\"plotmon\")\n",
    "meas_ctrl.instr_plotmon(plotmon.name)"
   ]
  },
  {
   "cell_type": "markdown",
   "id": "f2bb55a8-1736-456f-bf84-f8a75dba261c",
   "metadata": {},
   "source": [
    "## How to measure: adiabatic ESR search"
   ]
  },
  {
   "cell_type": "markdown",
   "id": "a3228616-ca1c-4d56-8f7a-2a04ba90c4cc",
   "metadata": {},
   "source": [
    "So far so good, now fully set up our adiabatic ESR search. We have a init, control and readout sequence. Now we have to define parameters to sweep and to measure."
   ]
  },
  {
   "cell_type": "markdown",
   "id": "a4b78ceb-895f-4736-b463-d5e79c7f6724",
   "metadata": {},
   "source": [
    "Defining the frequency sweep list:"
   ]
  },
  {
   "cell_type": "code",
   "execution_count": 13,
   "id": "33c1099b-5613-42f3-9168-86c2f5fc0f21",
   "metadata": {},
   "outputs": [],
   "source": [
    "import numpy as np"
   ]
  },
  {
   "cell_type": "code",
   "execution_count": 14,
   "id": "f1924d33-eab7-43cb-a94f-3e86105b226d",
   "metadata": {},
   "outputs": [],
   "source": [
    "f_detune=np.arange(25e6,80e6,0.1e6, dtype = int)"
   ]
  },
  {
   "cell_type": "markdown",
   "id": "a9deeb69-d986-4993-b847-ba4cc086cfe7",
   "metadata": {},
   "source": [
    "Defining the parameters to be swept and adding setpoints to them. Also parameters to be recorded are added. In this case the measured state of SET 1 and 2"
   ]
  },
  {
   "cell_type": "code",
   "execution_count": 15,
   "id": "161e7ba6-5123-42e6-9dbd-0746b0a66b1e",
   "metadata": {},
   "outputs": [],
   "source": [
    "ESR_search.settables = [\n",
    "    ESR_search.adb6.IfQ1]\n",
    "ESR_search.setpoints_grid = [\n",
    "    f_detune]\n",
    "ESR_search.gettables = [\n",
    "    ESR_search.read6.diff_set1_state,\n",
    "    ESR_search.read6.diff_set2_state]"
   ]
  },
  {
   "cell_type": "markdown",
   "id": "2e34e487-a7f8-4586-9ff9-07dfbbc8e95c",
   "metadata": {},
   "source": [
    "Just defined values are automatically added to `meas_ctrl` by running `prepare_meas_ctrl`"
   ]
  },
  {
   "cell_type": "code",
   "execution_count": 16,
   "id": "58322e1d-1f16-4be1-9270-e114cd75b9cb",
   "metadata": {},
   "outputs": [
    {
     "name": "stdout",
     "output_type": "stream",
     "text": [
      "None\n"
     ]
    }
   ],
   "source": [
    "ESR_search.prepare_gettables()"
   ]
  },
  {
   "cell_type": "code",
   "execution_count": 17,
   "id": "632e84ad-9e09-4e13-89b9-bafc41c997b3",
   "metadata": {},
   "outputs": [
    {
     "name": "stdout",
     "output_type": "stream",
     "text": [
      "<Arrays, shape: (550,)>\n",
      "<Arrays, shape: (550,)>\n"
     ]
    }
   ],
   "source": [
    "ESR_search.prepare_meas_ctrl(meas_ctrl)"
   ]
  },
  {
   "cell_type": "markdown",
   "id": "3c99c8ea-59e7-4f02-a9b4-ea8e9d564b6f",
   "metadata": {},
   "source": [
    "... and run the job! Dont worry, the program will only run the first iteration and wait for us to retreive the result and only continue after that."
   ]
  },
  {
   "cell_type": "code",
   "execution_count": 18,
   "id": "77eb8430-0db2-488e-aebd-e1431a64096e",
   "metadata": {},
   "outputs": [],
   "source": [
    "#ESR_search.run()"
   ]
  },
  {
   "cell_type": "markdown",
   "id": "724909d5-aacb-40cc-994d-0ff8b265cb04",
   "metadata": {},
   "source": [
    "If all this is done, the actual measurement can be run! Check the taskbar for your plot monitor and see the buffered results come in."
   ]
  },
  {
   "cell_type": "code",
   "execution_count": 19,
   "id": "220bd818-94a6-426d-a8eb-3f4f63aa23c7",
   "metadata": {
    "scrolled": true
   },
   "outputs": [],
   "source": [
    "#meas_ctrl.run(\"adb_ESR_search\", soft_avg=100)"
   ]
  },
  {
   "cell_type": "markdown",
   "id": "526c0c0b-f3ee-4c60-a1ec-b257efc2e676",
   "metadata": {},
   "source": [
    "## How to measure: Rabi Chevron"
   ]
  },
  {
   "cell_type": "markdown",
   "id": "2e120aa2-ae36-4973-b95d-ac8be930790e",
   "metadata": {},
   "source": [
    "Sometimes we want to measure two dimensional parameter sweeps. This works very similarly to the 1D case. We just have to add a second settable a corresponding value array to the setpoints."
   ]
  },
  {
   "cell_type": "markdown",
   "id": "0a718dfc-85ff-4c7b-b095-c58f4b16edb8",
   "metadata": {},
   "source": [
    "But lets first create the sequence:"
   ]
  },
  {
   "cell_type": "code",
   "execution_count": 20,
   "id": "d58703e1-0068-4202-a764-114a1b6ebc06",
   "metadata": {},
   "outputs": [],
   "source": [
    "RabiChevron = Program('RabiChevron', sample = aurora)\n",
    "rabi6 = Rabi('rabi6')\n",
    "RabiChevron.add_subsequence(init6)\n",
    "RabiChevron.add_subsequence(rabi6)\n",
    "RabiChevron.add_subsequence(read6)"
   ]
  },
  {
   "cell_type": "code",
   "execution_count": 21,
   "id": "48569ce6-2c5a-4849-b7f1-0b4445047570",
   "metadata": {},
   "outputs": [
    {
     "name": "stdout",
     "output_type": "stream",
     "text": [
      "40\n",
      "38\n"
     ]
    }
   ],
   "source": [
    "f_detune=np.arange(32.2e6,34.2e6,0.05e6, dtype = int)\n",
    "print(len(f_detune))\n",
    "t_list = np.arange(4,30e3/4,200, dtype = int)\n",
    "print(len(t_list))"
   ]
  },
  {
   "cell_type": "code",
   "execution_count": 22,
   "id": "69198b9d-a686-4663-84ac-409ef935c697",
   "metadata": {},
   "outputs": [
    {
     "name": "stdout",
     "output_type": "stream",
     "text": [
      "2023-09-18 11:05:18,918 - qm - INFO     - Performing health check\n",
      "2023-09-18 11:05:18,939 - qm - INFO     - Health check passed\n",
      "<Arrays, shape: (1520,)>\n",
      "<Arrays, shape: (1520,)>\n",
      "<Arrays, shape: (1520,)>\n",
      "<Arrays, shape: (1520,)>\n"
     ]
    }
   ],
   "source": [
    "RabiChevron.settables = [\n",
    "    RabiChevron.rabi6.IfQ1,\n",
    "    RabiChevron.rabi6.tRabi]\n",
    "RabiChevron.setpoints_grid = [\n",
    "    f_detune,\n",
    "    t_list]\n",
    "RabiChevron.gettables = [\n",
    "    RabiChevron.read6.diff_set1_state,\n",
    "    RabiChevron.read6.diff_set2_state]\n",
    "\n",
    "RabiChevron.connect_OPX(host_ip= '192.168.0.3')\n",
    "RabiChevron.prepare_meas_ctrl(meas_ctrl)"
   ]
  },
  {
   "cell_type": "code",
   "execution_count": 23,
   "id": "ce78567b-52ff-45d6-944d-6e908f41e347",
   "metadata": {},
   "outputs": [
    {
     "name": "stdout",
     "output_type": "stream",
     "text": [
      "Adding qua <class 'int'> variable for IfQ1\n",
      "Adding qua <class 'int'> variable for tRabi\n",
      "Adding qua sweep loop for tRabi\n",
      "Adding qua sweep loop for IfQ1\n"
     ]
    }
   ],
   "source": [
    "rabi_chev_program = RabiChevron.get_program()"
   ]
  },
  {
   "cell_type": "code",
   "execution_count": 24,
   "id": "1dcbc405-f78d-45c3-9ce9-e2ecf1c5cad1",
   "metadata": {},
   "outputs": [
    {
     "name": "stdout",
     "output_type": "stream",
     "text": [
      "<Arrays, shape: (1520,)>\n",
      "<Arrays, shape: (1520,)>\n",
      "<Arrays, shape: (1520,)>\n",
      "<Arrays, shape: (1520,)>\n"
     ]
    }
   ],
   "source": [
    "RabiChevron.prepare_meas_ctrl(meas_ctrl)"
   ]
  },
  {
   "cell_type": "code",
   "execution_count": 25,
   "id": "ea089596-369c-4df6-b739-fab0820d3c36",
   "metadata": {},
   "outputs": [
    {
     "name": "stdout",
     "output_type": "stream",
     "text": [
      "2023-09-18 11:05:22,646 - qm - INFO     - Sending program to QOP for compilation\n",
      "2023-09-18 11:05:57,641 - qm - INFO     - Executing program\n"
     ]
    }
   ],
   "source": [
    "RabiChevron.run(rabi_chev_program)"
   ]
  },
  {
   "cell_type": "code",
   "execution_count": 26,
   "id": "8a05e6ee-b633-40ec-bf4c-d6f60b595c57",
   "metadata": {},
   "outputs": [
    {
     "name": "stdout",
     "output_type": "stream",
     "text": [
      "Starting batched measurement...\n",
      "Iterative settable(s) [outer loop(s)]:\n",
      "\t --- (None) --- \n",
      "Batched settable(s):\n",
      "\t IfQ1, tRabi \n",
      "Batch size limit: 1520\n",
      "\n",
      "(40, 38)\n",
      "FETC 353 1520 diff_set1_state\n",
      "WAIT 353 1520\n",
      "WAIT 633 1520\n",
      "WAIT 991 1520\n",
      "WAIT 1206 1520\n",
      "READ 1520 1520\n",
      "2023-09-18 11:05:59,460 - qm - WARNING  - Fetching single result will always return the single value\n",
      "Buffersize (1520,)\n"
     ]
    },
    {
     "ename": "ValueError",
     "evalue": "('Shape of output is not consistent with setpoints. Output is shape (40, 38) and setpoints are shape (1520, 1520)', 'getting diff_set1_state')",
     "output_type": "error",
     "traceback": [
      "\u001b[1;31m---------------------------------------------------------------------------\u001b[0m",
      "\u001b[1;31mValueError\u001b[0m                                Traceback (most recent call last)",
      "Cell \u001b[1;32mIn[26], line 1\u001b[0m\n\u001b[1;32m----> 1\u001b[0m \u001b[43mmeas_ctrl\u001b[49m\u001b[38;5;241;43m.\u001b[39;49m\u001b[43mrun\u001b[49m\u001b[43m(\u001b[49m\u001b[38;5;124;43m\"\u001b[39;49m\u001b[38;5;124;43mRabiChevron\u001b[39;49m\u001b[38;5;124;43m\"\u001b[39;49m\u001b[43m,\u001b[49m\u001b[43m \u001b[49m\u001b[43msoft_avg\u001b[49m\u001b[38;5;241;43m=\u001b[39;49m\u001b[38;5;241;43m100\u001b[39;49m\u001b[43m)\u001b[49m\n",
      "File \u001b[1;32m~\\miniconda3\\envs\\temp2_env\\Lib\\site-packages\\quantify_core\\measurement\\control.py:361\u001b[0m, in \u001b[0;36mMeasurementControl.run\u001b[1;34m(self, name, soft_avg, lazy_set, save_data)\u001b[0m\n\u001b[0;32m    359\u001b[0m     \u001b[38;5;28;01mif\u001b[39;00m \u001b[38;5;28mself\u001b[39m\u001b[38;5;241m.\u001b[39mverbose():\n\u001b[0;32m    360\u001b[0m         \u001b[38;5;28mprint\u001b[39m(\u001b[38;5;124m\"\u001b[39m\u001b[38;5;124mStarting batched measurement...\u001b[39m\u001b[38;5;124m\"\u001b[39m)\n\u001b[1;32m--> 361\u001b[0m     \u001b[38;5;28;43mself\u001b[39;49m\u001b[38;5;241;43m.\u001b[39;49m\u001b[43m_run_batched\u001b[49m\u001b[43m(\u001b[49m\u001b[43m)\u001b[49m\n\u001b[0;32m    362\u001b[0m \u001b[38;5;28;01melse\u001b[39;00m:\n\u001b[0;32m    363\u001b[0m     \u001b[38;5;28;01mif\u001b[39;00m \u001b[38;5;28mself\u001b[39m\u001b[38;5;241m.\u001b[39mverbose():\n",
      "File \u001b[1;32m~\\miniconda3\\envs\\temp2_env\\Lib\\site-packages\\quantify_core\\measurement\\control.py:527\u001b[0m, in \u001b[0;36mMeasurementControl._run_batched\u001b[1;34m(self)\u001b[0m\n\u001b[0;32m    525\u001b[0m y_off \u001b[38;5;241m=\u001b[39m \u001b[38;5;241m0\u001b[39m\n\u001b[0;32m    526\u001b[0m \u001b[38;5;28;01mfor\u001b[39;00m gpar \u001b[38;5;129;01min\u001b[39;00m \u001b[38;5;28mself\u001b[39m\u001b[38;5;241m.\u001b[39m_gettable_pars:\n\u001b[1;32m--> 527\u001b[0m     new_data \u001b[38;5;241m=\u001b[39m \u001b[43mgpar\u001b[49m\u001b[38;5;241;43m.\u001b[39;49m\u001b[43mget\u001b[49m\u001b[43m(\u001b[49m\u001b[43m)\u001b[49m  \u001b[38;5;66;03m# can return (N, M)\u001b[39;00m\n\u001b[0;32m    528\u001b[0m     \u001b[38;5;66;03m# if we get a simple array, shape it to (1, M)\u001b[39;00m\n\u001b[0;32m    529\u001b[0m     \u001b[38;5;28;01mif\u001b[39;00m \u001b[38;5;28mlen\u001b[39m(np\u001b[38;5;241m.\u001b[39mshape(new_data)) \u001b[38;5;241m==\u001b[39m \u001b[38;5;241m1\u001b[39m:\n",
      "File \u001b[1;32m~\\miniconda3\\envs\\temp2_env\\Lib\\site-packages\\qcodes\\parameters\\parameter_base.py:583\u001b[0m, in \u001b[0;36mParameterBase._wrap_get.<locals>.get_wrapper\u001b[1;34m(*args, **kwargs)\u001b[0m\n\u001b[0;32m    581\u001b[0m \u001b[38;5;28;01mexcept\u001b[39;00m \u001b[38;5;167;01mException\u001b[39;00m \u001b[38;5;28;01mas\u001b[39;00m e:\n\u001b[0;32m    582\u001b[0m     e\u001b[38;5;241m.\u001b[39margs \u001b[38;5;241m=\u001b[39m e\u001b[38;5;241m.\u001b[39margs \u001b[38;5;241m+\u001b[39m (\u001b[38;5;124mf\u001b[39m\u001b[38;5;124m\"\u001b[39m\u001b[38;5;124mgetting \u001b[39m\u001b[38;5;132;01m{\u001b[39;00m\u001b[38;5;28mself\u001b[39m\u001b[38;5;132;01m}\u001b[39;00m\u001b[38;5;124m\"\u001b[39m,)\n\u001b[1;32m--> 583\u001b[0m     \u001b[38;5;28;01mraise\u001b[39;00m e\n",
      "File \u001b[1;32m~\\miniconda3\\envs\\temp2_env\\Lib\\site-packages\\qcodes\\parameters\\parameter_base.py:575\u001b[0m, in \u001b[0;36mParameterBase._wrap_get.<locals>.get_wrapper\u001b[1;34m(*args, **kwargs)\u001b[0m\n\u001b[0;32m    572\u001b[0m value \u001b[38;5;241m=\u001b[39m \u001b[38;5;28mself\u001b[39m\u001b[38;5;241m.\u001b[39m_from_raw_value_to_value(raw_value)\n\u001b[0;32m    574\u001b[0m \u001b[38;5;28;01mif\u001b[39;00m \u001b[38;5;28mself\u001b[39m\u001b[38;5;241m.\u001b[39m_validate_on_get:\n\u001b[1;32m--> 575\u001b[0m     \u001b[38;5;28;43mself\u001b[39;49m\u001b[38;5;241;43m.\u001b[39;49m\u001b[43mvalidate\u001b[49m\u001b[43m(\u001b[49m\u001b[43mvalue\u001b[49m\u001b[43m)\u001b[49m\n\u001b[0;32m    577\u001b[0m \u001b[38;5;28mself\u001b[39m\u001b[38;5;241m.\u001b[39mcache\u001b[38;5;241m.\u001b[39m_update_with(value\u001b[38;5;241m=\u001b[39mvalue, raw_value\u001b[38;5;241m=\u001b[39mraw_value)\n\u001b[0;32m    579\u001b[0m \u001b[38;5;28;01mreturn\u001b[39;00m value\n",
      "File \u001b[1;32m~\\miniconda3\\envs\\temp2_env\\Lib\\site-packages\\qcodes\\parameters\\parameter_with_setpoints.py:153\u001b[0m, in \u001b[0;36mParameterWithSetpoints.validate\u001b[1;34m(self, value)\u001b[0m\n\u001b[0;32m    144\u001b[0m \u001b[38;5;250m\u001b[39m\u001b[38;5;124;03m\"\"\"\u001b[39;00m\n\u001b[0;32m    145\u001b[0m \u001b[38;5;124;03mOverwrites the standard ``validate`` method to also check the the\u001b[39;00m\n\u001b[0;32m    146\u001b[0m \u001b[38;5;124;03mparameter has consistent shape with its setpoints. This only makes\u001b[39;00m\n\u001b[1;32m   (...)\u001b[0m\n\u001b[0;32m    150\u001b[0m \u001b[38;5;124;03mArguments are passed to the super method\u001b[39;00m\n\u001b[0;32m    151\u001b[0m \u001b[38;5;124;03m\"\"\"\u001b[39;00m\n\u001b[0;32m    152\u001b[0m \u001b[38;5;28;01mif\u001b[39;00m \u001b[38;5;28misinstance\u001b[39m(\u001b[38;5;28mself\u001b[39m\u001b[38;5;241m.\u001b[39mvals, Arrays):\n\u001b[1;32m--> 153\u001b[0m     \u001b[38;5;28;43mself\u001b[39;49m\u001b[38;5;241;43m.\u001b[39;49m\u001b[43mvalidate_consistent_shape\u001b[49m\u001b[43m(\u001b[49m\u001b[43m)\u001b[49m\n\u001b[0;32m    154\u001b[0m \u001b[38;5;28msuper\u001b[39m()\u001b[38;5;241m.\u001b[39mvalidate(value)\n",
      "File \u001b[1;32m~\\miniconda3\\envs\\temp2_env\\Lib\\site-packages\\qcodes\\parameters\\parameter_with_setpoints.py:133\u001b[0m, in \u001b[0;36mParameterWithSetpoints.validate_consistent_shape\u001b[1;34m(self)\u001b[0m\n\u001b[0;32m    126\u001b[0m     \u001b[38;5;28;01mraise\u001b[39;00m \u001b[38;5;167;01mValueError\u001b[39;00m(\n\u001b[0;32m    127\u001b[0m         \u001b[38;5;124mf\u001b[39m\u001b[38;5;124m\"\u001b[39m\u001b[38;5;124mOne or more dimensions have unknown shape \u001b[39m\u001b[38;5;124m\"\u001b[39m\n\u001b[0;32m    128\u001b[0m         \u001b[38;5;124mf\u001b[39m\u001b[38;5;124m\"\u001b[39m\u001b[38;5;124mwhen comparing output: \u001b[39m\u001b[38;5;132;01m{\u001b[39;00moutput_shape\u001b[38;5;132;01m}\u001b[39;00m\u001b[38;5;124m to \u001b[39m\u001b[38;5;124m\"\u001b[39m\n\u001b[0;32m    129\u001b[0m         \u001b[38;5;124mf\u001b[39m\u001b[38;5;124m\"\u001b[39m\u001b[38;5;124msetpoints: \u001b[39m\u001b[38;5;132;01m{\u001b[39;00msetpoints_shape\u001b[38;5;132;01m}\u001b[39;00m\u001b[38;5;124m\"\u001b[39m\n\u001b[0;32m    130\u001b[0m     )\n\u001b[0;32m    132\u001b[0m \u001b[38;5;28;01mif\u001b[39;00m output_shape \u001b[38;5;241m!=\u001b[39m setpoints_shape:\n\u001b[1;32m--> 133\u001b[0m     \u001b[38;5;28;01mraise\u001b[39;00m \u001b[38;5;167;01mValueError\u001b[39;00m(\n\u001b[0;32m    134\u001b[0m         \u001b[38;5;124mf\u001b[39m\u001b[38;5;124m\"\u001b[39m\u001b[38;5;124mShape of output is not consistent with \u001b[39m\u001b[38;5;124m\"\u001b[39m\n\u001b[0;32m    135\u001b[0m         \u001b[38;5;124mf\u001b[39m\u001b[38;5;124m\"\u001b[39m\u001b[38;5;124msetpoints. Output is shape \u001b[39m\u001b[38;5;132;01m{\u001b[39;00moutput_shape\u001b[38;5;132;01m}\u001b[39;00m\u001b[38;5;124m and \u001b[39m\u001b[38;5;124m\"\u001b[39m\n\u001b[0;32m    136\u001b[0m         \u001b[38;5;124mf\u001b[39m\u001b[38;5;124m\"\u001b[39m\u001b[38;5;124msetpoints are shape \u001b[39m\u001b[38;5;132;01m{\u001b[39;00msetpoints_shape\u001b[38;5;132;01m}\u001b[39;00m\u001b[38;5;124m\"\u001b[39m\n\u001b[0;32m    137\u001b[0m     )\n\u001b[0;32m    138\u001b[0m LOG\u001b[38;5;241m.\u001b[39mdebug(\n\u001b[0;32m    139\u001b[0m     \u001b[38;5;124mf\u001b[39m\u001b[38;5;124m\"\u001b[39m\u001b[38;5;124mFor parameter \u001b[39m\u001b[38;5;132;01m{\u001b[39;00m\u001b[38;5;28mself\u001b[39m\u001b[38;5;241m.\u001b[39mfull_name\u001b[38;5;132;01m}\u001b[39;00m\u001b[38;5;124m verified \u001b[39m\u001b[38;5;124m\"\u001b[39m\n\u001b[0;32m    140\u001b[0m     \u001b[38;5;124mf\u001b[39m\u001b[38;5;124m\"\u001b[39m\u001b[38;5;124mthat \u001b[39m\u001b[38;5;132;01m{\u001b[39;00moutput_shape\u001b[38;5;132;01m}\u001b[39;00m\u001b[38;5;124m matches \u001b[39m\u001b[38;5;132;01m{\u001b[39;00msetpoints_shape\u001b[38;5;132;01m}\u001b[39;00m\u001b[38;5;124m\"\u001b[39m\n\u001b[0;32m    141\u001b[0m )\n",
      "\u001b[1;31mValueError\u001b[0m: ('Shape of output is not consistent with setpoints. Output is shape (40, 38) and setpoints are shape (1520, 1520)', 'getting diff_set1_state')"
     ]
    }
   ],
   "source": [
    "meas_ctrl.run(\"RabiChevron\", soft_avg=100)"
   ]
  },
  {
   "cell_type": "code",
   "execution_count": null,
   "id": "7fadc86a-9939-4697-9ccd-c1461795307b",
   "metadata": {},
   "outputs": [],
   "source": [
    "tuple([np.prod( [len(x) for x in RabiChevron.setpoints_grid])])"
   ]
  },
  {
   "cell_type": "code",
   "execution_count": null,
   "id": "78c77f5d-2dc3-4244-baa1-e664f4fb826b",
   "metadata": {},
   "outputs": [],
   "source": [
    "for x in ESR_search.setpoints_grid:\n",
    "    print(len(x))"
   ]
  },
  {
   "cell_type": "code",
   "execution_count": null,
   "id": "493eb470-b3ea-49db-a411-eb57e4579088",
   "metadata": {},
   "outputs": [],
   "source": [
    "a = [ len(x) for x in RabiChevron.setpoints_grid]"
   ]
  },
  {
   "cell_type": "code",
   "execution_count": null,
   "id": "1df5cff7-ac62-496f-8f0d-430786173968",
   "metadata": {},
   "outputs": [],
   "source": [
    "np.prod(a)"
   ]
  },
  {
   "cell_type": "code",
   "execution_count": null,
   "id": "61c3f4a6-6088-41fb-8de2-bd8384639bb9",
   "metadata": {},
   "outputs": [],
   "source": [
    "u = [len(x) for x in RabiChevron.setpoints_grid]"
   ]
  },
  {
   "cell_type": "code",
   "execution_count": null,
   "id": "d5511434-1934-4458-9170-a6ecef367109",
   "metadata": {},
   "outputs": [],
   "source": [
    "[np.prod(u)]"
   ]
  },
  {
   "cell_type": "code",
   "execution_count": null,
   "id": "cfba1e87-6d13-46be-b285-fc9faad0049f",
   "metadata": {},
   "outputs": [],
   "source": []
  }
 ],
 "metadata": {
  "kernelspec": {
   "display_name": "temp2_env",
   "language": "python",
   "name": "temp2_env"
  },
  "language_info": {
   "codemirror_mode": {
    "name": "ipython",
    "version": 3
   },
   "file_extension": ".py",
   "mimetype": "text/x-python",
   "name": "python",
   "nbconvert_exporter": "python",
   "pygments_lexer": "ipython3",
   "version": "3.11.4"
  }
 },
 "nbformat": 4,
 "nbformat_minor": 5
}
