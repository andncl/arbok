{
 "cells": [
  {
   "cell_type": "markdown",
   "id": "7cac913e-5162-4408-8d93-69d2aab58627",
   "metadata": {},
   "source": [
    "# QCoDeS instrument control"
   ]
  },
  {
   "cell_type": "markdown",
   "id": "d0f198cd-ae1c-4704-b849-83cb0c9c38d2",
   "metadata": {},
   "source": [
    "Generic imports:"
   ]
  },
  {
   "cell_type": "code",
   "execution_count": 1,
   "id": "8aaef551-3de3-44d4-bc1a-331e2cb39cb1",
   "metadata": {},
   "outputs": [],
   "source": [
    "import time\n",
    "from pprint import pprint\n",
    "import numpy as np\n",
    "import matplotlib.pyplot as plt"
   ]
  },
  {
   "cell_type": "markdown",
   "id": "834d0716-334a-4dce-9448-4506d437e089",
   "metadata": {},
   "source": [
    "Import python VISA (Virtual instrument software architecture) API. VISA is a communication standard to connect intruments via USB, GPIB, serial ports etc."
   ]
  },
  {
   "cell_type": "code",
   "execution_count": 2,
   "id": "5cc0f35e-741a-452b-8cf5-5baf8539bfae",
   "metadata": {},
   "outputs": [],
   "source": [
    "import pyvisa\n",
    "from pyvisa import VisaIOError\n",
    "from gpib_ctypes import make_default_gpib\n",
    "\n",
    "make_default_gpib()"
   ]
  },
  {
   "cell_type": "code",
   "execution_count": 3,
   "id": "ada73b01-168b-4645-8cfc-1a637566767a",
   "metadata": {},
   "outputs": [
    {
     "name": "stdout",
     "output_type": "stream",
     "text": [
      "('GPIB0::6::INSTR', 'GPIB0::15::INSTR', 'GPIB0::18::INSTR')\n"
     ]
    }
   ],
   "source": [
    "rm = pyvisa.ResourceManager('@py')\n",
    "print(rm.list_resources())"
   ]
  },
  {
   "cell_type": "markdown",
   "id": "a94d9877-0490-444b-b4bd-5abd102f535b",
   "metadata": {},
   "source": [
    "### Importing QCoDeS drivers and utilities"
   ]
  },
  {
   "cell_type": "code",
   "execution_count": 4,
   "id": "9f7c30c0-38fa-4813-a180-ed94b55186bf",
   "metadata": {},
   "outputs": [],
   "source": [
    "import qcodes as qc"
   ]
  },
  {
   "cell_type": "code",
   "execution_count": 5,
   "id": "d7cd2ea6-2fd4-431a-90ec-637aaf287a98",
   "metadata": {},
   "outputs": [],
   "source": [
    "from qcodes.instrument_drivers.agilent import Agilent34401A # MULTIMETER\n",
    "from qcodes.instrument_drivers.Keithley import Keithley2450 # SMU\n",
    "from qcodes.instrument_drivers.tektronix import TektronixAWG5208 # ARBITRARY WAVE GENERATOR\n",
    "from qcodes.instrument_drivers.stanford_research import SR860 # LOCK-IN AMPLIFIER\n",
    "from qcodes_contrib_drivers.drivers.StanfordResearchSystems.SIM928 import SIM928 # DC SOURCES"
   ]
  },
  {
   "cell_type": "code",
   "execution_count": 6,
   "id": "22a25624-69f5-4cf8-9624-929caccae85b",
   "metadata": {},
   "outputs": [],
   "source": [
    "from quantify_core.visualization.instrument_monitor import InstrumentMonitor"
   ]
  },
  {
   "cell_type": "code",
   "execution_count": 7,
   "id": "b309f478-9737-41bf-82ae-890ab1acc901",
   "metadata": {},
   "outputs": [],
   "source": [
    "insmon = InstrumentMonitor(\"InstrumentMonitor\")"
   ]
  },
  {
   "cell_type": "code",
   "execution_count": 8,
   "id": "1251c48b-de57-4cd9-8e38-90db7d379155",
   "metadata": {},
   "outputs": [
    {
     "name": "stdout",
     "output_type": "stream",
     "text": [
      "Connected to: HEWLETT-PACKARD 34401A (serial:0, firmware:10-5-2) in 0.13s\n",
      "Connected to: KEITHLEY INSTRUMENTS 2450 (serial:04116909, firmware:1.3.0s) in 0.13s\n",
      "Connected to: Stanford_Research_Systems SIM900 (serial:s/n105943, firmware:ver3.6) in 1.17s\n",
      "Connected to: TEKTRONIX AWG5208 (serial:B020335, firmware:FV:6.1.0054.0) in 0.08s\n",
      "Connected to: Stanford_Research_Systems SR860 (serial:003795, firmware:V1.51) in 0.07s\n"
     ]
    }
   ],
   "source": [
    "MM = Agilent34401A('Agilent34401A', 'GPIB0::15::INSTR')\n",
    "SMU = Keithley2450('Keithley2450', 'GPIB0::18::INSTR')\n",
    "DAC = SIM928('SIM928', 'GPIB0::6::INSTR')\n",
    "AWG = TektronixAWG5208('AWG5208', 'USB0::0x0699::0x0503::B020335::0::INSTR')\n",
    "LOCKIN = SR860('SR860', 'USB0::0xB506::0x2000::003795::0::INSTR')"
   ]
  },
  {
   "cell_type": "markdown",
   "id": "c8409f21-7156-4a82-9ccc-10f0613d4ec1",
   "metadata": {},
   "source": [
    "### Lock-in to AWG measurement"
   ]
  },
  {
   "cell_type": "code",
   "execution_count": 10,
   "id": "51a19ce1-7e57-48f5-a60d-c6d82bca5bdc",
   "metadata": {},
   "outputs": [],
   "source": [
    "qc.initialise_or_create_database_at(\"test_dbs/experiments_for_15_mins.db\")"
   ]
  },
  {
   "cell_type": "code",
   "execution_count": null,
   "id": "0245860a-7aa6-4750-8f25-48df76add061",
   "metadata": {},
   "outputs": [],
   "source": [
    "tutorial_exp = load_or_create_experiment(\n",
    "    experiment_name=\"tutorial_exp\",\n",
    "    sample_name=\"mock_sample_andi\"\n",
    ")"
   ]
  }
 ],
 "metadata": {
  "kernelspec": {
   "display_name": "temp_env",
   "language": "python",
   "name": "temp_env"
  },
  "language_info": {
   "codemirror_mode": {
    "name": "ipython",
    "version": 3
   },
   "file_extension": ".py",
   "mimetype": "text/x-python",
   "name": "python",
   "nbconvert_exporter": "python",
   "pygments_lexer": "ipython3",
   "version": "3.11.4"
  }
 },
 "nbformat": 4,
 "nbformat_minor": 5
}
