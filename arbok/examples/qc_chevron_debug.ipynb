{
 "cells": [
  {
   "cell_type": "markdown",
   "id": "005480dd-1ab9-4c32-b6a2-fde2678ec877",
   "metadata": {},
   "source": [
    "# Data acquisition in arbok"
   ]
  },
  {
   "cell_type": "markdown",
   "id": "7eea0c96-44ad-418c-bd9c-efcfaf5071fb",
   "metadata": {},
   "source": [
    "### Arbok module imports"
   ]
  },
  {
   "cell_type": "code",
   "execution_count": 1,
   "id": "aff1ac20-db58-4c15-a088-822d63613bae",
   "metadata": {
    "jp-MarkdownHeadingCollapsed": true
   },
   "outputs": [
    {
     "name": "stdout",
     "output_type": "stream",
     "text": [
      "2023-09-18 10:25:48,679 - qm - INFO     - Starting session: f463f5a2-f0ce-46a2-9200-e491e9555cdb\n"
     ]
    }
   ],
   "source": [
    "import numpy as np\n",
    "from arbok.samples.aurora.configs.aurora_qua_config import aurora_qua_config\n",
    "from arbok.core.program import Program\n",
    "from arbok.core.sample import Sample"
   ]
  },
  {
   "cell_type": "markdown",
   "id": "b83f8e16-346f-4192-adca-7307a313ac79",
   "metadata": {},
   "source": [
    "Instanciating sample and measurement objects"
   ]
  },
  {
   "cell_type": "code",
   "execution_count": 2,
   "id": "be43f407-3a42-4468-aa84-862398e4cd3f",
   "metadata": {},
   "outputs": [],
   "source": [
    "aurora = Sample('aurora', aurora_qua_config)\n",
    "ESR_search = Program('ESR_search', sample = aurora)"
   ]
  },
  {
   "cell_type": "code",
   "execution_count": 3,
   "id": "4f43b9c7-466c-4b64-a1b8-e000606931bc",
   "metadata": {},
   "outputs": [],
   "source": [
    "from arbok.samples.aurora.configs.aurora_qua_config import aurora_qua_config\n",
    "\n",
    "from arbok.samples.aurora.initialization.odd_6_dot_init import InitOdd6dot\n",
    "from arbok.samples.aurora.control.rabi import Rabi\n",
    "from arbok.samples.aurora.readout.psb_6_dot_read import PSB6dotRead"
   ]
  },
  {
   "cell_type": "markdown",
   "id": "6ecc773a-d2af-4f22-a068-de3817bfa645",
   "metadata": {},
   "source": [
    "Creating Subsequences and adding them to the measurement object `ESR_search`"
   ]
  },
  {
   "cell_type": "markdown",
   "id": "115a02b2-3dd9-4612-b5f2-3947d09a0b35",
   "metadata": {},
   "source": [
    "## Rabi chevron sequence creation"
   ]
  },
  {
   "cell_type": "code",
   "execution_count": 4,
   "id": "09747bb6-d302-4ae6-9716-3b67438d16b3",
   "metadata": {},
   "outputs": [],
   "source": [
    "init6 = InitOdd6dot('init6')\n",
    "read6 = PSB6dotRead('read6')\n",
    "rabi6 = Rabi('rabi6')"
   ]
  },
  {
   "cell_type": "code",
   "execution_count": 5,
   "id": "d58703e1-0068-4202-a764-114a1b6ebc06",
   "metadata": {},
   "outputs": [],
   "source": [
    "RabiChevron = Program('RabiChevron', sample = aurora)\n",
    "\n",
    "RabiChevron.add_subsequence(init6)\n",
    "RabiChevron.add_subsequence(rabi6)\n",
    "RabiChevron.add_subsequence(read6)"
   ]
  },
  {
   "cell_type": "code",
   "execution_count": 6,
   "id": "48569ce6-2c5a-4849-b7f1-0b4445047570",
   "metadata": {},
   "outputs": [
    {
     "name": "stdout",
     "output_type": "stream",
     "text": [
      "40\n",
      "38\n"
     ]
    }
   ],
   "source": [
    "f_detune=np.arange(32.2e6,34.2e6,0.05e6, dtype = int)\n",
    "print(len(f_detune))\n",
    "t_list = np.arange(4,30e3/4,200, dtype = int)\n",
    "print(len(t_list))"
   ]
  },
  {
   "cell_type": "code",
   "execution_count": 7,
   "id": "dc825c74-5f28-46f7-85d0-a25dd8d77f98",
   "metadata": {},
   "outputs": [
    {
     "name": "stdout",
     "output_type": "stream",
     "text": [
      "2023-09-18 10:25:49,358 - qm - INFO     - Performing health check\n",
      "2023-09-18 10:25:49,393 - qm - INFO     - Health check passed\n"
     ]
    }
   ],
   "source": [
    "RabiChevron.settables = [\n",
    "    RabiChevron.rabi6.IfQ1,\n",
    "    RabiChevron.rabi6.tRabi]\n",
    "RabiChevron.setpoints_grid = [\n",
    "    f_detune,\n",
    "    t_list]\n",
    "RabiChevron.gettables = [\n",
    "    RabiChevron.read6.diff_set1_state,\n",
    "    RabiChevron.read6.diff_set2_state]\n",
    "\n",
    "RabiChevron.connect_OPX(host_ip= '192.168.0.3')"
   ]
  },
  {
   "cell_type": "code",
   "execution_count": 8,
   "id": "dc0eb71a-9dbb-4dbe-8fc0-162a3f892e3f",
   "metadata": {},
   "outputs": [
    {
     "name": "stdout",
     "output_type": "stream",
     "text": [
      "Adding qua <class 'int'> variable for IfQ1\n",
      "Adding qua <class 'int'> variable for tRabi\n",
      "Adding qua sweep loop for tRabi\n",
      "Adding qua sweep loop for IfQ1\n"
     ]
    }
   ],
   "source": [
    "rabi_chevron_program = RabiChevron.get_program()"
   ]
  },
  {
   "cell_type": "code",
   "execution_count": 9,
   "id": "5c863ff1-0b46-47bf-a002-7144fe66f385",
   "metadata": {},
   "outputs": [
    {
     "data": {
      "text/plain": [
       "[<arbok.core.sequence_parameter.SequenceParameter: IfQ1 at 1432949671504>,\n",
       " <arbok.core.sequence_parameter.SequenceParameter: tRabi at 1432945123536>]"
      ]
     },
     "execution_count": 9,
     "metadata": {},
     "output_type": "execute_result"
    }
   ],
   "source": [
    "RabiChevron.settables"
   ]
  },
  {
   "cell_type": "code",
   "execution_count": 10,
   "id": "2bd09b6f-2256-40e7-9ef4-668bd548bb1b",
   "metadata": {},
   "outputs": [
    {
     "name": "stdout",
     "output_type": "stream",
     "text": [
      "<Arrays, shape: (40,)>\n",
      "<Arrays, shape: (40,)>\n",
      "<Arrays, shape: (38,)>\n",
      "<Arrays, shape: (38,)>\n"
     ]
    }
   ],
   "source": [
    "RabiChevron.prepare_gettables()"
   ]
  },
  {
   "cell_type": "code",
   "execution_count": 11,
   "id": "af6334d9-fb73-4054-bf0a-e1642f95f47c",
   "metadata": {},
   "outputs": [
    {
     "data": {
      "text/plain": [
       "<Arrays, shape: (40,)>"
      ]
     },
     "execution_count": 11,
     "metadata": {},
     "output_type": "execute_result"
    }
   ],
   "source": [
    "RabiChevron.rabi6.IfQ1.vals"
   ]
  },
  {
   "cell_type": "code",
   "execution_count": 12,
   "id": "c26d64dd-9329-4ddc-829a-5f7f784a9eb7",
   "metadata": {},
   "outputs": [
    {
     "data": {
      "text/plain": [
       "<Arrays, shape: (40,)>"
      ]
     },
     "execution_count": 12,
     "metadata": {},
     "output_type": "execute_result"
    }
   ],
   "source": [
    "RabiChevron.read6.diff_set2_state.setpoints[0].vals"
   ]
  },
  {
   "cell_type": "code",
   "execution_count": 13,
   "id": "bb30f857-c051-455d-a178-7014a949db41",
   "metadata": {},
   "outputs": [
    {
     "data": {
      "text/plain": [
       "<Arrays, shape: (40, 38)>"
      ]
     },
     "execution_count": 13,
     "metadata": {},
     "output_type": "execute_result"
    }
   ],
   "source": [
    "RabiChevron.read6.diff_set2_state.vals"
   ]
  },
  {
   "cell_type": "code",
   "execution_count": 14,
   "id": "767a8f20-02ad-4df0-9229-46c18d1ffcf0",
   "metadata": {},
   "outputs": [],
   "source": [
    "from qcodes.validators import Arrays\n",
    "setpoints_shape_list = []\n",
    "\n",
    "for sp in RabiChevron.read6.diff_set2_state.setpoints:\n",
    "    if not isinstance(sp.vals, Arrays):\n",
    "        raise ValueError(\n",
    "            f\"Can only validate shapes for parameters \"\n",
    "            f\"with Arrays validator. {sp.name} is \"\n",
    "            f\"a setpoint vector but does not have an \"\n",
    "            f\"Arrays validator\"\n",
    "        )\n",
    "    if sp.vals.shape_unevaluated is not None:\n",
    "        setpoints_shape_list.extend(sp.vals.shape_unevaluated)\n",
    "    else:\n",
    "        setpoints_shape_list.append(sp.vals.shape_unevaluated)"
   ]
  },
  {
   "cell_type": "code",
   "execution_count": 15,
   "id": "785bc9b3-8fe6-4478-ae9c-44b58dc940ce",
   "metadata": {},
   "outputs": [
    {
     "data": {
      "text/plain": [
       "[40, 38]"
      ]
     },
     "execution_count": 15,
     "metadata": {},
     "output_type": "execute_result"
    }
   ],
   "source": [
    "setpoints_shape_list"
   ]
  },
  {
   "cell_type": "code",
   "execution_count": 16,
   "id": "09c1d6c5-c560-49d3-9a34-5c2b27c7a868",
   "metadata": {},
   "outputs": [
    {
     "name": "stdout",
     "output_type": "stream",
     "text": [
      "2023-09-18 10:25:52,680 - qm - INFO     - Sending program to QOP for compilation\n",
      "2023-09-18 10:26:05,945 - qm - INFO     - Executing program\n"
     ]
    }
   ],
   "source": [
    "#RabiChevron.get_running_qm_job()\n",
    "RabiChevron.run(rabi_chevron_program)"
   ]
  },
  {
   "cell_type": "code",
   "execution_count": 17,
   "id": "26301a4a-d482-4129-984a-017d3332a775",
   "metadata": {},
   "outputs": [
    {
     "data": {
      "text/plain": [
       "<qm.jobs.qm_job.QmJob at 0x14da2c4ff50>"
      ]
     },
     "execution_count": 17,
     "metadata": {},
     "output_type": "execute_result"
    }
   ],
   "source": [
    "RabiChevron.opx.get_running_job()"
   ]
  },
  {
   "cell_type": "markdown",
   "id": "526c0c0b-f3ee-4c60-a1ec-b257efc2e676",
   "metadata": {},
   "source": [
    "## How to measure: Rabi Chevron"
   ]
  },
  {
   "cell_type": "code",
   "execution_count": 18,
   "id": "83f729d9-357b-4ec9-8dd0-3dccce3c0cae",
   "metadata": {},
   "outputs": [
    {
     "data": {
      "text/plain": [
       "<Arrays, shape: (40,)>"
      ]
     },
     "execution_count": 18,
     "metadata": {},
     "output_type": "execute_result"
    }
   ],
   "source": [
    "RabiChevron.read6.diff_set2_state.setpoints[0].vals"
   ]
  },
  {
   "cell_type": "code",
   "execution_count": 19,
   "id": "c5433260-0861-4789-9b20-276ded8d95da",
   "metadata": {},
   "outputs": [
    {
     "data": {
      "text/plain": [
       "[40, 38]"
      ]
     },
     "execution_count": 19,
     "metadata": {},
     "output_type": "execute_result"
    }
   ],
   "source": [
    "setpoints_shape_list"
   ]
  },
  {
   "cell_type": "markdown",
   "id": "661e72b6-df6d-4dc0-bb96-80246e02c749",
   "metadata": {},
   "source": [
    "##  Rabi Chevron in QCoDeS framework"
   ]
  },
  {
   "cell_type": "code",
   "execution_count": 20,
   "id": "83be90d1-5158-4abd-8619-f890e04837d5",
   "metadata": {},
   "outputs": [],
   "source": [
    "import os\n",
    "import qcodes as qc\n",
    "from qcodes.dataset import (\n",
    "    LinSweep,\n",
    "    Measurement,\n",
    "    dond,\n",
    "    experiments,\n",
    "    initialise_or_create_database_at,\n",
    "    load_by_run_spec,\n",
    "    load_or_create_experiment,\n",
    "    plot_dataset,\n",
    ")\n",
    "\n",
    "## Using interactive widget\n",
    "from qcodes.interactive_widget import experiments_widget\n",
    "\n",
    "## Dummy instruments for generating synthetic data\n",
    "from qcodes.tests.instrument_mocks import (\n",
    "    DummyInstrument,\n",
    "    DummyInstrumentWithMeasurement,\n",
    ")"
   ]
  },
  {
   "cell_type": "code",
   "execution_count": 21,
   "id": "835cc8fb-661f-4cd1-8592-c2a8a50e9b20",
   "metadata": {},
   "outputs": [
    {
     "data": {
      "text/plain": [
       "Rabi_Chevron#aurora#2@C:\\Users\\labuser\\GitRepos\\arbok\\arbok\\examples\\example_dbs\\experiments_for_15_mins.db\n",
       "-----------------------------------------------------------------------------------------------------------\n",
       "38-results-1-rabi6_IfQ1,rabi6_tRabi,diff_set1_state,diff_set2_state-0\n",
       "39-results-2-rabi6_IfQ1,rabi6_tRabi,diff_set1_state,diff_set2_state,iteration-0\n",
       "40-results-3-rabi6_IfQ1,rabi6_tRabi,diff_set1_state,diff_set2_state,RabiChevron_iteration-0"
      ]
     },
     "execution_count": 21,
     "metadata": {},
     "output_type": "execute_result"
    }
   ],
   "source": [
    "tutorial_db_path = os.path.join(os.getcwd(), \"example_dbs/experiments_for_15_mins.db\")\n",
    "initialise_or_create_database_at(tutorial_db_path)\n",
    "load_or_create_experiment(experiment_name='Rabi_Chevron', sample_name=\"aurora\")"
   ]
  },
  {
   "cell_type": "code",
   "execution_count": 22,
   "id": "5f8dd2cc-5e87-4096-8f7e-c9e8df4d2579",
   "metadata": {},
   "outputs": [
    {
     "name": "stdout",
     "output_type": "stream",
     "text": [
      "Logging hadn't been started.\n",
      "Activating auto-logging. Current session state plus future input saved.\n",
      "Filename       : C:\\Users\\labuser\\.qcodes\\logs\\command_history.log\n",
      "Mode           : append\n",
      "Output logging : True\n",
      "Raw input log  : False\n",
      "Timestamping   : True\n",
      "State          : active\n",
      "Qcodes Logfile : C:\\Users\\labuser\\.qcodes\\logs\\230918-12748-qcodes.log\n"
     ]
    }
   ],
   "source": [
    "qc.logger.start_all_logging()"
   ]
  },
  {
   "cell_type": "code",
   "execution_count": 23,
   "id": "cc3f595b-db08-40ef-b409-29e5d8ab8bd2",
   "metadata": {},
   "outputs": [
    {
     "data": {
      "text/plain": [
       "'C:\\\\Users\\\\labuser\\\\GitRepos\\\\arbok\\\\arbok\\\\examples\\\\example_dbs/experiments_for_15_mins.db'"
      ]
     },
     "execution_count": 23,
     "metadata": {},
     "output_type": "execute_result"
    }
   ],
   "source": [
    "qc.config.core.db_location"
   ]
  },
  {
   "cell_type": "code",
   "execution_count": 24,
   "id": "34c335ca-5dc5-4342-a135-5314e2a593ba",
   "metadata": {},
   "outputs": [
    {
     "data": {
      "text/plain": [
       "<BackgroundJob #0: <function main at 0x0000014DC4387740>>"
      ]
     },
     "execution_count": 24,
     "metadata": {},
     "output_type": "execute_result"
    }
   ],
   "source": [
    "import IPython.lib.backgroundjobs as bg\n",
    "from plottr.apps import inspectr\n",
    "\n",
    "jobs = bg.BackgroundJobManager()\n",
    "jobs.new(inspectr.main, qc.config.core.db_location)"
   ]
  },
  {
   "cell_type": "code",
   "execution_count": 25,
   "id": "45f61509-5044-4593-863a-08fcf8d61d8a",
   "metadata": {},
   "outputs": [],
   "source": [
    "meas = Measurement()\n",
    "# meas.register_parameter(a.spectrum)\n",
    "\n",
    "# with meas.run() as datasaver:\n",
    "#     datasaver.add_result((a.freq_axis, a.freq_axis()),\n",
    "#                          (a.spectrum, a.spectrum()))\n",
    "#     dataset = datasaver.dataset"
   ]
  },
  {
   "cell_type": "code",
   "execution_count": 27,
   "id": "1d4ee07a-48c9-441a-b12c-d6e8278b6642",
   "metadata": {},
   "outputs": [
    {
     "name": "stdout",
     "output_type": "stream",
     "text": [
      "FETC 3040 3040 diff_set2_state\n",
      "READ 3040 3040\n",
      "2023-09-18 10:26:48,898 - qm - WARNING  - Fetching single result will always return the single value\n",
      "Buffersize (1520,)\n"
     ]
    }
   ],
   "source": [
    "out = RabiChevron.read6.diff_set2_state.get()"
   ]
  },
  {
   "cell_type": "code",
   "execution_count": 29,
   "id": "d827d0ed-a849-4daa-a4e9-b1c5a03727ec",
   "metadata": {},
   "outputs": [
    {
     "data": {
      "text/plain": [
       "(40, 38)"
      ]
     },
     "execution_count": 29,
     "metadata": {},
     "output_type": "execute_result"
    }
   ],
   "source": [
    "out.shape"
   ]
  },
  {
   "cell_type": "code",
   "execution_count": null,
   "id": "bef69a5c-db1c-49eb-bc7e-0cab66b48892",
   "metadata": {},
   "outputs": [],
   "source": [
    "type()"
   ]
  },
  {
   "cell_type": "code",
   "execution_count": null,
   "id": "60d61d8c-eb7c-41e3-a743-e645edb14c49",
   "metadata": {},
   "outputs": [],
   "source": [
    "#RabiChevron.run_qc_measurement(meas, 100)"
   ]
  },
  {
   "cell_type": "code",
   "execution_count": null,
   "id": "5289b3c4-bc7a-42c5-a956-53806382740c",
   "metadata": {},
   "outputs": [],
   "source": [
    "x = tuple(len(x) for x in RabiChevron.setpoints_grid)"
   ]
  },
  {
   "cell_type": "code",
   "execution_count": null,
   "id": "7fd726aa-1b27-4f6f-9766-ade07664b754",
   "metadata": {},
   "outputs": [],
   "source": [
    "x"
   ]
  },
  {
   "cell_type": "code",
   "execution_count": null,
   "id": "ea3ef920-9f05-4096-be67-9f6ace512023",
   "metadata": {},
   "outputs": [],
   "source": []
  }
 ],
 "metadata": {
  "kernelspec": {
   "display_name": "temp2_env",
   "language": "python",
   "name": "temp2_env"
  },
  "language_info": {
   "codemirror_mode": {
    "name": "ipython",
    "version": 3
   },
   "file_extension": ".py",
   "mimetype": "text/x-python",
   "name": "python",
   "nbconvert_exporter": "python",
   "pygments_lexer": "ipython3",
   "version": "3.11.4"
  }
 },
 "nbformat": 4,
 "nbformat_minor": 5
}
