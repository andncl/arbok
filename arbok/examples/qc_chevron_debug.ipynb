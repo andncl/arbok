{
 "cells": [
  {
   "cell_type": "markdown",
   "id": "005480dd-1ab9-4c32-b6a2-fde2678ec877",
   "metadata": {},
   "source": [
    "# Data acquisition in arbok"
   ]
  },
  {
   "cell_type": "markdown",
   "id": "7eea0c96-44ad-418c-bd9c-efcfaf5071fb",
   "metadata": {},
   "source": [
    "### Arbok module imports"
   ]
  },
  {
   "cell_type": "code",
   "execution_count": 1,
   "id": "aff1ac20-db58-4c15-a088-822d63613bae",
   "metadata": {
    "jp-MarkdownHeadingCollapsed": true
   },
   "outputs": [
    {
     "name": "stdout",
     "output_type": "stream",
     "text": [
      "2023-09-19 16:34:01,092 - qm - INFO     - Starting session: 8bbb6368-bb56-4ab0-bf9a-4cfc2e6674cb\n"
     ]
    }
   ],
   "source": [
    "import numpy as np\n",
    "import matplotlib.pyplot as plt\n",
    "\n",
    "from arbok.samples.aurora.configs.aurora_qua_config import aurora_qua_config\n",
    "from arbok.core.program import Program\n",
    "from arbok.core.sample import Sample"
   ]
  },
  {
   "cell_type": "markdown",
   "id": "b83f8e16-346f-4192-adca-7307a313ac79",
   "metadata": {},
   "source": [
    "Instanciating sample and measurement objects"
   ]
  },
  {
   "cell_type": "code",
   "execution_count": 2,
   "id": "be43f407-3a42-4468-aa84-862398e4cd3f",
   "metadata": {},
   "outputs": [],
   "source": [
    "aurora = Sample('aurora', aurora_qua_config)\n",
    "ESR_search = Program('ESR_search', sample = aurora)"
   ]
  },
  {
   "cell_type": "code",
   "execution_count": 3,
   "id": "4f43b9c7-466c-4b64-a1b8-e000606931bc",
   "metadata": {},
   "outputs": [],
   "source": [
    "from arbok.samples.aurora.configs.aurora_qua_config import aurora_qua_config\n",
    "\n",
    "from arbok.samples.aurora.initialization.odd_6_dot_init import InitOdd6dot\n",
    "from arbok.samples.aurora.control.rabi import Rabi\n",
    "from arbok.samples.aurora.readout.psb_6_dot_read import PSB6dotRead"
   ]
  },
  {
   "cell_type": "markdown",
   "id": "6ecc773a-d2af-4f22-a068-de3817bfa645",
   "metadata": {},
   "source": [
    "Creating Subsequences and adding them to the measurement object `ESR_search`"
   ]
  },
  {
   "cell_type": "markdown",
   "id": "115a02b2-3dd9-4612-b5f2-3947d09a0b35",
   "metadata": {},
   "source": [
    "## Rabi chevron sequence creation"
   ]
  },
  {
   "cell_type": "code",
   "execution_count": 4,
   "id": "09747bb6-d302-4ae6-9716-3b67438d16b3",
   "metadata": {},
   "outputs": [],
   "source": [
    "init6 = InitOdd6dot('init6')\n",
    "read6 = PSB6dotRead('read6')\n",
    "rabi6 = Rabi('rabi6')"
   ]
  },
  {
   "cell_type": "code",
   "execution_count": 5,
   "id": "d58703e1-0068-4202-a764-114a1b6ebc06",
   "metadata": {},
   "outputs": [],
   "source": [
    "RabiChevron = Program('RabiChevron', sample = aurora)\n",
    "\n",
    "RabiChevron.add_subsequence(init6)\n",
    "RabiChevron.add_subsequence(rabi6)\n",
    "RabiChevron.add_subsequence(read6)"
   ]
  },
  {
   "cell_type": "code",
   "execution_count": 6,
   "id": "48569ce6-2c5a-4849-b7f1-0b4445047570",
   "metadata": {},
   "outputs": [
    {
     "name": "stdout",
     "output_type": "stream",
     "text": [
      "38\n",
      "50\n"
     ]
    }
   ],
   "source": [
    "f_detune=np.arange(33.25e6,34.2e6,0.025e6, dtype = int)\n",
    "print(len(f_detune))\n",
    "t_list = np.arange(4,30e3/4,150, dtype = int)\n",
    "print(len(t_list))"
   ]
  },
  {
   "cell_type": "code",
   "execution_count": 7,
   "id": "dc825c74-5f28-46f7-85d0-a25dd8d77f98",
   "metadata": {},
   "outputs": [
    {
     "name": "stdout",
     "output_type": "stream",
     "text": [
      "2023-09-19 16:34:01,565 - qm - INFO     - Performing health check\n",
      "2023-09-19 16:34:01,622 - qm - INFO     - Health check passed\n",
      "2023-09-19 16:34:05,180 - qm - WARNING  - Open QM ended with warning 0: Opening a new Quantum Machine and closing existing identical Quantum Machine qm-1695105296506\n",
      "2023-09-19 16:34:05,180 - qm - WARNING  - Open QM ended with warning 0: Quantum Machine qm-1695105296506 is canceling running job 1684735462264.\n"
     ]
    }
   ],
   "source": [
    "RabiChevron.settables = [\n",
    "    RabiChevron.rabi6.IfQ1,\n",
    "    RabiChevron.rabi6.tRabi]\n",
    "RabiChevron.setpoints_grid = [\n",
    "    f_detune,\n",
    "    t_list]\n",
    "RabiChevron.gettables = [\n",
    "    RabiChevron.read6.diff_set2_state]\n",
    "\n",
    "RabiChevron.connect_opx(host_ip= '192.168.0.3')"
   ]
  },
  {
   "cell_type": "code",
   "execution_count": 8,
   "id": "dc0eb71a-9dbb-4dbe-8fc0-162a3f892e3f",
   "metadata": {},
   "outputs": [
    {
     "name": "stdout",
     "output_type": "stream",
     "text": [
      "Adding qua <class 'int'> variable for IfQ1\n",
      "Adding qua <class 'int'> variable for tRabi\n",
      "Adding qua sweep loop for tRabi\n",
      "Adding qua sweep loop for IfQ1\n",
      "2023-09-19 16:34:06,178 - qm - INFO     - Sending program to QOP for compilation\n",
      "2023-09-19 16:34:35,879 - qm - INFO     - Executing program\n"
     ]
    }
   ],
   "source": [
    "rabi_chevron_program = RabiChevron.get_program()\n",
    "RabiChevron.run(rabi_chevron_program)"
   ]
  },
  {
   "cell_type": "code",
   "execution_count": 9,
   "id": "e4a9ee03-da13-49e1-877a-3220185b6b18",
   "metadata": {},
   "outputs": [
    {
     "name": "stdout",
     "output_type": "stream",
     "text": [
      "<Arrays, shape: (50,)>\n",
      "<Arrays, shape: (38,)>\n"
     ]
    }
   ],
   "source": [
    "RabiChevron.prepare_gettables()"
   ]
  },
  {
   "cell_type": "markdown",
   "id": "661e72b6-df6d-4dc0-bb96-80246e02c749",
   "metadata": {},
   "source": [
    "##  Rabi Chevron in QCoDeS framework"
   ]
  },
  {
   "cell_type": "code",
   "execution_count": 10,
   "id": "83be90d1-5158-4abd-8619-f890e04837d5",
   "metadata": {},
   "outputs": [],
   "source": [
    "import os\n",
    "import qcodes as qc\n",
    "from qcodes.dataset import (\n",
    "    Measurement,\n",
    "    initialise_or_create_database_at,\n",
    "    load_or_create_experiment,\n",
    "    plot_dataset,\n",
    ")"
   ]
  },
  {
   "cell_type": "code",
   "execution_count": 11,
   "id": "835cc8fb-661f-4cd1-8592-c2a8a50e9b20",
   "metadata": {
    "scrolled": true
   },
   "outputs": [
    {
     "data": {
      "text/plain": [
       "Rabi_Chevron#aurora#2@C:\\Users\\labuser\\GitRepos\\arbok\\arbok\\examples\\example_dbs\\experiments_for_15_mins.db\n",
       "-----------------------------------------------------------------------------------------------------------\n",
       "38-results-1-rabi6_IfQ1,rabi6_tRabi,diff_set1_state,diff_set2_state-0\n",
       "39-results-2-rabi6_IfQ1,rabi6_tRabi,diff_set1_state,diff_set2_state,iteration-0\n",
       "40-results-3-rabi6_IfQ1,rabi6_tRabi,diff_set1_state,diff_set2_state,RabiChevron_iteration-0\n",
       "41-results-4-rabi6_IfQ1,rabi6_tRabi,diff_set1_state,diff_set2_state,RabiChevron_iteration-141\n",
       "42-results-5-rabi6_IfQ1,rabi6_tRabi,diff_set1_state,diff_set2_state,RabiChevron_iteration-20\n",
       "43-results-6-rabi6_IfQ1,rabi6_tRabi,diff_set1_state,diff_set2_state,RabiChevron_iteration-20\n",
       "44-results-7-rabi6_IfQ1,rabi6_tRabi,RabiChevron_iteration,diff_set1_state,diff_set2_state-0\n",
       "45-results-8-rabi6_IfQ1,rabi6_tRabi,diff_set1_state,diff_set2_state,RabiChevron_iteration-20\n",
       "46-results-9-rabi6_IfQ1,rabi6_tRabi,diff_set1_state,diff_set2_state,RabiChevron_iteration-0\n",
       "47-results-10-rabi6_IfQ1,rabi6_tRabi,diff_set1_state,diff_set2_state,RabiChevron_iteration-20\n",
       "48-results-11-rabi6_IfQ1,rabi6_tRabi,diff_set1_state,diff_set2_state,RabiChevron_iteration-20\n",
       "49-results-12-rabi6_IfQ1,rabi6_tRabi,diff_set1_state,diff_set2_state,RabiChevron_iteration-30\n",
       "50-results-13-rabi6_IfQ1,rabi6_tRabi,diff_set1_state,diff_set2_state,RabiChevron_iteration-30\n",
       "51-results-14-rabi6_tRabi,rabi6_IfQ1,diff_set2_state,diff_set1_state,RabiChevron_iteration-30\n",
       "52-results-15-rabi6_tRabi,rabi6_IfQ1,diff_set2_state,diff_set1_state,RabiChevron_iteration-30\n",
       "53-results-16-rabi6_tRabi,rabi6_IfQ1,diff_set1_state,diff_set2_state-2\n",
       "54-results-17-rabi6_tRabi,rabi6_IfQ1,diff_set1_state,diff_set2_state-20\n",
       "55-results-18-rabi6_tRabi,rabi6_IfQ1,diff_set1_state,diff_set2_state-20\n",
       "56-results-19-rabi6_tRabi,rabi6_IfQ1,diff_set1_state,diff_set2_state-20\n",
       "57-results-20-rabi6_IfQ1,rabi6_tRabi,diff_set1_state,diff_set2_state-20\n",
       "58-results-21-rabi6_tRabi,rabi6_IfQ1,diff_set1_state,diff_set2_state-20\n",
       "59-results-22-rabi6_IfQ1,rabi6_tRabi,diff_set1_state,diff_set2_state-20\n",
       "60-results-23-None-0\n",
       "61-results-24-None-0\n",
       "62-results-25-None-0\n",
       "63-results-26-rabi6_IfQ1,rabi6_tRabi,diff_set1_state,diff_set2_state-2\n",
       "64-results-27-rabi6_IfQ1,rabi6_tRabi,diff_set2_state-1\n",
       "65-results-28-rabi6_IfQ1,rabi6_tRabi,diff_set2_state-1\n",
       "66-results-29-rabi6_IfQ1,rabi6_tRabi,diff_set2_state-10\n",
       "67-results-30-rabi6_IfQ1,rabi6_tRabi,diff_set2_state,RabiChevron_iteration-10\n",
       "68-results-31-rabi6_IfQ1,rabi6_tRabi,diff_set2_state,RabiChevron_iteration-10\n",
       "69-results-32-rabi6_IfQ1,rabi6_tRabi,diff_set2_state,RabiChevron_iteration-0\n",
       "70-results-33-RabiChevron_iteration,rabi6_IfQ1,rabi6_tRabi,diff_set2_state-0\n",
       "71-results-34-RabiChevron_iteration,rabi6_IfQ1,rabi6_tRabi,diff_set2_state-0\n",
       "72-results-35-RabiChevron_iteration,rabi6_tRabi,rabi6_IfQ1,diff_set2_state-0\n",
       "73-results-36-RabiChevron_iteration,rabi6_tRabi,rabi6_IfQ1,diff_set2_state-0\n",
       "74-results-37-rabi6_tRabi,rabi6_IfQ1,diff_set2_state-1\n",
       "75-results-38-RabiChevron_iteration,rabi6_tRabi,rabi6_IfQ1,diff_set2_state-10\n",
       "76-results-39-RabiChevron_iteration,rabi6_tRabi,rabi6_IfQ1,diff_set2_state-10\n",
       "77-results-40-RabiChevron_iteration,rabi6_tRabi,rabi6_IfQ1,diff_set2_state-203\n",
       "78-results-41-RabiChevron_iteration,rabi6_tRabi,rabi6_IfQ1,diff_set2_state-300\n",
       "79-results-42-RabiChevron_iteration,rabi6_IfQ1,rabi6_tRabi,diff_set2_state-300\n",
       "80-results-43-RabiChevron_iteration,rabi6_tRabi,rabi6_IfQ1,diff_set2_state-64\n",
       "81-results-44-RabiChevron_iteration,rabi6_tRabi,rabi6_IfQ1,diff_set2_state-70\n",
       "82-results-45-RabiChevron_iteration,rabi6_tRabi,rabi6_IfQ1,diff_set2_state-143\n",
       "83-results-46-RabiChevron_iteration,rabi6_tRabi,rabi6_IfQ1,diff_set2_state-111\n",
       "84-results-47-RabiChevron_iteration,rabi6_tRabi,rabi6_IfQ1,diff_set2_state-92\n",
       "85-results-48-RabiChevron_iteration,rabi6_tRabi,rabi6_IfQ1,diff_set2_state-182\n",
       "86-results-49-RabiChevron_iteration,rabi6_tRabi,rabi6_IfQ1,diff_set2_state-300\n",
       "87-results-50-RabiChevron_iteration,rabi6_tRabi,rabi6_IfQ1,diff_set2_state-28\n",
       "88-results-51-RabiChevron_iteration,rabi6_tRabi,rabi6_IfQ1,diff_set2_state-36\n",
       "89-results-52-RabiChevron_iteration,rabi6_tRabi,rabi6_IfQ1,diff_set2_state-59\n",
       "90-results-53-RabiChevron_iteration,rabi6_tRabi,rabi6_IfQ1,diff_set2_state-300\n",
       "91-results-54-RabiChevron_iteration,rabi6_tRabi,rabi6_IfQ1,diff_set2_state-4\n",
       "92-results-55-RabiChevron_iteration,rabi6_tRabi,rabi6_IfQ1,diff_set2_state-0"
      ]
     },
     "execution_count": 11,
     "metadata": {},
     "output_type": "execute_result"
    }
   ],
   "source": [
    "tutorial_db_path = os.path.join(os.getcwd(), \"example_dbs/experiments_for_15_mins.db\")\n",
    "initialise_or_create_database_at(tutorial_db_path)\n",
    "load_or_create_experiment(experiment_name='Rabi_Chevron', sample_name=\"aurora\")"
   ]
  },
  {
   "cell_type": "code",
   "execution_count": 12,
   "id": "5f8dd2cc-5e87-4096-8f7e-c9e8df4d2579",
   "metadata": {},
   "outputs": [
    {
     "name": "stdout",
     "output_type": "stream",
     "text": [
      "Logging hadn't been started.\n",
      "Activating auto-logging. Current session state plus future input saved.\n",
      "Filename       : C:\\Users\\labuser\\.qcodes\\logs\\command_history.log\n",
      "Mode           : append\n",
      "Output logging : True\n",
      "Raw input log  : False\n",
      "Timestamping   : True\n",
      "State          : active\n",
      "Qcodes Logfile : C:\\Users\\labuser\\.qcodes\\logs\\230919-45840-qcodes.log\n"
     ]
    }
   ],
   "source": [
    "qc.logger.start_all_logging()"
   ]
  },
  {
   "cell_type": "code",
   "execution_count": 13,
   "id": "34c335ca-5dc5-4342-a135-5314e2a593ba",
   "metadata": {},
   "outputs": [],
   "source": [
    "# import IPython.lib.backgroundjobs as bg\n",
    "# from plottr.apps import inspectr\n",
    "\n",
    "# jobs = bg.BackgroundJobManager()\n",
    "# jobs.new(inspectr.main, qc.config.core.db_location)"
   ]
  },
  {
   "cell_type": "code",
   "execution_count": 14,
   "id": "45f61509-5044-4593-863a-08fcf8d61d8a",
   "metadata": {},
   "outputs": [],
   "source": [
    "meas = Measurement()"
   ]
  },
  {
   "cell_type": "code",
   "execution_count": 15,
   "id": "dd387bbe-5ed0-4440-9752-18c3da8c65ee",
   "metadata": {},
   "outputs": [
    {
     "name": "stdout",
     "output_type": "stream",
     "text": [
      "2023-09-19 16:34:39,828 - qm - INFO     - Performing health check\n",
      "2023-09-19 16:34:40,711 - qm - INFO     - Health check passed\n",
      "Adding qua <class 'numpy.ndarray'> variable for tRabi\n",
      "Adding qua <class 'numpy.ndarray'> variable for IfQ1\n",
      "Adding qua sweep loop for IfQ1\n",
      "Adding qua sweep loop for tRabi\n",
      "2023-09-19 16:34:43,405 - qm - INFO     - Simulating program\n"
     ]
    },
    {
     "data": {
      "text/plain": [
       "<qm.jobs.simulated_job.SimulatedJob at 0x24846ba2050>"
      ]
     },
     "execution_count": 15,
     "metadata": {},
     "output_type": "execute_result"
    },
    {
     "data": {
      "image/png": "[encoded data removed]",
      "text/plain": [
       "<Figure size 640x480 with 2 Axes>"
      ]
     },
     "metadata": {},
     "output_type": "display_data"
    }
   ],
   "source": [
    "RabiChevron.run_remote_simulation(300)"
   ]
  },
  {
   "cell_type": "code",
   "execution_count": null,
   "id": "60d61d8c-eb7c-41e3-a743-e645edb14c49",
   "metadata": {},
   "outputs": [
    {
     "name": "stdout",
     "output_type": "stream",
     "text": [
      "Starting experimental run with id: 93. \n",
      "2023-09-19 16:34:56,294 - qm - WARNING  - Fetching single result will always return the single value\n",
      "2023-09-19 16:34:58,845 - qm - WARNING  - Fetching single result will always return the single value\n",
      "2023-09-19 16:35:01,071 - qm - WARNING  - Fetching single result will always return the single value\n",
      "2023-09-19 16:35:03,377 - qm - WARNING  - Fetching single result will always return the single value\n",
      "2023-09-19 16:35:05,664 - qm - WARNING  - Fetching single result will always return the single value\n",
      "2023-09-19 16:35:08,305 - qm - WARNING  - Fetching single result will always return the single value\n",
      "2023-09-19 16:35:10,604 - qm - WARNING  - Fetching single result will always return the single value\n",
      "2023-09-19 16:35:12,876 - qm - WARNING  - Fetching single result will always return the single value\n",
      "2023-09-19 16:35:14,662 - qm - WARNING  - Fetching single result will always return the single value\n",
      "2023-09-19 16:35:16,567 - qm - WARNING  - Fetching single result will always return the single value\n",
      "2023-09-19 16:35:18,616 - qm - WARNING  - Fetching single result will always return the single value\n",
      "2023-09-19 16:35:20,854 - qm - WARNING  - Fetching single result will always return the single value\n",
      "2023-09-19 16:35:22,776 - qm - WARNING  - Fetching single result will always return the single value\n",
      "2023-09-19 16:35:25,093 - qm - WARNING  - Fetching single result will always return the single value\n",
      "2023-09-19 16:35:27,288 - qm - WARNING  - Fetching single result will always return the single value\n",
      "2023-09-19 16:35:29,564 - qm - WARNING  - Fetching single result will always return the single value\n",
      "2023-09-19 16:35:31,648 - qm - WARNING  - Fetching single result will always return the single value\n",
      "2023-09-19 16:35:33,827 - qm - WARNING  - Fetching single result will always return the single value\n",
      "2023-09-19 16:35:35,908 - qm - WARNING  - Fetching single result will always return the single value\n",
      "2023-09-19 16:35:37,983 - qm - WARNING  - Fetching single result will always return the single value\n",
      "2023-09-19 16:35:39,988 - qm - WARNING  - Fetching single result will always return the single value\n",
      "2023-09-19 16:35:42,268 - qm - WARNING  - Fetching single result will always return the single value\n",
      "2023-09-19 16:35:44,348 - qm - WARNING  - Fetching single result will always return the single value\n",
      "2023-09-19 16:35:46,368 - qm - WARNING  - Fetching single result will always return the single value\n",
      "2023-09-19 16:35:48,659 - qm - WARNING  - Fetching single result will always return the single value\n",
      "2023-09-19 16:35:50,903 - qm - WARNING  - Fetching single result will always return the single value\n",
      "2023-09-19 16:35:52,952 - qm - WARNING  - Fetching single result will always return the single value\n",
      "2023-09-19 16:35:55,099 - qm - WARNING  - Fetching single result will always return the single value\n",
      "2023-09-19 16:35:57,264 - qm - WARNING  - Fetching single result will always return the single value\n",
      "2023-09-19 16:35:59,559 - qm - WARNING  - Fetching single result will always return the single value\n",
      "2023-09-19 16:36:01,871 - qm - WARNING  - Fetching single result will always return the single value\n",
      "2023-09-19 16:36:03,767 - qm - WARNING  - Fetching single result will always return the single value\n",
      "2023-09-19 16:36:05,915 - qm - WARNING  - Fetching single result will always return the single value\n",
      "2023-09-19 16:36:07,952 - qm - WARNING  - Fetching single result will always return the single value\n",
      "2023-09-19 16:36:10,323 - qm - WARNING  - Fetching single result will always return the single value\n",
      "2023-09-19 16:36:12,487 - qm - WARNING  - Fetching single result will always return the single value\n",
      "2023-09-19 16:36:14,791 - qm - WARNING  - Fetching single result will always return the single value\n",
      "2023-09-19 16:36:17,087 - qm - WARNING  - Fetching single result will always return the single value\n",
      "2023-09-19 16:36:19,471 - qm - WARNING  - Fetching single result will always return the single value\n",
      "2023-09-19 16:36:21,627 - qm - WARNING  - Fetching single result will always return the single value\n",
      "2023-09-19 16:36:23,887 - qm - WARNING  - Fetching single result will always return the single value\n",
      "2023-09-19 16:36:26,138 - qm - WARNING  - Fetching single result will always return the single value\n",
      "2023-09-19 16:36:28,238 - qm - WARNING  - Fetching single result will always return the single value\n",
      "2023-09-19 16:36:30,490 - qm - WARNING  - Fetching single result will always return the single value\n",
      "2023-09-19 16:36:32,502 - qm - WARNING  - Fetching single result will always return the single value\n",
      "2023-09-19 16:36:34,429 - qm - WARNING  - Fetching single result will always return the single value\n",
      "2023-09-19 16:36:36,355 - qm - WARNING  - Fetching single result will always return the single value\n",
      "2023-09-19 16:36:38,515 - qm - WARNING  - Fetching single result will always return the single value\n",
      "2023-09-19 16:36:40,699 - qm - WARNING  - Fetching single result will always return the single value\n",
      "2023-09-19 16:36:42,962 - qm - WARNING  - Fetching single result will always return the single value\n",
      "2023-09-19 16:36:45,114 - qm - WARNING  - Fetching single result will always return the single value\n",
      "2023-09-19 16:36:47,474 - qm - WARNING  - Fetching single result will always return the single value\n",
      "2023-09-19 16:36:49,662 - qm - WARNING  - Fetching single result will always return the single value\n",
      "2023-09-19 16:36:51,790 - qm - WARNING  - Fetching single result will always return the single value\n",
      "2023-09-19 16:36:53,930 - qm - WARNING  - Fetching single result will always return the single value\n",
      "2023-09-19 16:36:56,086 - qm - WARNING  - Fetching single result will always return the single value\n",
      "2023-09-19 16:36:58,254 - qm - WARNING  - Fetching single result will always return the single value\n",
      "2023-09-19 16:37:00,235 - qm - WARNING  - Fetching single result will always return the single value\n",
      "2023-09-19 16:37:02,405 - qm - WARNING  - Fetching single result will always return the single value\n",
      "2023-09-19 16:37:04,542 - qm - WARNING  - Fetching single result will always return the single value\n",
      "2023-09-19 16:37:06,761 - qm - WARNING  - Fetching single result will always return the single value\n",
      "2023-09-19 16:37:08,901 - qm - WARNING  - Fetching single result will always return the single value\n",
      "2023-09-19 16:37:11,029 - qm - WARNING  - Fetching single result will always return the single value\n",
      "2023-09-19 16:37:13,370 - qm - WARNING  - Fetching single result will always return the single value\n",
      "2023-09-19 16:37:15,553 - qm - WARNING  - Fetching single result will always return the single value\n",
      "2023-09-19 16:37:17,749 - qm - WARNING  - Fetching single result will always return the single value\n",
      "2023-09-19 16:37:19,873 - qm - WARNING  - Fetching single result will always return the single value\n",
      "2023-09-19 16:37:22,012 - qm - WARNING  - Fetching single result will always return the single value\n",
      "2023-09-19 16:37:24,010 - qm - WARNING  - Fetching single result will always return the single value\n",
      "2023-09-19 16:37:26,027 - qm - WARNING  - Fetching single result will always return the single value\n",
      "2023-09-19 16:37:28,158 - qm - WARNING  - Fetching single result will always return the single value\n",
      "2023-09-19 16:37:30,056 - qm - WARNING  - Fetching single result will always return the single value\n",
      "2023-09-19 16:37:31,985 - qm - WARNING  - Fetching single result will always return the single value\n",
      "2023-09-19 16:37:33,933 - qm - WARNING  - Fetching single result will always return the single value\n",
      "2023-09-19 16:37:35,985 - qm - WARNING  - Fetching single result will always return the single value\n",
      "2023-09-19 16:37:38,020 - qm - WARNING  - Fetching single result will always return the single value\n",
      "2023-09-19 16:37:40,017 - qm - WARNING  - Fetching single result will always return the single value\n",
      "2023-09-19 16:37:42,036 - qm - WARNING  - Fetching single result will always return the single value\n",
      "2023-09-19 16:37:44,201 - qm - WARNING  - Fetching single result will always return the single value\n",
      "2023-09-19 16:37:46,481 - qm - WARNING  - Fetching single result will always return the single value\n",
      "2023-09-19 16:37:48,777 - qm - WARNING  - Fetching single result will always return the single value\n",
      "2023-09-19 16:37:50,926 - qm - WARNING  - Fetching single result will always return the single value\n",
      "2023-09-19 16:37:52,824 - qm - WARNING  - Fetching single result will always return the single value\n",
      "2023-09-19 16:37:54,813 - qm - WARNING  - Fetching single result will always return the single value\n",
      "2023-09-19 16:37:57,173 - qm - WARNING  - Fetching single result will always return the single value\n",
      "2023-09-19 16:37:59,417 - qm - WARNING  - Fetching single result will always return the single value\n",
      "2023-09-19 16:38:01,624 - qm - WARNING  - Fetching single result will always return the single value\n",
      "2023-09-19 16:38:03,717 - qm - WARNING  - Fetching single result will always return the single value\n",
      "2023-09-19 16:38:05,857 - qm - WARNING  - Fetching single result will always return the single value\n",
      "2023-09-19 16:38:08,072 - qm - WARNING  - Fetching single result will always return the single value\n",
      "2023-09-19 16:38:10,416 - qm - WARNING  - Fetching single result will always return the single value\n",
      "2023-09-19 16:38:12,497 - qm - WARNING  - Fetching single result will always return the single value\n",
      "2023-09-19 16:38:14,537 - qm - WARNING  - Fetching single result will always return the single value\n",
      "2023-09-19 16:38:16,787 - qm - WARNING  - Fetching single result will always return the single value\n",
      "2023-09-19 16:38:19,011 - qm - WARNING  - Fetching single result will always return the single value\n",
      "2023-09-19 16:38:20,947 - qm - WARNING  - Fetching single result will always return the single value\n",
      "2023-09-19 16:38:23,127 - qm - WARNING  - Fetching single result will always return the single value\n",
      "2023-09-19 16:38:25,564 - qm - WARNING  - Fetching single result will always return the single value\n",
      "2023-09-19 16:38:27,847 - qm - WARNING  - Fetching single result will always return the single value\n",
      "2023-09-19 16:38:30,051 - qm - WARNING  - Fetching single result will always return the single value\n",
      "2023-09-19 16:38:32,260 - qm - WARNING  - Fetching single result will always return the single value\n",
      "2023-09-19 16:38:34,464 - qm - WARNING  - Fetching single result will always return the single value\n",
      "2023-09-19 16:38:36,671 - qm - WARNING  - Fetching single result will always return the single value\n",
      "2023-09-19 16:38:38,951 - qm - WARNING  - Fetching single result will always return the single value\n",
      "2023-09-19 16:38:41,379 - qm - WARNING  - Fetching single result will always return the single value\n",
      "2023-09-19 16:38:43,787 - qm - WARNING  - Fetching single result will always return the single value\n",
      "2023-09-19 16:38:46,159 - qm - WARNING  - Fetching single result will always return the single value\n",
      "2023-09-19 16:38:48,419 - qm - WARNING  - Fetching single result will always return the single value\n",
      "2023-09-19 16:38:50,623 - qm - WARNING  - Fetching single result will always return the single value\n",
      "2023-09-19 16:38:52,811 - qm - WARNING  - Fetching single result will always return the single value\n",
      "2023-09-19 16:38:54,679 - qm - WARNING  - Fetching single result will always return the single value\n",
      "2023-09-19 16:38:56,838 - qm - WARNING  - Fetching single result will always return the single value\n",
      "2023-09-19 16:38:59,359 - qm - WARNING  - Fetching single result will always return the single value\n",
      "2023-09-19 16:39:01,667 - qm - WARNING  - Fetching single result will always return the single value\n",
      "2023-09-19 16:39:03,875 - qm - WARNING  - Fetching single result will always return the single value\n",
      "2023-09-19 16:39:05,823 - qm - WARNING  - Fetching single result will always return the single value\n",
      "2023-09-19 16:39:07,875 - qm - WARNING  - Fetching single result will always return the single value\n",
      "2023-09-19 16:39:09,854 - qm - WARNING  - Fetching single result will always return the single value\n",
      "2023-09-19 16:39:12,011 - qm - WARNING  - Fetching single result will always return the single value\n",
      "2023-09-19 16:39:14,004 - qm - WARNING  - Fetching single result will always return the single value\n",
      "2023-09-19 16:39:16,042 - qm - WARNING  - Fetching single result will always return the single value\n",
      "2023-09-19 16:39:18,227 - qm - WARNING  - Fetching single result will always return the single value\n",
      "2023-09-19 16:39:20,466 - qm - WARNING  - Fetching single result will always return the single value\n",
      "2023-09-19 16:39:22,499 - qm - WARNING  - Fetching single result will always return the single value\n",
      "2023-09-19 16:39:24,686 - qm - WARNING  - Fetching single result will always return the single value\n",
      "2023-09-19 16:39:26,618 - qm - WARNING  - Fetching single result will always return the single value\n",
      "2023-09-19 16:39:28,759 - qm - WARNING  - Fetching single result will always return the single value\n",
      "2023-09-19 16:39:31,150 - qm - WARNING  - Fetching single result will always return the single value\n",
      "2023-09-19 16:39:33,546 - qm - WARNING  - Fetching single result will always return the single value\n",
      "2023-09-19 16:39:35,418 - qm - WARNING  - Fetching single result will always return the single value\n",
      "2023-09-19 16:39:37,709 - qm - WARNING  - Fetching single result will always return the single value\n",
      "2023-09-19 16:39:39,762 - qm - WARNING  - Fetching single result will always return the single value\n",
      "2023-09-19 16:39:41,882 - qm - WARNING  - Fetching single result will always return the single value\n",
      "2023-09-19 16:39:43,861 - qm - WARNING  - Fetching single result will always return the single value\n",
      "2023-09-19 16:39:45,889 - qm - WARNING  - Fetching single result will always return the single value\n",
      "2023-09-19 16:39:47,974 - qm - WARNING  - Fetching single result will always return the single value\n",
      "2023-09-19 16:39:50,359 - qm - WARNING  - Fetching single result will always return the single value\n",
      "2023-09-19 16:39:52,618 - qm - WARNING  - Fetching single result will always return the single value\n",
      "2023-09-19 16:39:54,919 - qm - WARNING  - Fetching single result will always return the single value\n",
      "2023-09-19 16:39:56,941 - qm - WARNING  - Fetching single result will always return the single value\n",
      "2023-09-19 16:39:59,049 - qm - WARNING  - Fetching single result will always return the single value\n",
      "2023-09-19 16:40:01,193 - qm - WARNING  - Fetching single result will always return the single value\n",
      "2023-09-19 16:40:03,285 - qm - WARNING  - Fetching single result will always return the single value\n",
      "2023-09-19 16:40:05,701 - qm - WARNING  - Fetching single result will always return the single value\n",
      "2023-09-19 16:40:07,849 - qm - WARNING  - Fetching single result will always return the single value\n",
      "2023-09-19 16:40:10,159 - qm - WARNING  - Fetching single result will always return the single value\n",
      "2023-09-19 16:40:12,465 - qm - WARNING  - Fetching single result will always return the single value\n",
      "2023-09-19 16:40:14,361 - qm - WARNING  - Fetching single result will always return the single value\n",
      "2023-09-19 16:40:16,784 - qm - WARNING  - Fetching single result will always return the single value\n",
      "2023-09-19 16:40:18,924 - qm - WARNING  - Fetching single result will always return the single value\n",
      "2023-09-19 16:40:20,977 - qm - WARNING  - Fetching single result will always return the single value\n",
      "2023-09-19 16:40:23,200 - qm - WARNING  - Fetching single result will always return the single value\n",
      "2023-09-19 16:40:25,460 - qm - WARNING  - Fetching single result will always return the single value\n",
      "2023-09-19 16:40:27,721 - qm - WARNING  - Fetching single result will always return the single value\n",
      "2023-09-19 16:40:29,796 - qm - WARNING  - Fetching single result will always return the single value\n",
      "2023-09-19 16:40:31,964 - qm - WARNING  - Fetching single result will always return the single value\n",
      "2023-09-19 16:40:34,260 - qm - WARNING  - Fetching single result will always return the single value\n",
      "2023-09-19 16:40:36,520 - qm - WARNING  - Fetching single result will always return the single value\n",
      "2023-09-19 16:40:38,812 - qm - WARNING  - Fetching single result will always return the single value\n",
      "2023-09-19 16:40:40,920 - qm - WARNING  - Fetching single result will always return the single value\n",
      "2023-09-19 16:40:43,160 - qm - WARNING  - Fetching single result will always return the single value\n",
      "2023-09-19 16:40:45,500 - qm - WARNING  - Fetching single result will always return the single value\n",
      "2023-09-19 16:40:47,608 - qm - WARNING  - Fetching single result will always return the single value\n",
      "2023-09-19 16:40:49,704 - qm - WARNING  - Fetching single result will always return the single value\n",
      "2023-09-19 16:40:51,761 - qm - WARNING  - Fetching single result will always return the single value\n",
      "2023-09-19 16:40:53,900 - qm - WARNING  - Fetching single result will always return the single value\n",
      "2023-09-19 16:40:55,891 - qm - WARNING  - Fetching single result will always return the single value\n",
      "2023-09-19 16:40:57,644 - qm - WARNING  - Fetching single result will always return the single value\n",
      "2023-09-19 16:40:59,767 - qm - WARNING  - Fetching single result will always return the single value\n",
      "2023-09-19 16:41:02,019 - qm - WARNING  - Fetching single result will always return the single value\n",
      "2023-09-19 16:41:03,968 - qm - WARNING  - Fetching single result will always return the single value\n",
      "2023-09-19 16:41:05,884 - qm - WARNING  - Fetching single result will always return the single value\n",
      "2023-09-19 16:41:07,864 - qm - WARNING  - Fetching single result will always return the single value\n",
      "2023-09-19 16:41:09,911 - qm - WARNING  - Fetching single result will always return the single value\n",
      "2023-09-19 16:41:11,995 - qm - WARNING  - Fetching single result will always return the single value\n",
      "2023-09-19 16:41:14,155 - qm - WARNING  - Fetching single result will always return the single value\n",
      "2023-09-19 16:41:16,292 - qm - WARNING  - Fetching single result will always return the single value\n",
      "2023-09-19 16:41:18,391 - qm - WARNING  - Fetching single result will always return the single value\n",
      "2023-09-19 16:41:20,795 - qm - WARNING  - Fetching single result will always return the single value\n",
      "2023-09-19 16:41:22,979 - qm - WARNING  - Fetching single result will always return the single value\n",
      "2023-09-19 16:41:26,078 - qm - WARNING  - Fetching single result will always return the single value\n",
      "2023-09-19 16:41:28,483 - qm - WARNING  - Fetching single result will always return the single value\n",
      "2023-09-19 16:41:30,590 - qm - WARNING  - Fetching single result will always return the single value\n",
      "2023-09-19 16:41:32,719 - qm - WARNING  - Fetching single result will always return the single value\n",
      "2023-09-19 16:41:35,055 - qm - WARNING  - Fetching single result will always return the single value\n",
      "2023-09-19 16:41:37,422 - qm - WARNING  - Fetching single result will always return the single value\n",
      "2023-09-19 16:41:39,779 - qm - WARNING  - Fetching single result will always return the single value\n",
      "2023-09-19 16:41:41,770 - qm - WARNING  - Fetching single result will always return the single value\n",
      "2023-09-19 16:41:43,971 - qm - WARNING  - Fetching single result will always return the single value\n",
      "2023-09-19 16:41:46,258 - qm - WARNING  - Fetching single result will always return the single value\n",
      "2023-09-19 16:41:48,659 - qm - WARNING  - Fetching single result will always return the single value\n",
      "2023-09-19 16:41:51,040 - qm - WARNING  - Fetching single result will always return the single value\n",
      "2023-09-19 16:41:53,094 - qm - WARNING  - Fetching single result will always return the single value\n",
      "2023-09-19 16:41:55,078 - qm - WARNING  - Fetching single result will always return the single value\n",
      "2023-09-19 16:41:56,906 - qm - WARNING  - Fetching single result will always return the single value\n",
      "2023-09-19 16:41:58,795 - qm - WARNING  - Fetching single result will always return the single value\n",
      "2023-09-19 16:42:00,997 - qm - WARNING  - Fetching single result will always return the single value\n",
      "2023-09-19 16:42:03,238 - qm - WARNING  - Fetching single result will always return the single value\n",
      "2023-09-19 16:42:05,187 - qm - WARNING  - Fetching single result will always return the single value\n",
      "2023-09-19 16:42:07,287 - qm - WARNING  - Fetching single result will always return the single value\n",
      "2023-09-19 16:42:09,362 - qm - WARNING  - Fetching single result will always return the single value\n",
      "2023-09-19 16:42:11,410 - qm - WARNING  - Fetching single result will always return the single value\n",
      "2023-09-19 16:42:13,345 - qm - WARNING  - Fetching single result will always return the single value\n",
      "2023-09-19 16:42:16,018 - qm - WARNING  - Fetching single result will always return the single value\n",
      "2023-09-19 16:42:18,134 - qm - WARNING  - Fetching single result will always return the single value\n"
     ]
    }
   ],
   "source": [
    "dataset = RabiChevron.run_qc_measurement(meas, shots=300)"
   ]
  }
 ],
 "metadata": {
  "kernelspec": {
   "display_name": "temp2_env",
   "language": "python",
   "name": "temp2_env"
  },
  "language_info": {
   "codemirror_mode": {
    "name": "ipython",
    "version": 3
   },
   "file_extension": ".py",
   "mimetype": "text/x-python",
   "name": "python",
   "nbconvert_exporter": "python",
   "pygments_lexer": "ipython3",
   "version": "3.11.4"
  }
 },
 "nbformat": 4,
 "nbformat_minor": 5
}
