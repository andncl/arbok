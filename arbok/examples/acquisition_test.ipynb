{
 "cells": [
  {
   "cell_type": "markdown",
   "id": "66676d17-8b12-4219-9e63-2d2c392fb74d",
   "metadata": {},
   "source": [
    "# Demo notebook showing arbok functionalities"
   ]
  },
  {
   "cell_type": "markdown",
   "id": "6ddd3d2f-407d-4cc1-bab6-f347ef036bf1",
   "metadata": {},
   "source": [
    "This is a simple demo notebook containing the core functionalities of arbok"
   ]
  },
  {
   "cell_type": "markdown",
   "id": "1eb3a010-7cd8-4d8e-825e-e00615c3dd1a",
   "metadata": {},
   "source": [
    "### Importing qm and arbok module"
   ]
  },
  {
   "cell_type": "code",
   "execution_count": 1,
   "id": "e4c1f0ef-8d28-4e8b-a648-1f46bb929720",
   "metadata": {},
   "outputs": [
    {
     "name": "stdout",
     "output_type": "stream",
     "text": [
      "2023-09-12 14:00:27,850 - qm - INFO     - Starting session: aed4c32b-7620-4ccb-ac0a-844543d688b5\n"
     ]
    }
   ],
   "source": [
    "from qm.qua import *\n",
    "from qm.QuantumMachinesManager import QuantumMachinesManager\n",
    "from qm.simulate.credentials import create_credentials\n",
    "from qm import SimulationConfig"
   ]
  },
  {
   "cell_type": "code",
   "execution_count": 2,
   "id": "44a36d4a-043e-46d6-a025-a883417c2cd6",
   "metadata": {},
   "outputs": [],
   "source": [
    "from arbok.core.sequence import Sequence\n",
    "from arbok.core.program import Program\n",
    "from arbok.core.sample import Sample\n",
    "\n",
    "from arbok.samples.sunshine.readout.up_down_read import UpDownReadout\n",
    "from arbok.samples.sunshine.initialization.mixed_down_up_init import (\n",
    "    MixedDownUpInit\n",
    ")\n",
    "from arbok.samples.sunshine.control.smart_Y import SmartY\n",
    "from arbok.samples.sunshine.control.smart_swap import SmartSwap\n",
    "from arbok.samples.sunshine.control.dummy_control import Square\n",
    "from arbok.samples.sunshine.configs.rf2v_config import rf2v_config"
   ]
  },
  {
   "cell_type": "markdown",
   "id": "60573607-0bbf-4fd2-b5aa-df0b2a128d60",
   "metadata": {},
   "source": [
    "### Instanciating Arbok modules"
   ]
  },
  {
   "cell_type": "markdown",
   "id": "6436a744-6f42-40a1-b159-a5c1300b4f23",
   "metadata": {},
   "source": [
    "Firstly we instanciate all `Sequence` objects that should build the entire \n",
    "measurement. Since we imported all sequences from the 'arbok.samples.sunshine' \n",
    "they already have the config for that specific sample"
   ]
  },
  {
   "cell_type": "code",
   "execution_count": 3,
   "id": "9fbcacb3-1a90-4118-bde3-defddd9be447",
   "metadata": {},
   "outputs": [],
   "source": [
    "smart_Y = SmartY('smartY')\n",
    "smart_swap12 = SmartSwap('smartSwap12')\n",
    "smart_swap23 = SmartSwap('smartSwap32')\n",
    "square = Square('square')\n",
    "duInit = MixedDownUpInit('duInit')\n",
    "stReadout = UpDownReadout('stReadout')"
   ]
  },
  {
   "cell_type": "markdown",
   "id": "41a4fd6b-fae0-4249-9490-6b5110444ea5",
   "metadata": {},
   "source": [
    "Next we create an empty `Sequence` class we call 'MEAS' that will structure all \n",
    "subsequeces. This time we need to pass a `Sample` since its a unconfigured \n",
    "sequence. We create second empty sequence to summarize all control sequences \n",
    "(everything happening before readout and after initialization). This is not\n",
    "mandatory but is helpfull if you want to simulate the entire qubit control part\n",
    "of the experiment."
   ]
  },
  {
   "cell_type": "code",
   "execution_count": 4,
   "id": "c97ccc67-815d-4414-8c15-f8629ae6c11e",
   "metadata": {},
   "outputs": [],
   "source": [
    "sunshine = Sample('sunshine', rf2v_config)"
   ]
  },
  {
   "cell_type": "code",
   "execution_count": 5,
   "id": "eaec7298-943c-4c52-8f3c-e1ddba4e0e2f",
   "metadata": {},
   "outputs": [],
   "source": [
    "MEAS = Program('MEAS', sample = sunshine)\n",
    "MEAS.stream_mode = \"pause_each\""
   ]
  },
  {
   "cell_type": "code",
   "execution_count": 6,
   "id": "f42fb6fd-19b8-4171-aabe-30bbc797ddb6",
   "metadata": {},
   "outputs": [
    {
     "name": "stdout",
     "output_type": "stream",
     "text": [
      "2023-09-12 14:00:28,494 - qm - INFO     - Performing health check\n",
      "2023-09-12 14:00:28,506 - qm - INFO     - Health check passed\n",
      "2023-09-12 14:00:29,244 - qm - WARNING  - Open QM ended with warning 0: Opening a new Quantum Machine and closing existing identical Quantum Machine qm-1694490019569\n",
      "2023-09-12 14:00:29,246 - qm - WARNING  - Open QM ended with warning 0: Quantum Machine qm-1694490019569 is canceling running job 1684735461981.\n"
     ]
    }
   ],
   "source": [
    "MEAS.connect_OPX(host_ip= '192.168.0.3')"
   ]
  },
  {
   "cell_type": "code",
   "execution_count": 7,
   "id": "309e45a9-6f3c-45e7-95a9-2ba7f48e9658",
   "metadata": {},
   "outputs": [],
   "source": [
    "CYY = Sequence('CYY', sample = sunshine)"
   ]
  },
  {
   "cell_type": "markdown",
   "id": "60e2c651-6638-4b90-b9b1-98a34127e0c5",
   "metadata": {},
   "source": [
    "Thus we add all sub-sequences responsible for qubit control in 'CYY' ..."
   ]
  },
  {
   "cell_type": "code",
   "execution_count": 8,
   "id": "c2f83543-ce4e-43dc-b244-b4276b9fe0bd",
   "metadata": {},
   "outputs": [],
   "source": [
    "CYY.add_subsequence(smart_swap12)\n",
    "CYY.add_subsequence(smart_Y)\n",
    "CYY.add_subsequence(smart_swap23)"
   ]
  },
  {
   "cell_type": "markdown",
   "id": "e0692be3-fffd-4c89-bf07-b950f187019c",
   "metadata": {},
   "source": [
    "... and finally add initialization, control and readout to the summarizing \n",
    "`Sequence`. "
   ]
  },
  {
   "cell_type": "code",
   "execution_count": 9,
   "id": "44c5b54f-90ad-49e0-ad67-278fa597f593",
   "metadata": {},
   "outputs": [],
   "source": [
    "MEAS.add_subsequence(duInit)\n",
    "MEAS.add_subsequence(CYY)\n",
    "MEAS.add_subsequence(square)\n",
    "MEAS.add_subsequence(stReadout)"
   ]
  },
  {
   "cell_type": "code",
   "execution_count": 10,
   "id": "ad51a037-abea-4d5c-98b5-9c6b4f4405af",
   "metadata": {},
   "outputs": [
    {
     "name": "stdout",
     "output_type": "stream",
     "text": [
      "100 10\n"
     ]
    }
   ],
   "source": [
    "amp_range =  np.arange(0.01, 1.01, 0.01)\n",
    "time_range =  np.arange(4, 104, 10, dtype=int)\n",
    "print( len(amp_range) , len(time_range))"
   ]
  },
  {
   "cell_type": "code",
   "execution_count": 11,
   "id": "816f1c2e-bbb4-405c-8a86-99b28de48a31",
   "metadata": {},
   "outputs": [],
   "source": [
    "MEAS.settables = [MEAS.square.amp, MEAS.square.tSquare]\n",
    "#MEAS.settables = [MEAS.square.tSquare]\n",
    "MEAS.setpoints_grid = [ amp_range , time_range]"
   ]
  },
  {
   "cell_type": "code",
   "execution_count": 12,
   "id": "0f5a305e-730f-4d80-bd50-3701cd290561",
   "metadata": {},
   "outputs": [
    {
     "name": "stdout",
     "output_type": "stream",
     "text": [
      "STREAMING\n",
      "2023-09-12 14:00:29,940 - qm - INFO     - Sending program to QOP for compilation\n",
      "2023-09-12 14:00:31,665 - qm - INFO     - Executing program\n"
     ]
    }
   ],
   "source": [
    "MEAS.run()"
   ]
  },
  {
   "cell_type": "code",
   "execution_count": 13,
   "id": "2211d51d-8457-47fb-acde-aa800829d6e1",
   "metadata": {
    "scrolled": true
   },
   "outputs": [
    {
     "data": {
      "text/plain": [
       "True"
      ]
     },
     "execution_count": 13,
     "metadata": {},
     "output_type": "execute_result"
    }
   ],
   "source": [
    "MEAS.qm_job.is_paused()"
   ]
  },
  {
   "cell_type": "code",
   "execution_count": 14,
   "id": "c94b2448-04b1-4915-9437-c87a95fed284",
   "metadata": {},
   "outputs": [
    {
     "data": {
      "text/plain": [
       "-1"
      ]
     },
     "execution_count": 14,
     "metadata": {},
     "output_type": "execute_result"
    }
   ],
   "source": [
    "MEAS.qm_job.result_handles.diff_state.count_so_far()"
   ]
  },
  {
   "cell_type": "code",
   "execution_count": 15,
   "id": "366f2094-b196-4c8b-823d-4c4015779dbb",
   "metadata": {},
   "outputs": [
    {
     "data": {
      "text/plain": [
       "{'ref2_read_I': <arbok.core.sequence_parameter.GettableParameter at 0x286411d1750>,\n",
       " 'ref2_read_Q': <arbok.core.sequence_parameter.GettableParameter at 0x28640f21150>,\n",
       " 'ref2_read': <arbok.core.sequence_parameter.GettableParameter at 0x286411d1850>,\n",
       " 'ref2_chopRef': <arbok.core.sequence_parameter.GettableParameter at 0x286411d1910>,\n",
       " 'ref2_state': <arbok.core.sequence_parameter.GettableParameter at 0x286411d1990>,\n",
       " 'read_read_I': <arbok.core.sequence_parameter.GettableParameter at 0x286411d1a10>,\n",
       " 'read_read_Q': <arbok.core.sequence_parameter.GettableParameter at 0x28640cd1790>,\n",
       " 'read_read': <arbok.core.sequence_parameter.GettableParameter at 0x286411d1ad0>,\n",
       " 'read_chopRef': <arbok.core.sequence_parameter.GettableParameter at 0x286411d1b50>,\n",
       " 'read_state': <arbok.core.sequence_parameter.GettableParameter at 0x28640cd1650>,\n",
       " 'diff_read_I': <arbok.core.sequence_parameter.GettableParameter at 0x286411d1c10>,\n",
       " 'diff_read_Q': <arbok.core.sequence_parameter.GettableParameter at 0x286411d1c90>,\n",
       " 'diff_read': <arbok.core.sequence_parameter.GettableParameter at 0x286411d1d10>,\n",
       " 'diff_chopRef': <arbok.core.sequence_parameter.GettableParameter at 0x286411d1d90>,\n",
       " 'diff_state': <arbok.core.sequence_parameter.GettableParameter at 0x286411d1e10>}"
      ]
     },
     "execution_count": 15,
     "metadata": {},
     "output_type": "execute_result"
    }
   ],
   "source": [
    "MEAS.stReadout.gettables"
   ]
  },
  {
   "cell_type": "code",
   "execution_count": 16,
   "id": "38a5cf57-72ab-4689-80cb-5e4dec74a8ef",
   "metadata": {
    "scrolled": true
   },
   "outputs": [],
   "source": [
    "#while MEAS.result_handles.is_processing():\n",
    "    #print(MEAS.stReadout.diff_state.get())\n",
    "    #print(MEAS.stReadout.ref2_read_I.get())"
   ]
  },
  {
   "cell_type": "markdown",
   "id": "8e57b666-fac4-49d4-9207-bc4fab3c15a5",
   "metadata": {},
   "source": [
    "### Now putting everything in quantify"
   ]
  },
  {
   "cell_type": "code",
   "execution_count": 17,
   "id": "717c2f91-40ac-48dd-8b29-da207946d4d8",
   "metadata": {},
   "outputs": [],
   "source": [
    "import quantify_core.data.handling as dh\n",
    "from quantify_core.measurement import MeasurementControl\n",
    "from quantify_core.visualization.pyqt_plotmon import PlotMonitor_pyqt"
   ]
  },
  {
   "cell_type": "code",
   "execution_count": 18,
   "id": "b33b3a9f-d636-45ec-acb5-1f4bdf94b597",
   "metadata": {},
   "outputs": [
    {
     "name": "stdout",
     "output_type": "stream",
     "text": [
      "Data will be saved in:\n",
      "C:\\Users\\labuser\\quantify-data\n"
     ]
    }
   ],
   "source": [
    "#dh.set_datadir(dh.default_datadir())\n",
    "dh.set_datadir()"
   ]
  },
  {
   "cell_type": "code",
   "execution_count": 19,
   "id": "cf3e5405-80d3-427a-9ac1-62fef2baa839",
   "metadata": {},
   "outputs": [],
   "source": [
    "meas_ctrl = MeasurementControl('meas_ctrl')"
   ]
  },
  {
   "cell_type": "code",
   "execution_count": 20,
   "id": "3b5b7458-17d5-40be-8cca-c40d45fa3391",
   "metadata": {},
   "outputs": [
    {
     "name": "stderr",
     "output_type": "stream",
     "text": [
      "C:\\Users\\labuser\\miniconda3\\envs\\temp2_env\\Lib\\site-packages\\quantify_core\\visualization\\pyqt_plotmon_remote.py:18: QCoDeSDeprecationWarning: The qcodes.plots is deprecated. Use \"qcodes_loop.plots\" as an alternative.\n",
      "  from qcodes.plots.colors import color_cycle\n",
      "C:\\Users\\labuser\\miniconda3\\envs\\temp2_env\\Lib\\site-packages\\quantify_core\\visualization\\pyqt_plotmon_remote.py:18: QCoDeSDeprecationWarning: The qcodes.plots.colors is deprecated. Use \"qcodes_loop.plots.colors\" as an alternative.\n",
      "  from qcodes.plots.colors import color_cycle\n",
      "C:\\Users\\labuser\\miniconda3\\envs\\temp2_env\\Lib\\site-packages\\qcodes\\plots\\pyqtgraph.py:17: QCoDeSDeprecationWarning: The qcodes.utils.qt_helpers module is deprecated. Use \"qcodes_loop.utils.qt_helpers\" as an alternative.\n",
      "  import qcodes.utils.qt_helpers\n",
      "C:\\Users\\labuser\\miniconda3\\envs\\temp2_env\\Lib\\site-packages\\quantify_core\\visualization\\pyqt_plotmon_remote.py:19: QCoDeSDeprecationWarning: The qcodes.plots.pyqtgraph is deprecated. Use \"qcodes_loop.plots.pyqtgraph\" as an alternative.\n",
      "  from qcodes.plots.pyqtgraph import QtPlot, TransformState\n"
     ]
    }
   ],
   "source": [
    "plotmon = PlotMonitor_pyqt(\"plotmon\")\n",
    "meas_ctrl.instr_plotmon(plotmon.name)"
   ]
  },
  {
   "cell_type": "code",
   "execution_count": 21,
   "id": "67a879e0-5756-4c14-9766-892bd98e7246",
   "metadata": {},
   "outputs": [],
   "source": [
    "meas_ctrl.settables([MEAS.square.amp, MEAS.square.tSquare])\n",
    "meas_ctrl.setpoints_grid([amp_range, time_range])\n",
    "meas_ctrl.gettables(MEAS.stReadout.ref2_read_I)"
   ]
  },
  {
   "cell_type": "code",
   "execution_count": 22,
   "id": "dfb82258-7bc8-4d6c-9d00-63a40565453e",
   "metadata": {},
   "outputs": [],
   "source": [
    "MEAS.stReadout.diff_state.batch_size = 1000\n",
    "MEAS.square.amp.batch_size = 1000\n",
    "MEAS.square.tSquare.batch_size = 1000"
   ]
  },
  {
   "cell_type": "code",
   "execution_count": 23,
   "id": "2586ab6a-6278-48c9-a517-69576137b999",
   "metadata": {},
   "outputs": [
    {
     "data": {
      "text/plain": [
       "1000"
      ]
     },
     "execution_count": 23,
     "metadata": {},
     "output_type": "execute_result"
    }
   ],
   "source": [
    "MEAS.stReadout.diff_state.batch_size"
   ]
  },
  {
   "cell_type": "code",
   "execution_count": 24,
   "id": "0691610e-cb85-4bbd-ba55-cfb365a22119",
   "metadata": {
    "scrolled": true
   },
   "outputs": [
    {
     "name": "stdout",
     "output_type": "stream",
     "text": [
      "Starting batched measurement...\n",
      "Iterative settable(s) [outer loop(s)]:\n",
      "\t --- (None) --- \n",
      "Batched settable(s):\n",
      "\t amp, tSquare \n",
      "Batch size limit: 0\n",
      "\n",
      "2023-09-12 14:00:37,244 - qm - WARNING  - Fetching single result will always return the single value\n",
      "  1% completed | elapsed time:      2s | time left:    271s  last batch size:      0  2023-09-12 14:00:39,838 - qm - WARNING  - Fetching single result will always return the single value\n",
      "  2% completed | elapsed time:      5s | time left:    261s  last batch size:      0  2023-09-12 14:00:42,505 - qm - WARNING  - Fetching single result will always return the single value\n",
      "  3% completed | elapsed time:      8s | time left:    258s  last batch size:      0  2023-09-12 14:00:45,144 - qm - WARNING  - Fetching single result will always return the single value\n",
      "  4% completed | elapsed time:     10s | time left:    255s  last batch size:      0  2023-09-12 14:00:47,745 - qm - WARNING  - Fetching single result will always return the single value\n",
      "  5% completed | elapsed time:     13s | time left:    251s  last batch size:      0  2023-09-12 14:00:50,353 - qm - WARNING  - Fetching single result will always return the single value\n",
      "  6% completed | elapsed time:     15s | time left:    248s  last batch size:      0  2023-09-12 14:00:53,015 - qm - WARNING  - Fetching single result will always return the single value\n",
      "  7% completed | elapsed time:     18s | time left:    246s  last batch size:      0  2023-09-12 14:00:55,609 - qm - WARNING  - Fetching single result will always return the single value\n",
      "  8% completed | elapsed time:     21s | time left:    242s  last batch size:      0  2023-09-12 14:00:58,263 - qm - WARNING  - Fetching single result will always return the single value\n",
      "  9% completed | elapsed time:     23s | time left:    240s  last batch size:      0  2023-09-12 14:01:00,874 - qm - WARNING  - Fetching single result will always return the single value\n",
      " 10% completed | elapsed time:     26s | time left:    237s  last batch size:      0  2023-09-12 14:01:03,469 - qm - WARNING  - Fetching single result will always return the single value\n",
      " 11% completed | elapsed time:     29s | time left:    234s  last batch size:      0  2023-09-12 14:01:06,070 - qm - WARNING  - Fetching single result will always return the single value\n",
      " 12% completed | elapsed time:     31s | time left:    231s  last batch size:      0  2023-09-12 14:01:08,673 - qm - WARNING  - Fetching single result will always return the single value\n",
      " 13% completed | elapsed time:     34s | time left:    228s  last batch size:      0  2023-09-12 14:01:11,281 - qm - WARNING  - Fetching single result will always return the single value\n",
      " 14% completed | elapsed time:     36s | time left:    225s  last batch size:      0  2023-09-12 14:01:13,946 - qm - WARNING  - Fetching single result will always return the single value\n",
      " 15% completed | elapsed time:     39s | time left:    223s  last batch size:      0  2023-09-12 14:01:16,539 - qm - WARNING  - Fetching single result will always return the single value\n",
      " 16% completed | elapsed time:     42s | time left:    220s  last batch size:      0  2023-09-12 14:01:19,136 - qm - WARNING  - Fetching single result will always return the single value\n",
      " 17% completed | elapsed time:     44s | time left:    217s  last batch size:      0  2023-09-12 14:01:21,788 - qm - WARNING  - Fetching single result will always return the single value\n",
      " 18% completed | elapsed time:     47s | time left:    215s  last batch size:      0  2023-09-12 14:01:24,454 - qm - WARNING  - Fetching single result will always return the single value\n",
      " 19% completed | elapsed time:     50s | time left:    213s  last batch size:      0  2023-09-12 14:01:27,096 - qm - WARNING  - Fetching single result will always return the single value\n",
      " 20% completed | elapsed time:     52s | time left:    210s  last batch size:      0  2023-09-12 14:01:29,749 - qm - WARNING  - Fetching single result will always return the single value\n",
      " 21% completed | elapsed time:     55s | time left:    207s  last batch size:      0  2023-09-12 14:01:32,360 - qm - WARNING  - Fetching single result will always return the single value\n",
      " 22% completed | elapsed time:     57s | time left:    205s  last batch size:      0  2023-09-12 14:01:34,959 - qm - WARNING  - Fetching single result will always return the single value\n",
      " 23% completed | elapsed time:     60s | time left:    202s  last batch size:      0  2023-09-12 14:01:37,592 - qm - WARNING  - Fetching single result will always return the single value\n",
      " 24% completed | elapsed time:     63s | time left:    199s  last batch size:      0  2023-09-12 14:01:40,216 - qm - WARNING  - Fetching single result will always return the single value\n",
      " 25% completed | elapsed time:     65s | time left:    197s  last batch size:      0  2023-09-12 14:01:42,814 - qm - WARNING  - Fetching single result will always return the single value\n",
      " 26% completed | elapsed time:     68s | time left:    194s  last batch size:      0  2023-09-12 14:01:45,467 - qm - WARNING  - Fetching single result will always return the single value\n",
      " 27% completed | elapsed time:     71s | time left:    191s  last batch size:      0  2023-09-12 14:01:48,082 - qm - WARNING  - Fetching single result will always return the single value\n",
      " 28% completed | elapsed time:     73s | time left:    189s  last batch size:      0  2023-09-12 14:01:50,683 - qm - WARNING  - Fetching single result will always return the single value\n",
      " 28% completed | elapsed time:     76s | time left:    186s  last batch size:      0  2023-09-12 14:01:53,327 - qm - WARNING  - Fetching single result will always return the single value\n",
      " 30% completed | elapsed time:     78s | time left:    183s  last batch size:      0  2023-09-12 14:01:55,939 - qm - WARNING  - Fetching single result will always return the single value\n",
      " 31% completed | elapsed time:     81s | time left:    181s  last batch size:      0  2023-09-12 14:01:58,589 - qm - WARNING  - Fetching single result will always return the single value\n",
      " 32% completed | elapsed time:     84s | time left:    178s  last batch size:      0  2023-09-12 14:02:01,197 - qm - WARNING  - Fetching single result will always return the single value\n",
      " 33% completed | elapsed time:     86s | time left:    176s  last batch size:      0  2023-09-12 14:02:03,791 - qm - WARNING  - Fetching single result will always return the single value\n",
      " 34% completed | elapsed time:     89s | time left:    173s  last batch size:      0  2023-09-12 14:02:06,453 - qm - WARNING  - Fetching single result will always return the single value\n",
      " 35% completed | elapsed time:     92s | time left:    170s  last batch size:      0  2023-09-12 14:02:09,050 - qm - WARNING  - Fetching single result will always return the single value\n",
      " 36% completed | elapsed time:     94s | time left:    168s  last batch size:      0  2023-09-12 14:02:11,660 - qm - WARNING  - Fetching single result will always return the single value\n",
      " 37% completed | elapsed time:     97s | time left:    165s  last batch size:      0  2023-09-12 14:02:14,312 - qm - WARNING  - Fetching single result will always return the single value\n",
      " 38% completed | elapsed time:     99s | time left:    162s  last batch size:      0  2023-09-12 14:02:16,967 - qm - WARNING  - Fetching single result will always return the single value\n",
      " 39% completed | elapsed time:    102s | time left:    160s  last batch size:      0  2023-09-12 14:02:19,566 - qm - WARNING  - Fetching single result will always return the single value\n",
      " 40% completed | elapsed time:    105s | time left:    157s  last batch size:      0  2023-09-12 14:02:22,174 - qm - WARNING  - Fetching single result will always return the single value\n",
      " 41% completed | elapsed time:    107s | time left:    155s  last batch size:      0  2023-09-12 14:02:24,814 - qm - WARNING  - Fetching single result will always return the single value\n",
      " 42% completed | elapsed time:    110s | time left:    152s  last batch size:      0  2023-09-12 14:02:27,424 - qm - WARNING  - Fetching single result will always return the single value\n",
      " 43% completed | elapsed time:    112s | time left:    149s  last batch size:      0  2023-09-12 14:02:30,056 - qm - WARNING  - Fetching single result will always return the single value\n",
      " 44% completed | elapsed time:    115s | time left:    147s  last batch size:      0  2023-09-12 14:02:32,625 - qm - WARNING  - Fetching single result will always return the single value\n",
      " 45% completed | elapsed time:    118s | time left:    144s  last batch size:      0  2023-09-12 14:02:35,240 - qm - WARNING  - Fetching single result will always return the single value\n",
      " 46% completed | elapsed time:    120s | time left:    141s  last batch size:      0  2023-09-12 14:02:37,883 - qm - WARNING  - Fetching single result will always return the single value\n",
      " 47% completed | elapsed time:    123s | time left:    139s  last batch size:      0  2023-09-12 14:02:40,483 - qm - WARNING  - Fetching single result will always return the single value\n",
      " 48% completed | elapsed time:    126s | time left:    136s  last batch size:      0  2023-09-12 14:02:43,087 - qm - WARNING  - Fetching single result will always return the single value\n",
      " 49% completed | elapsed time:    128s | time left:    133s  last batch size:      0  2023-09-12 14:02:45,746 - qm - WARNING  - Fetching single result will always return the single value\n",
      " 50% completed | elapsed time:    131s | time left:    131s  last batch size:      0  2023-09-12 14:02:48,393 - qm - WARNING  - Fetching single result will always return the single value\n",
      " 51% completed | elapsed time:    133s | time left:    128s  last batch size:      0  2023-09-12 14:02:51,008 - qm - WARNING  - Fetching single result will always return the single value\n",
      " 52% completed | elapsed time:    136s | time left:    126s  last batch size:      0  2023-09-12 14:02:53,654 - qm - WARNING  - Fetching single result will always return the single value\n",
      " 53% completed | elapsed time:    139s | time left:    123s  last batch size:      0  2023-09-12 14:02:56,307 - qm - WARNING  - Fetching single result will always return the single value\n",
      " 54% completed | elapsed time:    141s | time left:    120s  last batch size:      0  2023-09-12 14:02:58,908 - qm - WARNING  - Fetching single result will always return the single value\n",
      " 55% completed | elapsed time:    144s | time left:    118s  last batch size:      0  2023-09-12 14:03:01,564 - qm - WARNING  - Fetching single result will always return the single value\n",
      " 56% completed | elapsed time:    147s | time left:    115s  last batch size:      0  2023-09-12 14:03:04,165 - qm - WARNING  - Fetching single result will always return the single value\n",
      " 56% completed | elapsed time:    149s | time left:    112s  last batch size:      0  2023-09-12 14:03:06,769 - qm - WARNING  - Fetching single result will always return the single value\n",
      " 57% completed | elapsed time:    152s | time left:    110s  last batch size:      0  2023-09-12 14:03:09,425 - qm - WARNING  - Fetching single result will always return the single value\n",
      " 59% completed | elapsed time:    154s | time left:    107s  last batch size:      0  2023-09-12 14:03:12,090 - qm - WARNING  - Fetching single result will always return the single value\n",
      " 60% completed | elapsed time:    157s | time left:    105s  last batch size:      0  2023-09-12 14:03:14,730 - qm - WARNING  - Fetching single result will always return the single value\n",
      " 61% completed | elapsed time:    160s | time left:    102s  last batch size:      0  2023-09-12 14:03:17,390 - qm - WARNING  - Fetching single result will always return the single value\n",
      " 62% completed | elapsed time:    162s | time left:     99s  last batch size:      0  2023-09-12 14:03:19,997 - qm - WARNING  - Fetching single result will always return the single value\n",
      " 63% completed | elapsed time:    165s | time left:     97s  last batch size:      0  2023-09-12 14:03:22,593 - qm - WARNING  - Fetching single result will always return the single value\n",
      " 64% completed | elapsed time:    168s | time left:     94s  last batch size:      0  2023-09-12 14:03:25,246 - qm - WARNING  - Fetching single result will always return the single value\n",
      " 65% completed | elapsed time:    170s | time left:     91s  last batch size:      0  2023-09-12 14:03:27,859 - qm - WARNING  - Fetching single result will always return the single value\n",
      " 66% completed | elapsed time:    173s | time left:     89s  last batch size:      0  2023-09-12 14:03:30,460 - qm - WARNING  - Fetching single result will always return the single value\n",
      " 67% completed | elapsed time:    176s | time left:     86s  last batch size:      0  2023-09-12 14:03:33,058 - qm - WARNING  - Fetching single result will always return the single value\n",
      " 68% completed | elapsed time:    178s | time left:     84s  last batch size:      0  2023-09-12 14:03:35,658 - qm - WARNING  - Fetching single result will always return the single value\n",
      " 69% completed | elapsed time:    181s | time left:     81s  last batch size:      0  2023-09-12 14:03:38,311 - qm - WARNING  - Fetching single result will always return the single value\n",
      " 70% completed | elapsed time:    183s | time left:     78s  last batch size:      0  2023-09-12 14:03:40,918 - qm - WARNING  - Fetching single result will always return the single value\n",
      " 71% completed | elapsed time:    186s | time left:     76s  last batch size:      0  2023-09-12 14:03:43,520 - qm - WARNING  - Fetching single result will always return the single value\n",
      " 72% completed | elapsed time:    189s | time left:     73s  last batch size:      0  2023-09-12 14:03:46,133 - qm - WARNING  - Fetching single result will always return the single value\n",
      " 73% completed | elapsed time:    191s | time left:     70s  last batch size:      0  2023-09-12 14:03:48,721 - qm - WARNING  - Fetching single result will always return the single value\n",
      " 74% completed | elapsed time:    194s | time left:     68s  last batch size:      0  2023-09-12 14:03:51,386 - qm - WARNING  - Fetching single result will always return the single value\n",
      " 75% completed | elapsed time:    196s | time left:     65s  last batch size:      0  2023-09-12 14:03:54,025 - qm - WARNING  - Fetching single result will always return the single value\n",
      " 76% completed | elapsed time:    199s | time left:     63s  last batch size:      0  2023-09-12 14:03:56,643 - qm - WARNING  - Fetching single result will always return the single value\n",
      " 77% completed | elapsed time:    202s | time left:     60s  last batch size:      0  2023-09-12 14:03:59,232 - qm - WARNING  - Fetching single result will always return the single value\n",
      " 78% completed | elapsed time:    204s | time left:     57s  last batch size:      0  2023-09-12 14:04:01,831 - qm - WARNING  - Fetching single result will always return the single value\n",
      " 79% completed | elapsed time:    207s | time left:     55s  last batch size:      0  2023-09-12 14:04:04,443 - qm - WARNING  - Fetching single result will always return the single value\n",
      " 80% completed | elapsed time:    209s | time left:     52s  last batch size:      0  2023-09-12 14:04:07,040 - qm - WARNING  - Fetching single result will always return the single value\n",
      " 81% completed | elapsed time:    212s | time left:     49s  last batch size:      0  2023-09-12 14:04:09,646 - qm - WARNING  - Fetching single result will always return the single value\n",
      " 82% completed | elapsed time:    215s | time left:     47s  last batch size:      0  2023-09-12 14:04:12,246 - qm - WARNING  - Fetching single result will always return the single value\n",
      " 83% completed | elapsed time:    217s | time left:     44s  last batch size:      0  2023-09-12 14:04:14,853 - qm - WARNING  - Fetching single result will always return the single value\n",
      " 84% completed | elapsed time:    220s | time left:     42s  last batch size:      0  2023-09-12 14:04:17,463 - qm - WARNING  - Fetching single result will always return the single value\n",
      " 85% completed | elapsed time:    223s | time left:     39s  last batch size:      0  2023-09-12 14:04:20,113 - qm - WARNING  - Fetching single result will always return the single value\n",
      " 86% completed | elapsed time:    225s | time left:     36s  last batch size:      0  2023-09-12 14:04:22,763 - qm - WARNING  - Fetching single result will always return the single value\n",
      " 87% completed | elapsed time:    228s | time left:     34s  last batch size:      0  2023-09-12 14:04:25,363 - qm - WARNING  - Fetching single result will always return the single value\n",
      " 88% completed | elapsed time:    230s | time left:     31s  last batch size:      0  2023-09-12 14:04:27,968 - qm - WARNING  - Fetching single result will always return the single value\n",
      " 89% completed | elapsed time:    233s | time left:     28s  last batch size:      0  2023-09-12 14:04:30,618 - qm - WARNING  - Fetching single result will always return the single value\n",
      " 90% completed | elapsed time:    236s | time left:     26s  last batch size:      0  2023-09-12 14:04:33,229 - qm - WARNING  - Fetching single result will always return the single value\n",
      " 91% completed | elapsed time:    238s | time left:     23s  last batch size:      0  2023-09-12 14:04:35,831 - qm - WARNING  - Fetching single result will always return the single value\n",
      " 92% completed | elapsed time:    241s | time left:     21s  last batch size:      0  2023-09-12 14:04:38,430 - qm - WARNING  - Fetching single result will always return the single value\n",
      " 93% completed | elapsed time:    243s | time left:     18s  last batch size:      0  2023-09-12 14:04:41,095 - qm - WARNING  - Fetching single result will always return the single value\n",
      " 94% completed | elapsed time:    246s | time left:     15s  last batch size:      0  2023-09-12 14:04:43,684 - qm - WARNING  - Fetching single result will always return the single value\n",
      " 95% completed | elapsed time:    249s | time left:     13s  last batch size:      0  2023-09-12 14:04:46,295 - qm - WARNING  - Fetching single result will always return the single value\n",
      " 96% completed | elapsed time:    251s | time left:     10s  last batch size:      0  2023-09-12 14:04:48,894 - qm - WARNING  - Fetching single result will always return the single value\n",
      " 97% completed | elapsed time:    254s | time left:      7s  last batch size:      0  2023-09-12 14:04:51,554 - qm - WARNING  - Fetching single result will always return the single value\n",
      " 98% completed | elapsed time:    257s | time left:      5s  last batch size:      0  2023-09-12 14:04:54,203 - qm - WARNING  - Fetching single result will always return the single value\n",
      " 99% completed | elapsed time:    259s | time left:      2s  last batch size:      0  2023-09-12 14:04:56,804 - qm - WARNING  - Fetching single result will always return the single value\n",
      "100% completed | elapsed time:    262s | time left:      0s  last batch size:      0  \n",
      "100% completed | elapsed time:    262s | time left:      0s  last batch size:      0  "
     ]
    },
    {
     "data": {
      "text/html": [
       "<div><svg style=\"position: absolute; width: 0; height: 0; overflow: hidden\">\n",
       "<defs>\n",
       "<symbol id=\"icon-database\" viewBox=\"0 0 32 32\">\n",
       "<path d=\"M16 0c-8.837 0-16 2.239-16 5v4c0 2.761 7.163 5 16 5s16-2.239 16-5v-4c0-2.761-7.163-5-16-5z\"></path>\n",
       "<path d=\"M16 17c-8.837 0-16-2.239-16-5v6c0 2.761 7.163 5 16 5s16-2.239 16-5v-6c0 2.761-7.163 5-16 5z\"></path>\n",
       "<path d=\"M16 26c-8.837 0-16-2.239-16-5v6c0 2.761 7.163 5 16 5s16-2.239 16-5v-6c0 2.761-7.163 5-16 5z\"></path>\n",
       "</symbol>\n",
       "<symbol id=\"icon-file-text2\" viewBox=\"0 0 32 32\">\n",
       "<path d=\"M28.681 7.159c-0.694-0.947-1.662-2.053-2.724-3.116s-2.169-2.030-3.116-2.724c-1.612-1.182-2.393-1.319-2.841-1.319h-15.5c-1.378 0-2.5 1.121-2.5 2.5v27c0 1.378 1.122 2.5 2.5 2.5h23c1.378 0 2.5-1.122 2.5-2.5v-19.5c0-0.448-0.137-1.23-1.319-2.841zM24.543 5.457c0.959 0.959 1.712 1.825 2.268 2.543h-4.811v-4.811c0.718 0.556 1.584 1.309 2.543 2.268zM28 29.5c0 0.271-0.229 0.5-0.5 0.5h-23c-0.271 0-0.5-0.229-0.5-0.5v-27c0-0.271 0.229-0.5 0.5-0.5 0 0 15.499-0 15.5 0v7c0 0.552 0.448 1 1 1h7v19.5z\"></path>\n",
       "<path d=\"M23 26h-14c-0.552 0-1-0.448-1-1s0.448-1 1-1h14c0.552 0 1 0.448 1 1s-0.448 1-1 1z\"></path>\n",
       "<path d=\"M23 22h-14c-0.552 0-1-0.448-1-1s0.448-1 1-1h14c0.552 0 1 0.448 1 1s-0.448 1-1 1z\"></path>\n",
       "<path d=\"M23 18h-14c-0.552 0-1-0.448-1-1s0.448-1 1-1h14c0.552 0 1 0.448 1 1s-0.448 1-1 1z\"></path>\n",
       "</symbol>\n",
       "</defs>\n",
       "</svg>\n",
       "<style>/* CSS stylesheet for displaying xarray objects in jupyterlab.\n",
       " *\n",
       " */\n",
       "\n",
       ":root {\n",
       "  --xr-font-color0: var(--jp-content-font-color0, rgba(0, 0, 0, 1));\n",
       "  --xr-font-color2: var(--jp-content-font-color2, rgba(0, 0, 0, 0.54));\n",
       "  --xr-font-color3: var(--jp-content-font-color3, rgba(0, 0, 0, 0.38));\n",
       "  --xr-border-color: var(--jp-border-color2, #e0e0e0);\n",
       "  --xr-disabled-color: var(--jp-layout-color3, #bdbdbd);\n",
       "  --xr-background-color: var(--jp-layout-color0, white);\n",
       "  --xr-background-color-row-even: var(--jp-layout-color1, white);\n",
       "  --xr-background-color-row-odd: var(--jp-layout-color2, #eeeeee);\n",
       "}\n",
       "\n",
       "html[theme=dark],\n",
       "body[data-theme=dark],\n",
       "body.vscode-dark {\n",
       "  --xr-font-color0: rgba(255, 255, 255, 1);\n",
       "  --xr-font-color2: rgba(255, 255, 255, 0.54);\n",
       "  --xr-font-color3: rgba(255, 255, 255, 0.38);\n",
       "  --xr-border-color: #1F1F1F;\n",
       "  --xr-disabled-color: #515151;\n",
       "  --xr-background-color: #111111;\n",
       "  --xr-background-color-row-even: #111111;\n",
       "  --xr-background-color-row-odd: #313131;\n",
       "}\n",
       "\n",
       ".xr-wrap {\n",
       "  display: block !important;\n",
       "  min-width: 300px;\n",
       "  max-width: 700px;\n",
       "}\n",
       "\n",
       ".xr-text-repr-fallback {\n",
       "  /* fallback to plain text repr when CSS is not injected (untrusted notebook) */\n",
       "  display: none;\n",
       "}\n",
       "\n",
       ".xr-header {\n",
       "  padding-top: 6px;\n",
       "  padding-bottom: 6px;\n",
       "  margin-bottom: 4px;\n",
       "  border-bottom: solid 1px var(--xr-border-color);\n",
       "}\n",
       "\n",
       ".xr-header > div,\n",
       ".xr-header > ul {\n",
       "  display: inline;\n",
       "  margin-top: 0;\n",
       "  margin-bottom: 0;\n",
       "}\n",
       "\n",
       ".xr-obj-type,\n",
       ".xr-array-name {\n",
       "  margin-left: 2px;\n",
       "  margin-right: 10px;\n",
       "}\n",
       "\n",
       ".xr-obj-type {\n",
       "  color: var(--xr-font-color2);\n",
       "}\n",
       "\n",
       ".xr-sections {\n",
       "  padding-left: 0 !important;\n",
       "  display: grid;\n",
       "  grid-template-columns: 150px auto auto 1fr 20px 20px;\n",
       "}\n",
       "\n",
       ".xr-section-item {\n",
       "  display: contents;\n",
       "}\n",
       "\n",
       ".xr-section-item input {\n",
       "  display: none;\n",
       "}\n",
       "\n",
       ".xr-section-item input + label {\n",
       "  color: var(--xr-disabled-color);\n",
       "}\n",
       "\n",
       ".xr-section-item input:enabled + label {\n",
       "  cursor: pointer;\n",
       "  color: var(--xr-font-color2);\n",
       "}\n",
       "\n",
       ".xr-section-item input:enabled + label:hover {\n",
       "  color: var(--xr-font-color0);\n",
       "}\n",
       "\n",
       ".xr-section-summary {\n",
       "  grid-column: 1;\n",
       "  color: var(--xr-font-color2);\n",
       "  font-weight: 500;\n",
       "}\n",
       "\n",
       ".xr-section-summary > span {\n",
       "  display: inline-block;\n",
       "  padding-left: 0.5em;\n",
       "}\n",
       "\n",
       ".xr-section-summary-in:disabled + label {\n",
       "  color: var(--xr-font-color2);\n",
       "}\n",
       "\n",
       ".xr-section-summary-in + label:before {\n",
       "  display: inline-block;\n",
       "  content: '►';\n",
       "  font-size: 11px;\n",
       "  width: 15px;\n",
       "  text-align: center;\n",
       "}\n",
       "\n",
       ".xr-section-summary-in:disabled + label:before {\n",
       "  color: var(--xr-disabled-color);\n",
       "}\n",
       "\n",
       ".xr-section-summary-in:checked + label:before {\n",
       "  content: '▼';\n",
       "}\n",
       "\n",
       ".xr-section-summary-in:checked + label > span {\n",
       "  display: none;\n",
       "}\n",
       "\n",
       ".xr-section-summary,\n",
       ".xr-section-inline-details {\n",
       "  padding-top: 4px;\n",
       "  padding-bottom: 4px;\n",
       "}\n",
       "\n",
       ".xr-section-inline-details {\n",
       "  grid-column: 2 / -1;\n",
       "}\n",
       "\n",
       ".xr-section-details {\n",
       "  display: none;\n",
       "  grid-column: 1 / -1;\n",
       "  margin-bottom: 5px;\n",
       "}\n",
       "\n",
       ".xr-section-summary-in:checked ~ .xr-section-details {\n",
       "  display: contents;\n",
       "}\n",
       "\n",
       ".xr-array-wrap {\n",
       "  grid-column: 1 / -1;\n",
       "  display: grid;\n",
       "  grid-template-columns: 20px auto;\n",
       "}\n",
       "\n",
       ".xr-array-wrap > label {\n",
       "  grid-column: 1;\n",
       "  vertical-align: top;\n",
       "}\n",
       "\n",
       ".xr-preview {\n",
       "  color: var(--xr-font-color3);\n",
       "}\n",
       "\n",
       ".xr-array-preview,\n",
       ".xr-array-data {\n",
       "  padding: 0 5px !important;\n",
       "  grid-column: 2;\n",
       "}\n",
       "\n",
       ".xr-array-data,\n",
       ".xr-array-in:checked ~ .xr-array-preview {\n",
       "  display: none;\n",
       "}\n",
       "\n",
       ".xr-array-in:checked ~ .xr-array-data,\n",
       ".xr-array-preview {\n",
       "  display: inline-block;\n",
       "}\n",
       "\n",
       ".xr-dim-list {\n",
       "  display: inline-block !important;\n",
       "  list-style: none;\n",
       "  padding: 0 !important;\n",
       "  margin: 0;\n",
       "}\n",
       "\n",
       ".xr-dim-list li {\n",
       "  display: inline-block;\n",
       "  padding: 0;\n",
       "  margin: 0;\n",
       "}\n",
       "\n",
       ".xr-dim-list:before {\n",
       "  content: '(';\n",
       "}\n",
       "\n",
       ".xr-dim-list:after {\n",
       "  content: ')';\n",
       "}\n",
       "\n",
       ".xr-dim-list li:not(:last-child):after {\n",
       "  content: ',';\n",
       "  padding-right: 5px;\n",
       "}\n",
       "\n",
       ".xr-has-index {\n",
       "  font-weight: bold;\n",
       "}\n",
       "\n",
       ".xr-var-list,\n",
       ".xr-var-item {\n",
       "  display: contents;\n",
       "}\n",
       "\n",
       ".xr-var-item > div,\n",
       ".xr-var-item label,\n",
       ".xr-var-item > .xr-var-name span {\n",
       "  background-color: var(--xr-background-color-row-even);\n",
       "  margin-bottom: 0;\n",
       "}\n",
       "\n",
       ".xr-var-item > .xr-var-name:hover span {\n",
       "  padding-right: 5px;\n",
       "}\n",
       "\n",
       ".xr-var-list > li:nth-child(odd) > div,\n",
       ".xr-var-list > li:nth-child(odd) > label,\n",
       ".xr-var-list > li:nth-child(odd) > .xr-var-name span {\n",
       "  background-color: var(--xr-background-color-row-odd);\n",
       "}\n",
       "\n",
       ".xr-var-name {\n",
       "  grid-column: 1;\n",
       "}\n",
       "\n",
       ".xr-var-dims {\n",
       "  grid-column: 2;\n",
       "}\n",
       "\n",
       ".xr-var-dtype {\n",
       "  grid-column: 3;\n",
       "  text-align: right;\n",
       "  color: var(--xr-font-color2);\n",
       "}\n",
       "\n",
       ".xr-var-preview {\n",
       "  grid-column: 4;\n",
       "}\n",
       "\n",
       ".xr-index-preview {\n",
       "  grid-column: 2 / 5;\n",
       "  color: var(--xr-font-color2);\n",
       "}\n",
       "\n",
       ".xr-var-name,\n",
       ".xr-var-dims,\n",
       ".xr-var-dtype,\n",
       ".xr-preview,\n",
       ".xr-attrs dt {\n",
       "  white-space: nowrap;\n",
       "  overflow: hidden;\n",
       "  text-overflow: ellipsis;\n",
       "  padding-right: 10px;\n",
       "}\n",
       "\n",
       ".xr-var-name:hover,\n",
       ".xr-var-dims:hover,\n",
       ".xr-var-dtype:hover,\n",
       ".xr-attrs dt:hover {\n",
       "  overflow: visible;\n",
       "  width: auto;\n",
       "  z-index: 1;\n",
       "}\n",
       "\n",
       ".xr-var-attrs,\n",
       ".xr-var-data,\n",
       ".xr-index-data {\n",
       "  display: none;\n",
       "  background-color: var(--xr-background-color) !important;\n",
       "  padding-bottom: 5px !important;\n",
       "}\n",
       "\n",
       ".xr-var-attrs-in:checked ~ .xr-var-attrs,\n",
       ".xr-var-data-in:checked ~ .xr-var-data,\n",
       ".xr-index-data-in:checked ~ .xr-index-data {\n",
       "  display: block;\n",
       "}\n",
       "\n",
       ".xr-var-data > table {\n",
       "  float: right;\n",
       "}\n",
       "\n",
       ".xr-var-name span,\n",
       ".xr-var-data,\n",
       ".xr-index-name div,\n",
       ".xr-index-data,\n",
       ".xr-attrs {\n",
       "  padding-left: 25px !important;\n",
       "}\n",
       "\n",
       ".xr-attrs,\n",
       ".xr-var-attrs,\n",
       ".xr-var-data,\n",
       ".xr-index-data {\n",
       "  grid-column: 1 / -1;\n",
       "}\n",
       "\n",
       "dl.xr-attrs {\n",
       "  padding: 0;\n",
       "  margin: 0;\n",
       "  display: grid;\n",
       "  grid-template-columns: 125px auto;\n",
       "}\n",
       "\n",
       ".xr-attrs dt,\n",
       ".xr-attrs dd {\n",
       "  padding: 0;\n",
       "  margin: 0;\n",
       "  float: left;\n",
       "  padding-right: 10px;\n",
       "  width: auto;\n",
       "}\n",
       "\n",
       ".xr-attrs dt {\n",
       "  font-weight: normal;\n",
       "  grid-column: 1;\n",
       "}\n",
       "\n",
       ".xr-attrs dt:hover span {\n",
       "  display: inline-block;\n",
       "  background: var(--xr-background-color);\n",
       "  padding-right: 10px;\n",
       "}\n",
       "\n",
       ".xr-attrs dd {\n",
       "  grid-column: 2;\n",
       "  white-space: pre-wrap;\n",
       "  word-break: break-all;\n",
       "}\n",
       "\n",
       ".xr-icon-database,\n",
       ".xr-icon-file-text2,\n",
       ".xr-no-icon {\n",
       "  display: inline-block;\n",
       "  vertical-align: middle;\n",
       "  width: 1em;\n",
       "  height: 1.5em !important;\n",
       "  stroke-width: 0;\n",
       "  stroke: currentColor;\n",
       "  fill: currentColor;\n",
       "}\n",
       "</style><pre class='xr-text-repr-fallback'>&lt;xarray.Dataset&gt;\n",
       "Dimensions:  (dim_0: 1000)\n",
       "Coordinates:\n",
       "    x0       (dim_0) float64 0.01 0.02 0.03 0.04 0.05 ... 0.97 0.98 0.99 1.0\n",
       "    x1       (dim_0) float64 4.0 4.0 4.0 4.0 4.0 ... 94.0 94.0 94.0 94.0 94.0\n",
       "Dimensions without coordinates: dim_0\n",
       "Data variables:\n",
       "    y0       (dim_0) float64 9.551e-05 9.668e-05 ... 9.332e-05 9.293e-05\n",
       "Attributes:\n",
       "    tuid:                             20230912-140034-533-300902\n",
       "    name:                             avg3\n",
       "    grid_2d:                          True\n",
       "    grid_2d_uniformly_spaced:         True\n",
       "    1d_2_settables_uniformly_spaced:  False\n",
       "    xlen:                             100\n",
       "    ylen:                             10</pre><div class='xr-wrap' style='display:none'><div class='xr-header'><div class='xr-obj-type'>xarray.Dataset</div></div><ul class='xr-sections'><li class='xr-section-item'><input id='section-61a49d2f-940b-4371-a7b5-b25274f567d2' class='xr-section-summary-in' type='checkbox' disabled ><label for='section-61a49d2f-940b-4371-a7b5-b25274f567d2' class='xr-section-summary'  title='Expand/collapse section'>Dimensions:</label><div class='xr-section-inline-details'><ul class='xr-dim-list'><li><span>dim_0</span>: 1000</li></ul></div><div class='xr-section-details'></div></li><li class='xr-section-item'><input id='section-a19c06fe-65fc-4db2-8d24-654afa9535fb' class='xr-section-summary-in' type='checkbox'  checked><label for='section-a19c06fe-65fc-4db2-8d24-654afa9535fb' class='xr-section-summary' >Coordinates: <span>(2)</span></label><div class='xr-section-inline-details'></div><div class='xr-section-details'><ul class='xr-var-list'><li class='xr-var-item'><div class='xr-var-name'><span>x0</span></div><div class='xr-var-dims'>(dim_0)</div><div class='xr-var-dtype'>float64</div><div class='xr-var-preview xr-preview'>0.01 0.02 0.03 ... 0.98 0.99 1.0</div><input id='attrs-db342d41-c8be-4155-b7ba-2b0ca0a8bcd2' class='xr-var-attrs-in' type='checkbox' ><label for='attrs-db342d41-c8be-4155-b7ba-2b0ca0a8bcd2' title='Show/Hide attributes'><svg class='icon xr-icon-file-text2'><use xlink:href='#icon-file-text2'></use></svg></label><input id='data-a85c6363-a8ac-485d-8a13-b12f3655db41' class='xr-var-data-in' type='checkbox'><label for='data-a85c6363-a8ac-485d-8a13-b12f3655db41' title='Show/Hide data repr'><svg class='icon xr-icon-database'><use xlink:href='#icon-database'></use></svg></label><div class='xr-var-attrs'><dl class='xr-attrs'><dt><span>name :</span></dt><dd>amp</dd><dt><span>long_name :</span></dt><dd>amp</dd><dt><span>units :</span></dt><dd>V</dd><dt><span>batched :</span></dt><dd>True</dd><dt><span>batch_size :</span></dt><dd>1000</dd></dl></div><div class='xr-var-data'><pre>array([0.01, 0.02, 0.03, 0.04, 0.05, 0.06, 0.07, 0.08, 0.09, 0.1 , 0.11,\n",
       "       0.12, 0.13, 0.14, 0.15, 0.16, 0.17, 0.18, 0.19, 0.2 , 0.21, 0.22,\n",
       "       0.23, 0.24, 0.25, 0.26, 0.27, 0.28, 0.29, 0.3 , 0.31, 0.32, 0.33,\n",
       "       0.34, 0.35, 0.36, 0.37, 0.38, 0.39, 0.4 , 0.41, 0.42, 0.43, 0.44,\n",
       "       0.45, 0.46, 0.47, 0.48, 0.49, 0.5 , 0.51, 0.52, 0.53, 0.54, 0.55,\n",
       "       0.56, 0.57, 0.58, 0.59, 0.6 , 0.61, 0.62, 0.63, 0.64, 0.65, 0.66,\n",
       "       0.67, 0.68, 0.69, 0.7 , 0.71, 0.72, 0.73, 0.74, 0.75, 0.76, 0.77,\n",
       "       0.78, 0.79, 0.8 , 0.81, 0.82, 0.83, 0.84, 0.85, 0.86, 0.87, 0.88,\n",
       "       0.89, 0.9 , 0.91, 0.92, 0.93, 0.94, 0.95, 0.96, 0.97, 0.98, 0.99,\n",
       "       1.  , 0.01, 0.02, 0.03, 0.04, 0.05, 0.06, 0.07, 0.08, 0.09, 0.1 ,\n",
       "       0.11, 0.12, 0.13, 0.14, 0.15, 0.16, 0.17, 0.18, 0.19, 0.2 , 0.21,\n",
       "       0.22, 0.23, 0.24, 0.25, 0.26, 0.27, 0.28, 0.29, 0.3 , 0.31, 0.32,\n",
       "       0.33, 0.34, 0.35, 0.36, 0.37, 0.38, 0.39, 0.4 , 0.41, 0.42, 0.43,\n",
       "       0.44, 0.45, 0.46, 0.47, 0.48, 0.49, 0.5 , 0.51, 0.52, 0.53, 0.54,\n",
       "       0.55, 0.56, 0.57, 0.58, 0.59, 0.6 , 0.61, 0.62, 0.63, 0.64, 0.65,\n",
       "       0.66, 0.67, 0.68, 0.69, 0.7 , 0.71, 0.72, 0.73, 0.74, 0.75, 0.76,\n",
       "       0.77, 0.78, 0.79, 0.8 , 0.81, 0.82, 0.83, 0.84, 0.85, 0.86, 0.87,\n",
       "       0.88, 0.89, 0.9 , 0.91, 0.92, 0.93, 0.94, 0.95, 0.96, 0.97, 0.98,\n",
       "       0.99, 1.  , 0.01, 0.02, 0.03, 0.04, 0.05, 0.06, 0.07, 0.08, 0.09,\n",
       "       0.1 , 0.11, 0.12, 0.13, 0.14, 0.15, 0.16, 0.17, 0.18, 0.19, 0.2 ,\n",
       "...\n",
       "       0.82, 0.83, 0.84, 0.85, 0.86, 0.87, 0.88, 0.89, 0.9 , 0.91, 0.92,\n",
       "       0.93, 0.94, 0.95, 0.96, 0.97, 0.98, 0.99, 1.  , 0.01, 0.02, 0.03,\n",
       "       0.04, 0.05, 0.06, 0.07, 0.08, 0.09, 0.1 , 0.11, 0.12, 0.13, 0.14,\n",
       "       0.15, 0.16, 0.17, 0.18, 0.19, 0.2 , 0.21, 0.22, 0.23, 0.24, 0.25,\n",
       "       0.26, 0.27, 0.28, 0.29, 0.3 , 0.31, 0.32, 0.33, 0.34, 0.35, 0.36,\n",
       "       0.37, 0.38, 0.39, 0.4 , 0.41, 0.42, 0.43, 0.44, 0.45, 0.46, 0.47,\n",
       "       0.48, 0.49, 0.5 , 0.51, 0.52, 0.53, 0.54, 0.55, 0.56, 0.57, 0.58,\n",
       "       0.59, 0.6 , 0.61, 0.62, 0.63, 0.64, 0.65, 0.66, 0.67, 0.68, 0.69,\n",
       "       0.7 , 0.71, 0.72, 0.73, 0.74, 0.75, 0.76, 0.77, 0.78, 0.79, 0.8 ,\n",
       "       0.81, 0.82, 0.83, 0.84, 0.85, 0.86, 0.87, 0.88, 0.89, 0.9 , 0.91,\n",
       "       0.92, 0.93, 0.94, 0.95, 0.96, 0.97, 0.98, 0.99, 1.  , 0.01, 0.02,\n",
       "       0.03, 0.04, 0.05, 0.06, 0.07, 0.08, 0.09, 0.1 , 0.11, 0.12, 0.13,\n",
       "       0.14, 0.15, 0.16, 0.17, 0.18, 0.19, 0.2 , 0.21, 0.22, 0.23, 0.24,\n",
       "       0.25, 0.26, 0.27, 0.28, 0.29, 0.3 , 0.31, 0.32, 0.33, 0.34, 0.35,\n",
       "       0.36, 0.37, 0.38, 0.39, 0.4 , 0.41, 0.42, 0.43, 0.44, 0.45, 0.46,\n",
       "       0.47, 0.48, 0.49, 0.5 , 0.51, 0.52, 0.53, 0.54, 0.55, 0.56, 0.57,\n",
       "       0.58, 0.59, 0.6 , 0.61, 0.62, 0.63, 0.64, 0.65, 0.66, 0.67, 0.68,\n",
       "       0.69, 0.7 , 0.71, 0.72, 0.73, 0.74, 0.75, 0.76, 0.77, 0.78, 0.79,\n",
       "       0.8 , 0.81, 0.82, 0.83, 0.84, 0.85, 0.86, 0.87, 0.88, 0.89, 0.9 ,\n",
       "       0.91, 0.92, 0.93, 0.94, 0.95, 0.96, 0.97, 0.98, 0.99, 1.  ])</pre></div></li><li class='xr-var-item'><div class='xr-var-name'><span>x1</span></div><div class='xr-var-dims'>(dim_0)</div><div class='xr-var-dtype'>float64</div><div class='xr-var-preview xr-preview'>4.0 4.0 4.0 4.0 ... 94.0 94.0 94.0</div><input id='attrs-e1e3a6e3-8a15-4446-8a0b-7c3e2f74e90c' class='xr-var-attrs-in' type='checkbox' ><label for='attrs-e1e3a6e3-8a15-4446-8a0b-7c3e2f74e90c' title='Show/Hide attributes'><svg class='icon xr-icon-file-text2'><use xlink:href='#icon-file-text2'></use></svg></label><input id='data-5e271e82-5e3e-4b2f-9031-03e7f62cb15f' class='xr-var-data-in' type='checkbox'><label for='data-5e271e82-5e3e-4b2f-9031-03e7f62cb15f' title='Show/Hide data repr'><svg class='icon xr-icon-database'><use xlink:href='#icon-database'></use></svg></label><div class='xr-var-attrs'><dl class='xr-attrs'><dt><span>name :</span></dt><dd>tSquare</dd><dt><span>long_name :</span></dt><dd>tSquare</dd><dt><span>units :</span></dt><dd>cycles</dd><dt><span>batched :</span></dt><dd>True</dd><dt><span>batch_size :</span></dt><dd>1000</dd></dl></div><div class='xr-var-data'><pre>array([ 4.,  4.,  4.,  4.,  4.,  4.,  4.,  4.,  4.,  4.,  4.,  4.,  4.,\n",
       "        4.,  4.,  4.,  4.,  4.,  4.,  4.,  4.,  4.,  4.,  4.,  4.,  4.,\n",
       "        4.,  4.,  4.,  4.,  4.,  4.,  4.,  4.,  4.,  4.,  4.,  4.,  4.,\n",
       "        4.,  4.,  4.,  4.,  4.,  4.,  4.,  4.,  4.,  4.,  4.,  4.,  4.,\n",
       "        4.,  4.,  4.,  4.,  4.,  4.,  4.,  4.,  4.,  4.,  4.,  4.,  4.,\n",
       "        4.,  4.,  4.,  4.,  4.,  4.,  4.,  4.,  4.,  4.,  4.,  4.,  4.,\n",
       "        4.,  4.,  4.,  4.,  4.,  4.,  4.,  4.,  4.,  4.,  4.,  4.,  4.,\n",
       "        4.,  4.,  4.,  4.,  4.,  4.,  4.,  4.,  4., 14., 14., 14., 14.,\n",
       "       14., 14., 14., 14., 14., 14., 14., 14., 14., 14., 14., 14., 14.,\n",
       "       14., 14., 14., 14., 14., 14., 14., 14., 14., 14., 14., 14., 14.,\n",
       "       14., 14., 14., 14., 14., 14., 14., 14., 14., 14., 14., 14., 14.,\n",
       "       14., 14., 14., 14., 14., 14., 14., 14., 14., 14., 14., 14., 14.,\n",
       "       14., 14., 14., 14., 14., 14., 14., 14., 14., 14., 14., 14., 14.,\n",
       "       14., 14., 14., 14., 14., 14., 14., 14., 14., 14., 14., 14., 14.,\n",
       "       14., 14., 14., 14., 14., 14., 14., 14., 14., 14., 14., 14., 14.,\n",
       "       14., 14., 14., 14., 14., 24., 24., 24., 24., 24., 24., 24., 24.,\n",
       "       24., 24., 24., 24., 24., 24., 24., 24., 24., 24., 24., 24., 24.,\n",
       "       24., 24., 24., 24., 24., 24., 24., 24., 24., 24., 24., 24., 24.,\n",
       "       24., 24., 24., 24., 24., 24., 24., 24., 24., 24., 24., 24., 24.,\n",
       "       24., 24., 24., 24., 24., 24., 24., 24., 24., 24., 24., 24., 24.,\n",
       "...\n",
       "       74., 74., 74., 74., 74., 74., 74., 74., 74., 74., 74., 74., 74.,\n",
       "       74., 74., 74., 74., 74., 74., 74., 74., 74., 74., 74., 74., 74.,\n",
       "       74., 74., 74., 74., 74., 74., 74., 74., 74., 74., 74., 74., 74.,\n",
       "       74., 74., 74., 74., 74., 74., 74., 74., 74., 74., 74., 74., 74.,\n",
       "       74., 74., 74., 74., 74., 74., 74., 84., 84., 84., 84., 84., 84.,\n",
       "       84., 84., 84., 84., 84., 84., 84., 84., 84., 84., 84., 84., 84.,\n",
       "       84., 84., 84., 84., 84., 84., 84., 84., 84., 84., 84., 84., 84.,\n",
       "       84., 84., 84., 84., 84., 84., 84., 84., 84., 84., 84., 84., 84.,\n",
       "       84., 84., 84., 84., 84., 84., 84., 84., 84., 84., 84., 84., 84.,\n",
       "       84., 84., 84., 84., 84., 84., 84., 84., 84., 84., 84., 84., 84.,\n",
       "       84., 84., 84., 84., 84., 84., 84., 84., 84., 84., 84., 84., 84.,\n",
       "       84., 84., 84., 84., 84., 84., 84., 84., 84., 84., 84., 84., 84.,\n",
       "       84., 84., 84., 94., 94., 94., 94., 94., 94., 94., 94., 94., 94.,\n",
       "       94., 94., 94., 94., 94., 94., 94., 94., 94., 94., 94., 94., 94.,\n",
       "       94., 94., 94., 94., 94., 94., 94., 94., 94., 94., 94., 94., 94.,\n",
       "       94., 94., 94., 94., 94., 94., 94., 94., 94., 94., 94., 94., 94.,\n",
       "       94., 94., 94., 94., 94., 94., 94., 94., 94., 94., 94., 94., 94.,\n",
       "       94., 94., 94., 94., 94., 94., 94., 94., 94., 94., 94., 94., 94.,\n",
       "       94., 94., 94., 94., 94., 94., 94., 94., 94., 94., 94., 94., 94.,\n",
       "       94., 94., 94., 94., 94., 94., 94., 94., 94., 94., 94., 94.])</pre></div></li></ul></div></li><li class='xr-section-item'><input id='section-36477af2-e8db-4895-8c80-1a8875102145' class='xr-section-summary-in' type='checkbox'  checked><label for='section-36477af2-e8db-4895-8c80-1a8875102145' class='xr-section-summary' >Data variables: <span>(1)</span></label><div class='xr-section-inline-details'></div><div class='xr-section-details'><ul class='xr-var-list'><li class='xr-var-item'><div class='xr-var-name'><span>y0</span></div><div class='xr-var-dims'>(dim_0)</div><div class='xr-var-dtype'>float64</div><div class='xr-var-preview xr-preview'>9.551e-05 9.668e-05 ... 9.293e-05</div><input id='attrs-f56c7fa3-eeca-48d6-8c96-7ba111611498' class='xr-var-attrs-in' type='checkbox' ><label for='attrs-f56c7fa3-eeca-48d6-8c96-7ba111611498' title='Show/Hide attributes'><svg class='icon xr-icon-file-text2'><use xlink:href='#icon-file-text2'></use></svg></label><input id='data-eadf0e3b-fd6c-4f19-a3a1-65136beac973' class='xr-var-data-in' type='checkbox'><label for='data-eadf0e3b-fd6c-4f19-a3a1-65136beac973' title='Show/Hide data repr'><svg class='icon xr-icon-database'><use xlink:href='#icon-database'></use></svg></label><div class='xr-var-attrs'><dl class='xr-attrs'><dt><span>name :</span></dt><dd>ref2_read_I</dd><dt><span>long_name :</span></dt><dd></dd><dt><span>units :</span></dt><dd></dd><dt><span>batched :</span></dt><dd>True</dd><dt><span>batch_size :</span></dt><dd>0</dd></dl></div><div class='xr-var-data'><pre>array([9.55063105e-05, 9.66829062e-05, 9.61826369e-05, 9.85454395e-05,\n",
       "       9.59987938e-05, 9.60379094e-05, 9.89980251e-05, 9.87575948e-05,\n",
       "       9.84504819e-05, 9.59470868e-05, 9.55352187e-05, 9.76800919e-05,\n",
       "       9.67942551e-05, 9.61909443e-05, 9.49844718e-05, 9.88275930e-05,\n",
       "       9.59723815e-05, 9.71956924e-05, 9.65691730e-05, 9.72470641e-05,\n",
       "       9.75307822e-05, 9.62987915e-05, 9.66740027e-05, 9.65555385e-05,\n",
       "       9.56160203e-05, 9.85623896e-05, 9.87673923e-05, 9.74752009e-05,\n",
       "       9.98430327e-05, 9.75246355e-05, 9.69629362e-05, 9.52329859e-05,\n",
       "       9.65619087e-05, 9.52249393e-05, 9.57804918e-05, 9.64150578e-05,\n",
       "       9.48619470e-05, 9.76742804e-05, 9.50679183e-05, 9.60692018e-05,\n",
       "       9.58358496e-05, 9.53184441e-05, 9.53251496e-05, 9.58626717e-05,\n",
       "       9.78261232e-05, 9.48522240e-05, 9.57420096e-05, 9.86988470e-05,\n",
       "       9.52719525e-05, 9.84682143e-05, 9.68477875e-05, 9.74697620e-05,\n",
       "       9.77467373e-05, 9.49976593e-05, 9.80408490e-05, 9.56336036e-05,\n",
       "       9.70814750e-05, 9.73908603e-05, 9.70960036e-05, 9.74692404e-05,\n",
       "       9.82132182e-05, 9.71346721e-05, 9.87691060e-05, 9.66157764e-05,\n",
       "       9.81020927e-05, 9.81513783e-05, 9.70600918e-05, 9.65382159e-05,\n",
       "       9.69053432e-05, 9.76126269e-05, 9.88800079e-05, 9.90027934e-05,\n",
       "       9.42584500e-05, 9.62044299e-05, 9.61244106e-05, 9.53751430e-05,\n",
       "       9.58329067e-05, 9.63567197e-05, 9.46456939e-05, 9.89283249e-05,\n",
       "...\n",
       "       1.01154484e-04, 1.02262162e-04, 1.02653243e-04, 1.01809390e-04,\n",
       "       1.02333166e-04, 1.02010556e-04, 1.03030279e-04, 1.02474540e-04,\n",
       "       1.02753602e-04, 1.02550313e-04, 9.85813513e-05, 1.01919062e-04,\n",
       "       1.01187229e-04, 1.02392361e-04, 1.00485869e-04, 1.01835243e-04,\n",
       "       9.90720093e-05, 1.01775117e-04, 1.03747621e-04, 1.02670714e-04,\n",
       "       1.02907196e-04, 1.03773065e-04, 1.01961307e-04, 1.03163011e-04,\n",
       "       9.84267518e-05, 1.02183670e-04, 1.02489665e-04, 1.02517270e-04,\n",
       "       1.03691332e-04, 1.02920644e-04, 9.97823104e-05, 1.02979802e-04,\n",
       "       9.97241959e-05, 1.01503283e-04, 9.45383683e-05, 9.18882340e-05,\n",
       "       9.39384475e-05, 9.43035260e-05, 9.61386785e-05, 9.42527503e-05,\n",
       "       9.42325592e-05, 9.33041051e-05, 9.29157436e-05, 9.38700885e-05,\n",
       "       9.45216790e-05, 9.50804353e-05, 9.46433842e-05, 9.52710584e-05,\n",
       "       9.16555524e-05, 9.61350277e-05, 9.42831486e-05, 9.39884782e-05,\n",
       "       9.25394148e-05, 9.41582769e-05, 9.40014794e-05, 9.38297063e-05,\n",
       "       9.51569900e-05, 9.35530290e-05, 9.20476392e-05, 9.43713263e-05,\n",
       "       9.27799940e-05, 9.54597816e-05, 9.36043262e-05, 9.57097113e-05,\n",
       "       9.30044055e-05, 9.08092037e-05, 9.54864547e-05, 9.38173011e-05,\n",
       "       9.36741009e-05, 9.36860964e-05, 9.29592922e-05, 9.36790928e-05,\n",
       "       9.36345011e-05, 9.39882547e-05, 9.24038142e-05, 9.46449861e-05,\n",
       "       9.10471752e-05, 9.41097736e-05, 9.33155045e-05, 9.29285213e-05])</pre></div></li></ul></div></li><li class='xr-section-item'><input id='section-0b9e4209-b7ce-4be1-901c-47cd165c459e' class='xr-section-summary-in' type='checkbox' disabled ><label for='section-0b9e4209-b7ce-4be1-901c-47cd165c459e' class='xr-section-summary'  title='Expand/collapse section'>Indexes: <span>(0)</span></label><div class='xr-section-inline-details'></div><div class='xr-section-details'><ul class='xr-var-list'></ul></div></li><li class='xr-section-item'><input id='section-1901d880-1447-418a-9ad9-6cbe03a02d37' class='xr-section-summary-in' type='checkbox'  checked><label for='section-1901d880-1447-418a-9ad9-6cbe03a02d37' class='xr-section-summary' >Attributes: <span>(7)</span></label><div class='xr-section-inline-details'></div><div class='xr-section-details'><dl class='xr-attrs'><dt><span>tuid :</span></dt><dd>20230912-140034-533-300902</dd><dt><span>name :</span></dt><dd>avg3</dd><dt><span>grid_2d :</span></dt><dd>True</dd><dt><span>grid_2d_uniformly_spaced :</span></dt><dd>True</dd><dt><span>1d_2_settables_uniformly_spaced :</span></dt><dd>False</dd><dt><span>xlen :</span></dt><dd>100</dd><dt><span>ylen :</span></dt><dd>10</dd></dl></div></li></ul></div></div>"
      ],
      "text/plain": [
       "<xarray.Dataset>\n",
       "Dimensions:  (dim_0: 1000)\n",
       "Coordinates:\n",
       "    x0       (dim_0) float64 0.01 0.02 0.03 0.04 0.05 ... 0.97 0.98 0.99 1.0\n",
       "    x1       (dim_0) float64 4.0 4.0 4.0 4.0 4.0 ... 94.0 94.0 94.0 94.0 94.0\n",
       "Dimensions without coordinates: dim_0\n",
       "Data variables:\n",
       "    y0       (dim_0) float64 9.551e-05 9.668e-05 ... 9.332e-05 9.293e-05\n",
       "Attributes:\n",
       "    tuid:                             20230912-140034-533-300902\n",
       "    name:                             avg3\n",
       "    grid_2d:                          True\n",
       "    grid_2d_uniformly_spaced:         True\n",
       "    1d_2_settables_uniformly_spaced:  False\n",
       "    xlen:                             100\n",
       "    ylen:                             10"
      ]
     },
     "execution_count": 24,
     "metadata": {},
     "output_type": "execute_result"
    }
   ],
   "source": [
    "meas_ctrl.run(\"avg3\", soft_avg=100)"
   ]
  },
  {
   "cell_type": "code",
   "execution_count": null,
   "id": "924fa47b-1375-42cf-8017-51f722ccf914",
   "metadata": {},
   "outputs": [],
   "source": []
  }
 ],
 "metadata": {
  "kernelspec": {
   "display_name": "temp2_env",
   "language": "python",
   "name": "temp2_env"
  },
  "language_info": {
   "codemirror_mode": {
    "name": "ipython",
    "version": 3
   },
   "file_extension": ".py",
   "mimetype": "text/x-python",
   "name": "python",
   "nbconvert_exporter": "python",
   "pygments_lexer": "ipython3",
   "version": "3.11.4"
  }
 },
 "nbformat": 4,
 "nbformat_minor": 5
}
