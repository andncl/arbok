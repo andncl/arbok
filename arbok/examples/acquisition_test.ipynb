{
 "cells": [
  {
   "cell_type": "markdown",
   "id": "66676d17-8b12-4219-9e63-2d2c392fb74d",
   "metadata": {},
   "source": [
    "# Demo notebook showing arbok functionalities"
   ]
  },
  {
   "cell_type": "markdown",
   "id": "6ddd3d2f-407d-4cc1-bab6-f347ef036bf1",
   "metadata": {},
   "source": [
    "This is a simple demo notebook containing the core functionalities of arbok"
   ]
  },
  {
   "cell_type": "markdown",
   "id": "1eb3a010-7cd8-4d8e-825e-e00615c3dd1a",
   "metadata": {},
   "source": [
    "### Importing qm and arbok module"
   ]
  },
  {
   "cell_type": "code",
   "execution_count": 1,
   "id": "e4c1f0ef-8d28-4e8b-a648-1f46bb929720",
   "metadata": {},
   "outputs": [
    {
     "name": "stdout",
     "output_type": "stream",
     "text": [
      "2023-09-08 15:02:20,853 - qm - INFO     - Starting session: c6614b6a-c0a6-467b-849d-e428d0121782\n"
     ]
    }
   ],
   "source": [
    "from qm.qua import *\n",
    "from qm.QuantumMachinesManager import QuantumMachinesManager\n",
    "from qm.simulate.credentials import create_credentials\n",
    "from qm import SimulationConfig"
   ]
  },
  {
   "cell_type": "code",
   "execution_count": 2,
   "id": "44a36d4a-043e-46d6-a025-a883417c2cd6",
   "metadata": {},
   "outputs": [],
   "source": [
    "from arbok.core.sequence import Sequence\n",
    "from arbok.core.program import Program\n",
    "from arbok.core.sample import Sample\n",
    "\n",
    "from arbok.samples.sunshine.readout.other_ST_read import OtherStReadout\n",
    "from arbok.samples.sunshine.initialization.mixed_down_up_init import (\n",
    "    MixedDownUpInit\n",
    ")\n",
    "from arbok.samples.sunshine.control.smart_Y import SmartY\n",
    "from arbok.samples.sunshine.control.smart_swap import SmartSwap\n",
    "from arbok.samples.sunshine.control.dummy_control import Square\n",
    "from arbok.samples.sunshine.configs.rf2v_config import rf2v_config"
   ]
  },
  {
   "cell_type": "markdown",
   "id": "60573607-0bbf-4fd2-b5aa-df0b2a128d60",
   "metadata": {},
   "source": [
    "### Instanciating Arbok modules"
   ]
  },
  {
   "cell_type": "markdown",
   "id": "6436a744-6f42-40a1-b159-a5c1300b4f23",
   "metadata": {},
   "source": [
    "Firstly we instanciate all `Sequence` objects that should build the entire \n",
    "measurement. Since we imported all sequences from the 'arbok.samples.sunshine' \n",
    "they already have the config for that specific sample"
   ]
  },
  {
   "cell_type": "code",
   "execution_count": 3,
   "id": "9fbcacb3-1a90-4118-bde3-defddd9be447",
   "metadata": {},
   "outputs": [],
   "source": [
    "smart_Y = SmartY('smartY')\n",
    "smart_swap12 = SmartSwap('smartSwap12')\n",
    "smart_swap23 = SmartSwap('smartSwap32')\n",
    "square = Square('square')\n",
    "duInit = MixedDownUpInit('duInit')\n",
    "stReadout = OtherStReadout('stReadout')"
   ]
  },
  {
   "cell_type": "markdown",
   "id": "41a4fd6b-fae0-4249-9490-6b5110444ea5",
   "metadata": {},
   "source": [
    "Next we create an empty `Sequence` class we call 'MEAS' that will structure all \n",
    "subsequeces. This time we need to pass a `Sample` since its a unconfigured \n",
    "sequence. We create second empty sequence to summarize all control sequences \n",
    "(everything happening before readout and after initialization). This is not\n",
    "mandatory but is helpfull if you want to simulate the entire qubit control part\n",
    "of the experiment."
   ]
  },
  {
   "cell_type": "code",
   "execution_count": 4,
   "id": "c97ccc67-815d-4414-8c15-f8629ae6c11e",
   "metadata": {},
   "outputs": [],
   "source": [
    "sunshine = Sample('sunshine', rf2v_config)"
   ]
  },
  {
   "cell_type": "code",
   "execution_count": 5,
   "id": "eaec7298-943c-4c52-8f3c-e1ddba4e0e2f",
   "metadata": {},
   "outputs": [],
   "source": [
    "MEAS = Program('MEAS', sample = sunshine)"
   ]
  },
  {
   "cell_type": "code",
   "execution_count": 6,
   "id": "f42fb6fd-19b8-4171-aabe-30bbc797ddb6",
   "metadata": {},
   "outputs": [
    {
     "name": "stdout",
     "output_type": "stream",
     "text": [
      "2023-09-08 15:02:21,606 - qm - INFO     - Performing health check\n",
      "2023-09-08 15:02:21,647 - qm - INFO     - Health check passed\n"
     ]
    }
   ],
   "source": [
    "MEAS.connect_OPX(host_ip= '192.168.0.3')"
   ]
  },
  {
   "cell_type": "code",
   "execution_count": 7,
   "id": "309e45a9-6f3c-45e7-95a9-2ba7f48e9658",
   "metadata": {},
   "outputs": [],
   "source": [
    "#MEAS = Sequence('MEAS', sample = sunshine)\n",
    "CYY = Sequence('CYY', sample = sunshine)"
   ]
  },
  {
   "cell_type": "markdown",
   "id": "60e2c651-6638-4b90-b9b1-98a34127e0c5",
   "metadata": {},
   "source": [
    "Thus we add all sub-sequences responsible for qubit control in 'CYY' ..."
   ]
  },
  {
   "cell_type": "code",
   "execution_count": 8,
   "id": "c2f83543-ce4e-43dc-b244-b4276b9fe0bd",
   "metadata": {},
   "outputs": [],
   "source": [
    "CYY.add_subsequence(smart_swap12)\n",
    "CYY.add_subsequence(smart_Y)\n",
    "CYY.add_subsequence(smart_swap23)"
   ]
  },
  {
   "cell_type": "markdown",
   "id": "e0692be3-fffd-4c89-bf07-b950f187019c",
   "metadata": {},
   "source": [
    "... and finally add initialization, control and readout to the summarizing \n",
    "`Sequence`. "
   ]
  },
  {
   "cell_type": "code",
   "execution_count": 10,
   "id": "44c5b54f-90ad-49e0-ad67-278fa597f593",
   "metadata": {},
   "outputs": [
    {
     "ename": "KeyError",
     "evalue": "'Duplicate submodule name duInit'",
     "output_type": "error",
     "traceback": [
      "\u001b[1;31m---------------------------------------------------------------------------\u001b[0m",
      "\u001b[1;31mKeyError\u001b[0m                                  Traceback (most recent call last)",
      "Cell \u001b[1;32mIn[10], line 1\u001b[0m\n\u001b[1;32m----> 1\u001b[0m \u001b[43mMEAS\u001b[49m\u001b[38;5;241;43m.\u001b[39;49m\u001b[43madd_subsequence\u001b[49m\u001b[43m(\u001b[49m\u001b[43mduInit\u001b[49m\u001b[43m)\u001b[49m\n\u001b[0;32m      2\u001b[0m MEAS\u001b[38;5;241m.\u001b[39madd_subsequence(CYY)\n\u001b[0;32m      3\u001b[0m MEAS\u001b[38;5;241m.\u001b[39madd_subsequence(square)\n",
      "File \u001b[1;32mc:\\users\\labuser\\gitrepos\\arbok\\arbok\\core\\sequence.py:75\u001b[0m, in \u001b[0;36mSequence.add_subsequence\u001b[1;34m(self, new_sequence, verbose)\u001b[0m\n\u001b[0;32m     65\u001b[0m \u001b[38;5;250m\u001b[39m\u001b[38;5;124;03m\"\"\"\u001b[39;00m\n\u001b[0;32m     66\u001b[0m \u001b[38;5;124;03mAdds a subsequence to the entire programm. Subsequences are added as \u001b[39;00m\n\u001b[0;32m     67\u001b[0m \u001b[38;5;124;03mQCoDeS 'Submodules'. Sequences are executed in order of them being added.\u001b[39;00m\n\u001b[1;32m   (...)\u001b[0m\n\u001b[0;32m     72\u001b[0m \u001b[38;5;124;03m    \u001b[39;00m\n\u001b[0;32m     73\u001b[0m \u001b[38;5;124;03m\"\"\"\u001b[39;00m\n\u001b[0;32m     74\u001b[0m new_sequence\u001b[38;5;241m.\u001b[39m_parent \u001b[38;5;241m=\u001b[39m \u001b[38;5;28mself\u001b[39m\n\u001b[1;32m---> 75\u001b[0m \u001b[38;5;28;43mself\u001b[39;49m\u001b[38;5;241;43m.\u001b[39;49m\u001b[43madd_submodule\u001b[49m\u001b[43m(\u001b[49m\u001b[43mnew_sequence\u001b[49m\u001b[38;5;241;43m.\u001b[39;49m\u001b[43mname\u001b[49m\u001b[43m,\u001b[49m\u001b[43m \u001b[49m\u001b[43mnew_sequence\u001b[49m\u001b[43m)\u001b[49m\n",
      "File \u001b[1;32m~\\miniconda3\\envs\\temp2_env\\Lib\\site-packages\\qcodes\\instrument\\instrument_base.py:224\u001b[0m, in \u001b[0;36mInstrumentBase.add_submodule\u001b[1;34m(self, name, submodule)\u001b[0m\n\u001b[0;32m    198\u001b[0m \u001b[38;5;250m\u001b[39m\u001b[38;5;124;03m\"\"\"\u001b[39;00m\n\u001b[0;32m    199\u001b[0m \u001b[38;5;124;03mBind one submodule to this instrument.\u001b[39;00m\n\u001b[0;32m    200\u001b[0m \n\u001b[1;32m   (...)\u001b[0m\n\u001b[0;32m    221\u001b[0m \u001b[38;5;124;03m        not an instance of an ``Metadatable`` object.\u001b[39;00m\n\u001b[0;32m    222\u001b[0m \u001b[38;5;124;03m\"\"\"\u001b[39;00m\n\u001b[0;32m    223\u001b[0m \u001b[38;5;28;01mif\u001b[39;00m name \u001b[38;5;129;01min\u001b[39;00m \u001b[38;5;28mself\u001b[39m\u001b[38;5;241m.\u001b[39msubmodules:\n\u001b[1;32m--> 224\u001b[0m     \u001b[38;5;28;01mraise\u001b[39;00m \u001b[38;5;167;01mKeyError\u001b[39;00m(\u001b[38;5;124mf\u001b[39m\u001b[38;5;124m\"\u001b[39m\u001b[38;5;124mDuplicate submodule name \u001b[39m\u001b[38;5;132;01m{\u001b[39;00mname\u001b[38;5;132;01m}\u001b[39;00m\u001b[38;5;124m\"\u001b[39m)\n\u001b[0;32m    225\u001b[0m \u001b[38;5;28;01mif\u001b[39;00m \u001b[38;5;129;01mnot\u001b[39;00m \u001b[38;5;28misinstance\u001b[39m(submodule, Metadatable):\n\u001b[0;32m    226\u001b[0m     \u001b[38;5;28;01mraise\u001b[39;00m \u001b[38;5;167;01mTypeError\u001b[39;00m(\u001b[38;5;124m\"\u001b[39m\u001b[38;5;124mSubmodules must be metadatable.\u001b[39m\u001b[38;5;124m\"\u001b[39m)\n",
      "\u001b[1;31mKeyError\u001b[0m: 'Duplicate submodule name duInit'"
     ]
    }
   ],
   "source": [
    "MEAS.add_subsequence(duInit)\n",
    "MEAS.add_subsequence(CYY)\n",
    "MEAS.add_subsequence(square)\n",
    "MEAS.add_subsequence(stReadout)"
   ]
  },
  {
   "cell_type": "code",
   "execution_count": 11,
   "id": "ad51a037-abea-4d5c-98b5-9c6b4f4405af",
   "metadata": {},
   "outputs": [],
   "source": [
    "amp_range =  np.arange(0.5, 1, 0.05)\n",
    "time_range =  np.arange(4, 105, 1, dtype=int)"
   ]
  },
  {
   "cell_type": "code",
   "execution_count": 12,
   "id": "816f1c2e-bbb4-405c-8a86-99b28de48a31",
   "metadata": {},
   "outputs": [],
   "source": [
    "MEAS.settables = [MEAS.square.amp, MEAS.square.tSquare]\n",
    "MEAS.setpoints_grid = [ amp_range, time_range ]"
   ]
  },
  {
   "cell_type": "code",
   "execution_count": 13,
   "id": "bd232fba-2755-48cc-93f0-35d010c2bb60",
   "metadata": {},
   "outputs": [
    {
     "name": "stdout",
     "output_type": "stream",
     "text": [
      "10 101\n"
     ]
    }
   ],
   "source": [
    "print( len(amp_range), len(time_range) )"
   ]
  },
  {
   "cell_type": "code",
   "execution_count": 13,
   "id": "6575a6e9-a4aa-414a-849f-8a58f6d3ee13",
   "metadata": {},
   "outputs": [],
   "source": [
    "#MEAS.duInit.tPreControl(int(2e2/4))\n",
    "#MEAS.duInit.tInitLoadMixed(int(1e2/4))\n",
    "#MEAS.duInit.tPreControlRampMixed(int(1e2/4))"
   ]
  },
  {
   "cell_type": "code",
   "execution_count": 14,
   "id": "12e7cdeb-844a-4e33-a35e-028eaa38c2e2",
   "metadata": {},
   "outputs": [],
   "source": [
    "#MEAS.run_remote_simulation(duration=8000)"
   ]
  },
  {
   "cell_type": "code",
   "execution_count": 15,
   "id": "1dac1a46-3ded-4447-bb42-aae5e0b61da8",
   "metadata": {},
   "outputs": [],
   "source": [
    "#MEAS.run_remote_simulation(duration=8000)"
   ]
  },
  {
   "cell_type": "code",
   "execution_count": 16,
   "id": "0f5a305e-730f-4d80-bd50-3701cd290561",
   "metadata": {},
   "outputs": [
    {
     "name": "stdout",
     "output_type": "stream",
     "text": [
      "2023-07-25 09:29:17,024 - qm - INFO     - Sending program to QOP for compilation\n",
      "2023-07-25 09:29:18,773 - qm - INFO     - Executing program\n"
     ]
    }
   ],
   "source": [
    "MEAS.run()"
   ]
  },
  {
   "cell_type": "code",
   "execution_count": 17,
   "id": "38a5cf57-72ab-4689-80cb-5e4dec74a8ef",
   "metadata": {
    "scrolled": true
   },
   "outputs": [],
   "source": [
    "#while MEAS.result_handles.is_processing():\n",
    "#    MEAS.stReadout.read_state()"
   ]
  },
  {
   "cell_type": "markdown",
   "id": "8e57b666-fac4-49d4-9207-bc4fab3c15a5",
   "metadata": {},
   "source": [
    "### Now putting everything in quantify"
   ]
  },
  {
   "cell_type": "code",
   "execution_count": 18,
   "id": "717c2f91-40ac-48dd-8b29-da207946d4d8",
   "metadata": {},
   "outputs": [],
   "source": [
    "import quantify_core.data.handling as dh\n",
    "from quantify_core.measurement import MeasurementControl"
   ]
  },
  {
   "cell_type": "code",
   "execution_count": 19,
   "id": "b33b3a9f-d636-45ec-acb5-1f4bdf94b597",
   "metadata": {},
   "outputs": [
    {
     "name": "stdout",
     "output_type": "stream",
     "text": [
      "Data will be saved in:\n",
      "C:\\Users\\labuser\\quantify-data\n"
     ]
    }
   ],
   "source": [
    "dh.set_datadir(dh.default_datadir())"
   ]
  },
  {
   "cell_type": "code",
   "execution_count": 20,
   "id": "cf3e5405-80d3-427a-9ac1-62fef2baa839",
   "metadata": {},
   "outputs": [],
   "source": [
    "meas_ctrl = MeasurementControl('meas_ctrl')"
   ]
  },
  {
   "cell_type": "code",
   "execution_count": 21,
   "id": "67a879e0-5756-4c14-9766-892bd98e7246",
   "metadata": {},
   "outputs": [],
   "source": [
    "meas_ctrl.gettables(MEAS.stReadout.read_state)"
   ]
  },
  {
   "cell_type": "code",
   "execution_count": 22,
   "id": "2dc528e1-74b0-442b-95f8-25a03b378629",
   "metadata": {},
   "outputs": [],
   "source": [
    "meas_ctrl.settables([MEAS.square.amp, MEAS.square.tSquare])"
   ]
  },
  {
   "cell_type": "code",
   "execution_count": 23,
   "id": "5f3341da-46b1-4c86-bd16-aab5ca342c3f",
   "metadata": {},
   "outputs": [],
   "source": [
    "meas_ctrl.setpoints_grid([amp_range, time_range])"
   ]
  },
  {
   "cell_type": "code",
   "execution_count": 24,
   "id": "d57f17c9-884f-47e0-86dd-9a77b88ed7b1",
   "metadata": {},
   "outputs": [],
   "source": [
    "arr = MEAS.stReadout.read_state.get()"
   ]
  },
  {
   "cell_type": "code",
   "execution_count": 25,
   "id": "c136dd5b-1af5-42e2-bb5e-4b0582c8b540",
   "metadata": {},
   "outputs": [],
   "source": [
    "arr"
   ]
  },
  {
   "cell_type": "code",
   "execution_count": 26,
   "id": "329017c6-2b03-4906-9b59-c0c4743197f8",
   "metadata": {},
   "outputs": [
    {
     "data": {
      "text/plain": [
       "1010"
      ]
     },
     "execution_count": 26,
     "metadata": {},
     "output_type": "execute_result"
    }
   ],
   "source": [
    "MEAS.sweep_len"
   ]
  },
  {
   "cell_type": "code",
   "execution_count": 27,
   "id": "03166418-6467-4698-9d9c-16d077667d5e",
   "metadata": {
    "scrolled": true
   },
   "outputs": [
    {
     "name": "stdout",
     "output_type": "stream",
     "text": [
      "busy \n",
      " paused;  False\n",
      " total counts: 334\n",
      " registerd; 1010\n",
      "busy \n",
      " paused;  False\n",
      " total counts: 334\n",
      " registerd; 1010\n",
      "busy \n",
      " paused;  False\n",
      " total counts: 354\n",
      " registerd; 1010\n",
      "busy \n",
      " paused;  False\n",
      " total counts: 354\n",
      " registerd; 1010\n",
      "busy \n",
      " paused;  False\n",
      " total counts: 374\n",
      " registerd; 1010\n",
      "busy \n",
      " paused;  False\n",
      " total counts: 374\n",
      " registerd; 1010\n",
      "busy \n",
      " paused;  False\n",
      " total counts: 394\n",
      " registerd; 1010\n",
      "busy \n",
      " paused;  False\n",
      " total counts: 394\n",
      " registerd; 1010\n",
      "busy \n",
      " paused;  False\n",
      " total counts: 394\n",
      " registerd; 1010\n",
      "busy \n",
      " paused;  False\n",
      " total counts: 414\n",
      " registerd; 1010\n",
      "busy \n",
      " paused;  False\n",
      " total counts: 414\n",
      " registerd; 1010\n",
      "busy \n",
      " paused;  False\n",
      " total counts: 438\n",
      " registerd; 1010\n",
      "busy \n",
      " paused;  False\n",
      " total counts: 438\n",
      " registerd; 1010\n",
      "busy \n",
      " paused;  False\n",
      " total counts: 458\n",
      " registerd; 1010\n",
      "busy \n",
      " paused;  False\n",
      " total counts: 458\n",
      " registerd; 1010\n",
      "busy \n",
      " paused;  False\n",
      " total counts: 478\n",
      " registerd; 1010\n",
      "busy \n",
      " paused;  False\n",
      " total counts: 478\n",
      " registerd; 1010\n",
      "busy \n",
      " paused;  False\n",
      " total counts: 478\n",
      " registerd; 1010\n",
      "busy \n",
      " paused;  False\n",
      " total counts: 478\n",
      " registerd; 1010\n",
      "busy \n",
      " paused;  False\n",
      " total counts: 502\n",
      " registerd; 1010\n",
      "busy \n",
      " paused;  False\n",
      " total counts: 502\n",
      " registerd; 1010\n",
      "busy \n",
      " paused;  False\n",
      " total counts: 522\n",
      " registerd; 1010\n",
      "busy \n",
      " paused;  False\n",
      " total counts: 522\n",
      " registerd; 1010\n",
      "busy \n",
      " paused;  False\n",
      " total counts: 542\n",
      " registerd; 1010\n",
      "busy \n",
      " paused;  False\n",
      " total counts: 542\n",
      " registerd; 1010\n",
      "busy \n",
      " paused;  False\n",
      " total counts: 566\n",
      " registerd; 1010\n",
      "busy \n",
      " paused;  False\n",
      " total counts: 566\n",
      " registerd; 1010\n",
      "busy \n",
      " paused;  False\n",
      " total counts: 590\n",
      " registerd; 1010\n",
      "busy \n",
      " paused;  False\n",
      " total counts: 614\n",
      " registerd; 1010\n",
      "busy \n",
      " paused;  False\n",
      " total counts: 614\n",
      " registerd; 1010\n",
      "busy \n",
      " paused;  False\n",
      " total counts: 634\n",
      " registerd; 1010\n",
      "busy \n",
      " paused;  False\n",
      " total counts: 634\n",
      " registerd; 1010\n",
      "busy \n",
      " paused;  False\n",
      " total counts: 654\n",
      " registerd; 1010\n",
      "busy \n",
      " paused;  False\n",
      " total counts: 654\n",
      " registerd; 1010\n",
      "busy \n",
      " paused;  False\n",
      " total counts: 678\n",
      " registerd; 1010\n",
      "busy \n",
      " paused;  False\n",
      " total counts: 678\n",
      " registerd; 1010\n",
      "busy \n",
      " paused;  False\n",
      " total counts: 698\n",
      " registerd; 1010\n",
      "busy \n",
      " paused;  False\n",
      " total counts: 698\n",
      " registerd; 1010\n",
      "busy \n",
      " paused;  False\n",
      " total counts: 698\n",
      " registerd; 1010\n",
      "busy \n",
      " paused;  False\n",
      " total counts: 698\n",
      " registerd; 1010\n",
      "busy \n",
      " paused;  False\n",
      " total counts: 698\n",
      " registerd; 1010\n",
      "busy \n",
      " paused;  False\n",
      " total counts: 721\n",
      " registerd; 1010\n",
      "busy \n",
      " paused;  False\n",
      " total counts: 721\n",
      " registerd; 1010\n",
      "busy \n",
      " paused;  False\n",
      " total counts: 741\n",
      " registerd; 1010\n",
      "busy \n",
      " paused;  False\n",
      " total counts: 741\n",
      " registerd; 1010\n",
      "busy \n",
      " paused;  False\n",
      " total counts: 765\n",
      " registerd; 1010\n",
      "busy \n",
      " paused;  False\n",
      " total counts: 765\n",
      " registerd; 1010\n",
      "busy \n",
      " paused;  False\n",
      " total counts: 765\n",
      " registerd; 1010\n",
      "busy \n",
      " paused;  False\n",
      " total counts: 785\n",
      " registerd; 1010\n",
      "busy \n",
      " paused;  False\n",
      " total counts: 785\n",
      " registerd; 1010\n",
      "busy \n",
      " paused;  False\n",
      " total counts: 805\n",
      " registerd; 1010\n",
      "busy \n",
      " paused;  False\n",
      " total counts: 805\n",
      " registerd; 1010\n",
      "busy \n",
      " paused;  False\n",
      " total counts: 825\n",
      " registerd; 1010\n",
      "busy \n",
      " paused;  False\n",
      " total counts: 825\n",
      " registerd; 1010\n",
      "busy \n",
      " paused;  False\n",
      " total counts: 844\n",
      " registerd; 1010\n",
      "busy \n",
      " paused;  False\n",
      " total counts: 844\n",
      " registerd; 1010\n",
      "busy \n",
      " paused;  False\n",
      " total counts: 844\n",
      " registerd; 1010\n",
      "busy \n",
      " paused;  False\n",
      " total counts: 868\n",
      " registerd; 1010\n",
      "busy \n",
      " paused;  False\n",
      " total counts: 868\n",
      " registerd; 1010\n",
      "busy \n",
      " paused;  False\n",
      " total counts: 888\n",
      " registerd; 1010\n",
      "busy \n",
      " paused;  False\n",
      " total counts: 888\n",
      " registerd; 1010\n",
      "busy \n",
      " paused;  False\n",
      " total counts: 908\n",
      " registerd; 1010\n",
      "busy \n",
      " paused;  False\n",
      " total counts: 908\n",
      " registerd; 1010\n",
      "busy \n",
      " paused;  False\n",
      " total counts: 928\n",
      " registerd; 1010\n",
      "busy \n",
      " paused;  False\n",
      " total counts: 928\n",
      " registerd; 1010\n",
      "busy \n",
      " paused;  False\n",
      " total counts: 949\n",
      " registerd; 1010\n",
      "busy \n",
      " paused;  False\n",
      " total counts: 949\n",
      " registerd; 1010\n",
      "busy \n",
      " paused;  False\n",
      " total counts: 972\n",
      " registerd; 1010\n",
      "busy \n",
      " paused;  False\n",
      " total counts: 992\n",
      " registerd; 1010\n",
      "busy \n",
      " paused;  False\n",
      " total counts: 992\n",
      " registerd; 1010\n",
      "busy \n",
      " paused;  True\n",
      " total counts: 1010\n",
      " registerd; 1010\n",
      "New result! \n",
      " paused;  True\n",
      " total counts: 1010\n",
      " registerd; 1010\n",
      "[[1 1 1 ... 1 1 1]\n",
      " [1 1 1 ... 1 1 1]\n",
      " [1 1 1 ... 1 1 1]\n",
      " ...\n",
      " [1 1 1 ... 1 1 1]\n",
      " [1 1 1 ... 1 1 1]\n",
      " [1 1 1 ... 1 1 1]]\n"
     ]
    }
   ],
   "source": [
    "arr = MEAS.stReadout.read_state()"
   ]
  },
  {
   "cell_type": "code",
   "execution_count": 28,
   "id": "dfb82258-7bc8-4d6c-9d00-63a40565453e",
   "metadata": {},
   "outputs": [],
   "source": [
    "MEAS.stReadout.read_state.batch_size = 1010\n",
    "MEAS.square.amp.batch_size = 1010\n",
    "MEAS.square.tSquare.batch_size = 1010"
   ]
  },
  {
   "cell_type": "code",
   "execution_count": 31,
   "id": "2c506553-b99e-4c6b-8f15-411fa7889d38",
   "metadata": {},
   "outputs": [
    {
     "data": {
      "text/plain": [
       "NoneType"
      ]
     },
     "execution_count": 31,
     "metadata": {},
     "output_type": "execute_result"
    }
   ],
   "source": [
    "type(arr)"
   ]
  },
  {
   "cell_type": "code",
   "execution_count": 29,
   "id": "0691610e-cb85-4bbd-ba55-cfb365a22119",
   "metadata": {
    "scrolled": true
   },
   "outputs": [
    {
     "name": "stdout",
     "output_type": "stream",
     "text": [
      "Starting batched measurement...\n",
      "Iterative settable(s) [outer loop(s)]:\n",
      "\t --- (None) --- \n",
      "Batched settable(s):\n",
      "\t amp, tSquare \n",
      "Batch size limit: 1010\n",
      "\n",
      "busy \n",
      " paused;  False\n",
      " total counts: 1012\n",
      " registerd; 2020\n",
      "busy \n",
      " paused;  False\n",
      " total counts: 1036\n",
      " registerd; 2020\n",
      "busy \n",
      " paused;  False\n",
      " total counts: 1036\n",
      " registerd; 2020\n",
      "busy \n",
      " paused;  False\n",
      " total counts: 1056\n",
      " registerd; 2020\n",
      "busy \n",
      " paused;  False\n",
      " total counts: 1056\n",
      " registerd; 2020\n",
      "busy \n",
      " paused;  False\n",
      " total counts: 1076\n",
      " registerd; 2020\n",
      "busy \n",
      " paused;  False\n",
      " total counts: 1076\n",
      " registerd; 2020\n",
      "busy \n",
      " paused;  False\n",
      " total counts: 1076\n",
      " registerd; 2020\n",
      "busy \n",
      " paused;  False\n",
      " total counts: 1096\n",
      " registerd; 2020\n",
      "busy \n",
      " paused;  False\n",
      " total counts: 1096\n",
      " registerd; 2020\n",
      "busy \n",
      " paused;  False\n",
      " total counts: 1116\n",
      " registerd; 2020\n",
      "busy \n",
      " paused;  False\n",
      " total counts: 1116\n",
      " registerd; 2020\n",
      "busy \n",
      " paused;  False\n",
      " total counts: 1136\n",
      " registerd; 2020\n",
      "busy \n",
      " paused;  False\n",
      " total counts: 1136\n",
      " registerd; 2020\n",
      "busy \n",
      " paused;  False\n",
      " total counts: 1136\n",
      " registerd; 2020\n",
      "busy \n",
      " paused;  False\n",
      " total counts: 1160\n",
      " registerd; 2020\n",
      "busy \n",
      " paused;  False\n",
      " total counts: 1160\n",
      " registerd; 2020\n",
      "busy \n",
      " paused;  False\n",
      " total counts: 1184\n",
      " registerd; 2020\n",
      "busy \n",
      " paused;  False\n",
      " total counts: 1184\n",
      " registerd; 2020\n",
      "busy \n",
      " paused;  False\n",
      " total counts: 1204\n",
      " registerd; 2020\n",
      "busy \n",
      " paused;  False\n",
      " total counts: 1204\n",
      " registerd; 2020\n",
      "busy \n",
      " paused;  False\n",
      " total counts: 1224\n",
      " registerd; 2020\n",
      "busy \n",
      " paused;  False\n",
      " total counts: 1224\n",
      " registerd; 2020\n",
      "busy \n",
      " paused;  False\n",
      " total counts: 1224\n",
      " registerd; 2020\n",
      "busy \n",
      " paused;  False\n",
      " total counts: 1244\n",
      " registerd; 2020\n",
      "busy \n",
      " paused;  False\n",
      " total counts: 1264\n",
      " registerd; 2020\n",
      "busy \n",
      " paused;  False\n",
      " total counts: 1264\n",
      " registerd; 2020\n",
      "busy \n",
      " paused;  False\n",
      " total counts: 1284\n",
      " registerd; 2020\n",
      "busy \n",
      " paused;  False\n",
      " total counts: 1284\n",
      " registerd; 2020\n",
      "busy \n",
      " paused;  False\n",
      " total counts: 1284\n",
      " registerd; 2020\n",
      "busy \n",
      " paused;  False\n",
      " total counts: 1304\n",
      " registerd; 2020\n",
      "busy \n",
      " paused;  False\n",
      " total counts: 1304\n",
      " registerd; 2020\n",
      "busy \n",
      " paused;  False\n",
      " total counts: 1328\n",
      " registerd; 2020\n",
      "busy \n",
      " paused;  False\n",
      " total counts: 1328\n",
      " registerd; 2020\n",
      "busy \n",
      " paused;  False\n",
      " total counts: 1328\n",
      " registerd; 2020\n",
      "busy \n",
      " paused;  False\n",
      " total counts: 1348\n",
      " registerd; 2020\n",
      "busy \n",
      " paused;  False\n",
      " total counts: 1348\n",
      " registerd; 2020\n",
      "busy \n",
      " paused;  False\n",
      " total counts: 1368\n",
      " registerd; 2020\n",
      "busy \n",
      " paused;  False\n",
      " total counts: 1368\n",
      " registerd; 2020\n",
      "busy \n",
      " paused;  False\n",
      " total counts: 1368\n",
      " registerd; 2020\n",
      "busy \n",
      " paused;  False\n",
      " total counts: 1368\n",
      " registerd; 2020\n",
      "busy \n",
      " paused;  False\n",
      " total counts: 1392\n",
      " registerd; 2020\n",
      "busy \n",
      " paused;  False\n",
      " total counts: 1392\n",
      " registerd; 2020\n",
      "busy \n",
      " paused;  False\n",
      " total counts: 1392\n",
      " registerd; 2020\n",
      "busy \n",
      " paused;  False\n",
      " total counts: 1412\n",
      " registerd; 2020\n",
      "busy \n",
      " paused;  False\n",
      " total counts: 1412\n",
      " registerd; 2020\n",
      "busy \n",
      " paused;  False\n",
      " total counts: 1432\n",
      " registerd; 2020\n",
      "busy \n",
      " paused;  False\n",
      " total counts: 1432\n",
      " registerd; 2020\n",
      "busy \n",
      " paused;  False\n",
      " total counts: 1455\n",
      " registerd; 2020\n",
      "busy \n",
      " paused;  False\n",
      " total counts: 1455\n",
      " registerd; 2020\n",
      "busy \n",
      " paused;  False\n",
      " total counts: 1475\n",
      " registerd; 2020\n",
      "busy \n",
      " paused;  False\n",
      " total counts: 1475\n",
      " registerd; 2020\n",
      "busy \n",
      " paused;  False\n",
      " total counts: 1495\n",
      " registerd; 2020\n",
      "busy \n",
      " paused;  False\n",
      " total counts: 1495\n",
      " registerd; 2020\n",
      "busy \n",
      " paused;  False\n",
      " total counts: 1515\n",
      " registerd; 2020\n",
      "busy \n",
      " paused;  False\n",
      " total counts: 1515\n",
      " registerd; 2020\n",
      "busy \n",
      " paused;  False\n",
      " total counts: 1539\n",
      " registerd; 2020\n",
      "busy \n",
      " paused;  False\n",
      " total counts: 1539\n",
      " registerd; 2020\n",
      "busy \n",
      " paused;  False\n",
      " total counts: 1539\n",
      " registerd; 2020\n",
      "busy \n",
      " paused;  False\n",
      " total counts: 1559\n",
      " registerd; 2020\n",
      "busy \n",
      " paused;  False\n",
      " total counts: 1559\n",
      " registerd; 2020\n",
      "busy \n",
      " paused;  False\n",
      " total counts: 1579\n",
      " registerd; 2020\n",
      "busy \n",
      " paused;  False\n",
      " total counts: 1579\n",
      " registerd; 2020\n",
      "busy \n",
      " paused;  False\n",
      " total counts: 1599\n",
      " registerd; 2020\n",
      "busy \n",
      " paused;  False\n",
      " total counts: 1599\n",
      " registerd; 2020\n",
      "busy \n",
      " paused;  False\n",
      " total counts: 1623\n",
      " registerd; 2020\n",
      "busy \n",
      " paused;  False\n",
      " total counts: 1623\n",
      " registerd; 2020\n",
      "busy \n",
      " paused;  False\n",
      " total counts: 1643\n",
      " registerd; 2020\n",
      "busy \n",
      " paused;  False\n",
      " total counts: 1643\n",
      " registerd; 2020\n",
      "busy \n",
      " paused;  False\n",
      " total counts: 1663\n",
      " registerd; 2020\n",
      "busy \n",
      " paused;  False\n",
      " total counts: 1663\n",
      " registerd; 2020\n",
      "busy \n",
      " paused;  False\n",
      " total counts: 1683\n",
      " registerd; 2020\n",
      "busy \n",
      " paused;  False\n",
      " total counts: 1683\n",
      " registerd; 2020\n",
      "busy \n",
      " paused;  False\n",
      " total counts: 1703\n",
      " registerd; 2020\n",
      "busy \n",
      " paused;  False\n",
      " total counts: 1703\n",
      " registerd; 2020\n",
      "busy \n",
      " paused;  False\n",
      " total counts: 1727\n",
      " registerd; 2020\n",
      "busy \n",
      " paused;  False\n",
      " total counts: 1727\n",
      " registerd; 2020\n",
      "busy \n",
      " paused;  False\n",
      " total counts: 1747\n",
      " registerd; 2020\n",
      "busy \n",
      " paused;  False\n",
      " total counts: 1747\n",
      " registerd; 2020\n",
      "busy \n",
      " paused;  False\n",
      " total counts: 1747\n",
      " registerd; 2020\n",
      "busy \n",
      " paused;  False\n",
      " total counts: 1767\n",
      " registerd; 2020\n",
      "busy \n",
      " paused;  False\n",
      " total counts: 1767\n",
      " registerd; 2020\n",
      "busy \n",
      " paused;  False\n",
      " total counts: 1787\n",
      " registerd; 2020\n",
      "busy \n",
      " paused;  False\n",
      " total counts: 1787\n",
      " registerd; 2020\n",
      "busy \n",
      " paused;  False\n",
      " total counts: 1807\n",
      " registerd; 2020\n",
      "busy \n",
      " paused;  False\n",
      " total counts: 1807\n",
      " registerd; 2020\n",
      "busy \n",
      " paused;  False\n",
      " total counts: 1827\n",
      " registerd; 2020\n",
      "busy \n",
      " paused;  False\n",
      " total counts: 1827\n",
      " registerd; 2020\n",
      "busy \n",
      " paused;  False\n",
      " total counts: 1847\n",
      " registerd; 2020\n",
      "busy \n",
      " paused;  False\n",
      " total counts: 1847\n",
      " registerd; 2020\n",
      "busy \n",
      " paused;  False\n",
      " total counts: 1867\n",
      " registerd; 2020\n",
      "busy \n",
      " paused;  False\n",
      " total counts: 1867\n",
      " registerd; 2020\n",
      "busy \n",
      " paused;  False\n",
      " total counts: 1867\n",
      " registerd; 2020\n",
      "busy \n",
      " paused;  False\n",
      " total counts: 1867\n",
      " registerd; 2020\n",
      "busy \n",
      " paused;  False\n",
      " total counts: 1891\n",
      " registerd; 2020\n",
      "busy \n",
      " paused;  False\n",
      " total counts: 1891\n",
      " registerd; 2020\n",
      "busy \n",
      " paused;  False\n",
      " total counts: 1911\n",
      " registerd; 2020\n",
      "busy \n",
      " paused;  False\n",
      " total counts: 1911\n",
      " registerd; 2020\n",
      "busy \n",
      " paused;  False\n",
      " total counts: 1911\n",
      " registerd; 2020\n",
      "busy \n",
      " paused;  False\n",
      " total counts: 1931\n",
      " registerd; 2020\n",
      "busy \n",
      " paused;  False\n",
      " total counts: 1931\n",
      " registerd; 2020\n",
      "busy \n",
      " paused;  False\n",
      " total counts: 1951\n",
      " registerd; 2020\n",
      "busy \n",
      " paused;  False\n",
      " total counts: 1951\n",
      " registerd; 2020\n",
      "busy \n",
      " paused;  False\n",
      " total counts: 1971\n",
      " registerd; 2020\n",
      "busy \n",
      " paused;  False\n",
      " total counts: 1971\n",
      " registerd; 2020\n",
      "busy \n",
      " paused;  False\n",
      " total counts: 1995\n",
      " registerd; 2020\n",
      "busy \n",
      " paused;  True\n",
      " total counts: 1995\n",
      " registerd; 2020\n",
      "busy \n",
      " paused;  True\n",
      " total counts: 2019\n",
      " registerd; 2020\n",
      "New result! \n",
      " paused;  True\n",
      " total counts: 2020\n",
      " registerd; 2020\n",
      "[[1 1 1 ... 1 1 1]\n",
      " [1 1 1 ... 1 1 1]\n",
      " [1 1 1 ... 1 1 1]\n",
      " ...\n",
      " [1 1 1 ... 1 1 1]\n",
      " [1 1 1 ... 1 1 1]\n",
      " [1 1 1 ... 1 1 1]]\n"
     ]
    },
    {
     "ename": "TypeError",
     "evalue": "'NoneType' object is not iterable",
     "output_type": "error",
     "traceback": [
      "\u001b[1;31m---------------------------------------------------------------------------\u001b[0m",
      "\u001b[1;31mTypeError\u001b[0m                                 Traceback (most recent call last)",
      "Cell \u001b[1;32mIn[29], line 1\u001b[0m\n\u001b[1;32m----> 1\u001b[0m \u001b[43mmeas_ctrl\u001b[49m\u001b[38;5;241;43m.\u001b[39;49m\u001b[43mrun\u001b[49m\u001b[43m(\u001b[49m\u001b[43m)\u001b[49m\n",
      "File \u001b[1;32m~\\miniconda3\\envs\\temp2_env\\Lib\\site-packages\\quantify_core\\measurement\\control.py:361\u001b[0m, in \u001b[0;36mMeasurementControl.run\u001b[1;34m(self, name, soft_avg, lazy_set, save_data)\u001b[0m\n\u001b[0;32m    359\u001b[0m     \u001b[38;5;28;01mif\u001b[39;00m \u001b[38;5;28mself\u001b[39m\u001b[38;5;241m.\u001b[39mverbose():\n\u001b[0;32m    360\u001b[0m         \u001b[38;5;28mprint\u001b[39m(\u001b[38;5;124m\"\u001b[39m\u001b[38;5;124mStarting batched measurement...\u001b[39m\u001b[38;5;124m\"\u001b[39m)\n\u001b[1;32m--> 361\u001b[0m     \u001b[38;5;28;43mself\u001b[39;49m\u001b[38;5;241;43m.\u001b[39;49m\u001b[43m_run_batched\u001b[49m\u001b[43m(\u001b[49m\u001b[43m)\u001b[49m\n\u001b[0;32m    362\u001b[0m \u001b[38;5;28;01melse\u001b[39;00m:\n\u001b[0;32m    363\u001b[0m     \u001b[38;5;28;01mif\u001b[39;00m \u001b[38;5;28mself\u001b[39m\u001b[38;5;241m.\u001b[39mverbose():\n",
      "File \u001b[1;32m~\\miniconda3\\envs\\temp2_env\\Lib\\site-packages\\quantify_core\\measurement\\control.py:532\u001b[0m, in \u001b[0;36mMeasurementControl._run_batched\u001b[1;34m(self)\u001b[0m\n\u001b[0;32m    529\u001b[0m \u001b[38;5;28;01mif\u001b[39;00m \u001b[38;5;28mlen\u001b[39m(np\u001b[38;5;241m.\u001b[39mshape(new_data)) \u001b[38;5;241m==\u001b[39m \u001b[38;5;241m1\u001b[39m:\n\u001b[0;32m    530\u001b[0m     new_data \u001b[38;5;241m=\u001b[39m new_data\u001b[38;5;241m.\u001b[39mreshape(\u001b[38;5;241m1\u001b[39m, (\u001b[38;5;28mlen\u001b[39m(new_data)))\n\u001b[1;32m--> 532\u001b[0m \u001b[38;5;28;01mfor\u001b[39;00m row \u001b[38;5;129;01min\u001b[39;00m new_data:\n\u001b[0;32m    533\u001b[0m     yi_name \u001b[38;5;241m=\u001b[39m \u001b[38;5;124mf\u001b[39m\u001b[38;5;124m\"\u001b[39m\u001b[38;5;124my\u001b[39m\u001b[38;5;132;01m{\u001b[39;00my_off\u001b[38;5;132;01m}\u001b[39;00m\u001b[38;5;124m\"\u001b[39m\n\u001b[0;32m    534\u001b[0m     slice_len \u001b[38;5;241m=\u001b[39m setpoint_idx \u001b[38;5;241m+\u001b[39m \u001b[38;5;28mlen\u001b[39m(row)  \u001b[38;5;66;03m# the slice we will be updating\u001b[39;00m\n",
      "\u001b[1;31mTypeError\u001b[0m: 'NoneType' object is not iterable"
     ]
    }
   ],
   "source": [
    "meas_ctrl.run()"
   ]
  },
  {
   "cell_type": "code",
   "execution_count": null,
   "id": "437f17e1-dec1-418f-b5d4-dc74e6f8ec82",
   "metadata": {
    "scrolled": true
   },
   "outputs": [],
   "source": [
    "res.count_so_far()/MEAS.sweep_size"
   ]
  },
  {
   "cell_type": "code",
   "execution_count": null,
   "id": "855c023c-d738-4d6e-a8fc-0516792815a8",
   "metadata": {},
   "outputs": [],
   "source": [
    "while MEAS.qm_job.is_paused():\n",
    "    print(MEAS.result_handles.read_state.count_so_far(), end = '\\r')"
   ]
  },
  {
   "cell_type": "code",
   "execution_count": null,
   "id": "a8744ba6-8324-4c29-bbe3-9790c37dc110",
   "metadata": {
    "scrolled": true
   },
   "outputs": [],
   "source": [
    "import time\n",
    "last_time = time.time()\n",
    "last_size = np.size(MEAS.result_handles.get('read_state').fetch_all())\n",
    "time_list = []\n",
    "res_list = []\n",
    "MEAS.qm_job.resume()\n",
    "\n",
    "while MEAS.result_handles.is_processing():\n",
    "    if not MEAS.qm_job.is_paused():\n",
    "        print('Running:',end='\\r')\n",
    "    if MEAS.qm_job.is_paused():\n",
    "        now_time = time.time()\n",
    "        diff_time = now_time-last_time\n",
    "        time_list.append(diff_time)\n",
    "        last_size = np.size(res.fetch_all())\n",
    "        diff_res = np.size(MEAS.result_handles.get('diff_state').fetch_all())- last_size\n",
    "        res_list.append(diff_res)\n",
    "        shape = np.shape(MEAS.result_handles.read_state_run.fetch_all())\n",
    "        if True:\n",
    "            print(\n",
    "                shape, last_size, \n",
    "                np.mean(res_list),\n",
    "                MEAS.qm_job.is_paused(), \n",
    "                np.mean(time_list), end='\\r')\n",
    "        last_size = np.size(MEAS.result_handles.get('diff_state').fetch_all())\n",
    "        last_time = time.time()\n",
    "        \n",
    "        MEAS.qm_job.resume()\n",
    "    "
   ]
  },
  {
   "cell_type": "code",
   "execution_count": null,
   "id": "137f1f05-4684-4458-b284-d0f0ea033aa8",
   "metadata": {},
   "outputs": [],
   "source": [
    "MEAS.result_handles.is_processing()"
   ]
  },
  {
   "cell_type": "code",
   "execution_count": null,
   "id": "f6ac93a4-89c7-499e-9b6f-5a877dd8be2a",
   "metadata": {},
   "outputs": [],
   "source": [
    "MEAS.opx.close()"
   ]
  },
  {
   "cell_type": "code",
   "execution_count": null,
   "id": "abd3fcc0-fd81-465c-8519-41d5d321cecf",
   "metadata": {},
   "outputs": [],
   "source": [
    "#MEAS.result_handles.get('read_state').fetch_all()"
   ]
  },
  {
   "cell_type": "markdown",
   "id": "18fd072e-8f9e-44ad-8bbe-fb23bb99c07a",
   "metadata": {},
   "source": [
    "Note that the QCoDeS `Parameter`s describing the respective sub sequenes are \n",
    "saved within their sub classes. The QUA code lives within the sub classes as well\n",
    "and gets compiled recursively, once we call `get_program()` on the class itself\n",
    "or on any of its parent sequences. See in the cell below how to access parameters."
   ]
  },
  {
   "cell_type": "code",
   "execution_count": null,
   "id": "6f8f5b4a-6958-40dc-a748-7268ff9d6409",
   "metadata": {},
   "outputs": [],
   "source": [
    "MEAS.CYY.smartSwap12.tSwap.get()"
   ]
  },
  {
   "cell_type": "code",
   "execution_count": null,
   "id": "8e200325-2cb0-4d36-83b1-c55ed4e41e27",
   "metadata": {},
   "outputs": [],
   "source": [
    "MEAS.stReadout.vPreRead_P1.get()"
   ]
  },
  {
   "cell_type": "code",
   "execution_count": null,
   "id": "af5ce23a-14ca-4125-a3f2-0450d6ecd301",
   "metadata": {},
   "outputs": [],
   "source": [
    "MEAS.CYY.submodules"
   ]
  },
  {
   "cell_type": "code",
   "execution_count": null,
   "id": "427868fa-fe4a-4ad7-9283-dbdf304675d2",
   "metadata": {},
   "outputs": [],
   "source": [
    "MEAS.CYY.smartSwap12.root_instrument"
   ]
  },
  {
   "cell_type": "markdown",
   "id": "4436c1e8-37f7-4644-a78f-ffbebe2bf079",
   "metadata": {},
   "source": [
    "### Simulating Sequences"
   ]
  },
  {
   "cell_type": "markdown",
   "id": "2ab065c8-73ce-46bf-95a2-53d312ad1688",
   "metadata": {},
   "source": [
    "The entire sequence, any sub group or any sub sequence can now be simulated by\n",
    "calling `run_remote_simulation` with the desired simulation duration in cycles \n",
    "(4ns/cycle). Simulating $\\sqrt{SWAP}$ ..."
   ]
  },
  {
   "cell_type": "code",
   "execution_count": null,
   "id": "55a29899-8ce3-436f-9df3-97cf150f1d4e",
   "metadata": {},
   "outputs": [],
   "source": [
    "job = MEAS.CYY.smartSwap12.run_remote_simulation(duration = 1000)"
   ]
  },
  {
   "cell_type": "markdown",
   "id": "f40881de-10d5-46b7-88b5-c8e141d59771",
   "metadata": {},
   "source": [
    "... and the entire $CYY$-gate:"
   ]
  },
  {
   "cell_type": "code",
   "execution_count": null,
   "id": "a6c83f57-d8d4-48c6-bb2a-f34606f8966a",
   "metadata": {},
   "outputs": [],
   "source": [
    "MEAS.CYY.smartY.smart_cycles(1)\n",
    "job = MEAS.CYY.run_remote_simulation(duration = 2000)"
   ]
  },
  {
   "cell_type": "markdown",
   "id": "ec1ecfc0-a151-4c01-b9f3-9c833b78d055",
   "metadata": {},
   "source": [
    "### Parameter sweeps"
   ]
  },
  {
   "cell_type": "markdown",
   "id": "62ccf856-da4f-4d4d-ac78-5da38bde1d62",
   "metadata": {},
   "source": [
    "Next, we demonstrate parameter sweeps within the QUA script. Choose a `sequence`\n",
    "you want to simulate and pass a list of QCoDeS parameters you want to sweep, as\n",
    "well as a numpy array for each of those parameters. The last parameter in the\n",
    "list corresponds to the innermost loop of the sweep. In the following we only\n",
    "simulate $\\sqrt{SWAP}$ gate while sweeping the delay and duration of the swap\n",
    "pulse."
   ]
  },
  {
   "cell_type": "code",
   "execution_count": null,
   "id": "baceb5c6-9c28-498b-b04c-b1426281af4b",
   "metadata": {},
   "outputs": [],
   "source": [
    "MEAS.square.settables = [MEAS.square.amp, MEAS.square.tSquare]\n",
    "MEAS.square.setpoints_grid = [ np.linspace(0.1, 1, 3), np.linspace(4, 50, 3) ]"
   ]
  },
  {
   "cell_type": "code",
   "execution_count": null,
   "id": "56988804-a1c8-4572-bd79-1d9d835ebe33",
   "metadata": {},
   "outputs": [],
   "source": [
    "job = MEAS.square.run_remote_simulation(duration = 850)"
   ]
  },
  {
   "cell_type": "markdown",
   "id": "0977364b-5d81-432d-b0fa-02bc0caaeda9",
   "metadata": {},
   "source": [
    "We can simulate the same parameter sweep for the summarizing `Sequence` 'CYY' as\n",
    "well, for example to see how pulses align for previous or following sequences.\n",
    "To do that, we have to add `settables` and the `setpoints_grid` to the sequence\n",
    "we want to simulate."
   ]
  },
  {
   "cell_type": "code",
   "execution_count": null,
   "id": "0388db0a-15a6-4f4d-a8b9-126337af5937",
   "metadata": {},
   "outputs": [],
   "source": [
    "MEAS.CYY.settables = [MEAS.CYY.smartSwap12.vControlSWAP_J1, MEAS.CYY.smartSwap12.tSwap]\n",
    "MEAS.CYY.setpoints_grid = [ np.linspace(0.5, 1, 3), np.linspace(4, 100, 3) ]\n",
    "MEAS.CYY.smartSwap12.vControlSWAP_J1.batched = True\n",
    "MEAS.CYY.smartSwap12.tSwap.batched = True\n",
    "MEAS.CYY.smartY.smart_cycles(1)"
   ]
  },
  {
   "cell_type": "code",
   "execution_count": null,
   "id": "57af454e-71f0-44e7-9cd7-eb14cb32a613",
   "metadata": {},
   "outputs": [],
   "source": [
    "job = MEAS.CYY.run_remote_simulation(duration = 12000)"
   ]
  },
  {
   "cell_type": "markdown",
   "id": "ef55ee33-6d72-4f47-8474-1f1e85819053",
   "metadata": {},
   "source": [
    "### Simulating readouts"
   ]
  },
  {
   "cell_type": "code",
   "execution_count": null,
   "id": "19566ba9-4fd6-4870-885f-a2261dcea2e2",
   "metadata": {},
   "outputs": [],
   "source": [
    "MEAS.CYY.smartSwap12.tWait(int(192))\n",
    "#job = MEAS.CYY.smartSwap12.run_remote_simulation(duration = 2000)\n",
    "job = MEAS.stReadout.run_remote_simulation(duration = 3000)"
   ]
  },
  {
   "cell_type": "code",
   "execution_count": null,
   "id": "009ff908-4a7d-4d51-8cac-44f32640e10c",
   "metadata": {},
   "outputs": [],
   "source": [
    "samples = job.get_simulated_samples()"
   ]
  },
  {
   "cell_type": "code",
   "execution_count": null,
   "id": "a06b8425-af6f-47d2-aba5-20d9b0b2eb7a",
   "metadata": {},
   "outputs": [],
   "source": [
    "job.result_handles.__dict__"
   ]
  },
  {
   "cell_type": "code",
   "execution_count": null,
   "id": "e66447a3-bece-4ea8-85cd-de29aba1d9f3",
   "metadata": {},
   "outputs": [],
   "source": [
    "job.result_handles.diff_state.fetch_all()['value']"
   ]
  },
  {
   "cell_type": "markdown",
   "id": "57be81a1-4f2a-4cbe-9dd1-d7e83631f7b3",
   "metadata": {},
   "source": [
    "### Using the `Sequence` in the quantify-core library"
   ]
  },
  {
   "cell_type": "code",
   "execution_count": null,
   "id": "26113b0e-88bb-4805-a346-c75c1e797607",
   "metadata": {},
   "outputs": [],
   "source": [
    "import quantify_core.data.handling as dh\n",
    "from quantify_core.measurement import MeasurementControl"
   ]
  },
  {
   "cell_type": "code",
   "execution_count": null,
   "id": "55a090b8-41a8-4386-8f87-bc725a63b6e5",
   "metadata": {},
   "outputs": [],
   "source": [
    "dh.set_datadir(dh.default_datadir())"
   ]
  },
  {
   "cell_type": "code",
   "execution_count": null,
   "id": "b0bb0729-cd0c-4b83-8927-42a15760fdef",
   "metadata": {},
   "outputs": [],
   "source": [
    "meas_ctrl = MeasurementControl('meas_ctrl')"
   ]
  },
  {
   "cell_type": "code",
   "execution_count": null,
   "id": "54ece6aa-1a9a-49f5-85d0-26079aa4cda7",
   "metadata": {},
   "outputs": [],
   "source": [
    "import quantify_core.visualization.pyqt_plotmon as pqm\n",
    "from quantify_core.visualization.instrument_monitor import InstrumentMonitor"
   ]
  },
  {
   "cell_type": "code",
   "execution_count": null,
   "id": "5b6e8f86-f67b-4faf-a91d-9adc6063bf03",
   "metadata": {
    "scrolled": true
   },
   "outputs": [],
   "source": [
    "# plotmon = pqm.PlotMonitor_pyqt(\"plotmon\")\n",
    "# insmon = InstrumentMonitor(\"InstrumentMonitor\")\n",
    "# meas_ctrl.instr_plotmon(plotmon.name)"
   ]
  },
  {
   "cell_type": "code",
   "execution_count": null,
   "id": "5c9cee5a-18e3-4c01-a1f0-856381e50cea",
   "metadata": {},
   "outputs": [],
   "source": [
    "import datetime\n",
    "\n",
    "MEAS.stReadout.add_parameter(\n",
    "    name = 'dummy_read',\n",
    "    unit = '',\n",
    "    get_cmd = lambda: np.cos(datetime.datetime.now().microsecond*1e-4)\n",
    ")"
   ]
  },
  {
   "cell_type": "code",
   "execution_count": null,
   "id": "03866837-fc85-4f49-b02f-4e0a093f4102",
   "metadata": {},
   "outputs": [],
   "source": [
    "meas_ctrl.settables([\n",
    "    MEAS.CYY.smartSwap12.tWait, \n",
    "    MEAS.CYY.smartSwap12.vControlSWAP_J1\n",
    "])\n",
    "meas_ctrl.setpoints_grid([\n",
    "    range(180,220), \n",
    "    range(4,2000)\n",
    "])\n",
    "\n",
    "meas_ctrl.gettables(MEAS.stReadout.dummy_read)\n",
    "#dset = meas_ctrl.run(name=\"Frequency sweep\")"
   ]
  },
  {
   "cell_type": "markdown",
   "id": "a979b51f-f62c-4ebd-98ba-88fe240ef288",
   "metadata": {},
   "source": [
    "Gettables need to be `ParameterWithSetpoints`. This takes an arbitrary amount of 1D setpoint arrays (sizes (n), (m), (k)) and returns (n,m,k) get array."
   ]
  },
  {
   "cell_type": "code",
   "execution_count": null,
   "id": "33f3152f-6f11-4e0b-9d54-dc12a5d73e4b",
   "metadata": {},
   "outputs": [],
   "source": [
    "#meas_ctrl.run()"
   ]
  },
  {
   "cell_type": "markdown",
   "id": "55b39ad1-e78f-4303-9590-88232ca133bb",
   "metadata": {},
   "source": [
    "Note that 'tInitLoadMixed' and 'tPreControl' have been reduced for the sake of visibility."
   ]
  },
  {
   "cell_type": "code",
   "execution_count": null,
   "id": "3400fde9-f475-41b0-a39f-c911f5c3bf2c",
   "metadata": {},
   "outputs": [],
   "source": [
    "arr = np.zeros((4,5))"
   ]
  },
  {
   "cell_type": "code",
   "execution_count": null,
   "id": "a559e82c-2dcf-4fd0-8441-bb97b7381a21",
   "metadata": {},
   "outputs": [],
   "source": []
  }
 ],
 "metadata": {
  "kernelspec": {
   "display_name": "temp2_env",
   "language": "python",
   "name": "temp2_env"
  },
  "language_info": {
   "codemirror_mode": {
    "name": "ipython",
    "version": 3
   },
   "file_extension": ".py",
   "mimetype": "text/x-python",
   "name": "python",
   "nbconvert_exporter": "python",
   "pygments_lexer": "ipython3",
   "version": "3.11.4"
  }
 },
 "nbformat": 4,
 "nbformat_minor": 5
}
