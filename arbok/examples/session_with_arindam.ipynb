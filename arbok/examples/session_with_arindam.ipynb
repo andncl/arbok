{
 "cells": [
  {
   "cell_type": "markdown",
   "id": "005480dd-1ab9-4c32-b6a2-fde2678ec877",
   "metadata": {},
   "source": [
    "# Data acquisition in arbok"
   ]
  },
  {
   "cell_type": "markdown",
   "id": "7eea0c96-44ad-418c-bd9c-efcfaf5071fb",
   "metadata": {},
   "source": [
    "### Arbok module imports"
   ]
  },
  {
   "cell_type": "code",
   "execution_count": 1,
   "id": "ba382081-cc0b-4476-94eb-5062c61a5ec8",
   "metadata": {},
   "outputs": [
    {
     "name": "stdout",
     "output_type": "stream",
     "text": [
      "2023-09-15 13:46:21,574 - qm - INFO     - Starting session: 282a1aca-f435-4907-9277-a77f866257c6\n"
     ]
    }
   ],
   "source": [
    "from arbok.samples.aurora.configs.aurora_qua_config import aurora_qua_config\n",
    "\n",
    "from arbok.samples.aurora.initialization.odd_6_dot_init import InitOdd6dot\n",
    "from arbok.samples.aurora.initialization.Tminus_6_dot_init import InitTminus6dot\n",
    "from arbok.samples.aurora.readout.psb_6_dot_read import PSB6dotRead"
   ]
  },
  {
   "cell_type": "code",
   "execution_count": 2,
   "id": "aff1ac20-db58-4c15-a088-822d63613bae",
   "metadata": {
    "jp-MarkdownHeadingCollapsed": true
   },
   "outputs": [],
   "source": [
    "from arbok.core.program import Program\n",
    "from arbok.core.sample import Sample"
   ]
  },
  {
   "cell_type": "markdown",
   "id": "b83f8e16-346f-4192-adca-7307a313ac79",
   "metadata": {},
   "source": [
    "Instanciating sample and measurement objects"
   ]
  },
  {
   "cell_type": "code",
   "execution_count": 3,
   "id": "be43f407-3a42-4468-aa84-862398e4cd3f",
   "metadata": {},
   "outputs": [],
   "source": [
    "aurora = Sample('aurora', aurora_qua_config)\n",
    "MEAS = Program('ESR_search', sample = aurora)"
   ]
  },
  {
   "cell_type": "markdown",
   "id": "6ecc773a-d2af-4f22-a068-de3817bfa645",
   "metadata": {},
   "source": [
    "Creating Subsequences and adding them to the measurement object `MEAS`"
   ]
  },
  {
   "cell_type": "code",
   "execution_count": 4,
   "id": "09747bb6-d302-4ae6-9716-3b67438d16b3",
   "metadata": {},
   "outputs": [],
   "source": [
    "init_odd = InitOdd6dot('init_odd')\n",
    "read1 = PSB6dotRead('read1')\n",
    "init_Tminus = InitTminus6dot('init_Tminus')\n",
    "read2 = PSB6dotRead('read2')"
   ]
  },
  {
   "cell_type": "code",
   "execution_count": 5,
   "id": "5918ef6a-c8bb-4f77-943e-3a869f8b7aa3",
   "metadata": {},
   "outputs": [],
   "source": [
    "MEAS.add_subsequence(init_odd)\n",
    "MEAS.add_subsequence(read1)\n",
    "MEAS.add_subsequence(init_Tminus)\n",
    "MEAS.add_subsequence(read2)"
   ]
  },
  {
   "cell_type": "markdown",
   "id": "4ba0b435-553c-483b-aeaa-78ee6fda6ca8",
   "metadata": {},
   "source": [
    "Next we connect the physical OPX+ instrument to our program ... "
   ]
  },
  {
   "cell_type": "code",
   "execution_count": 6,
   "id": "939a5b9c-e9df-4cd5-b07d-66754960297d",
   "metadata": {},
   "outputs": [
    {
     "name": "stdout",
     "output_type": "stream",
     "text": [
      "2023-09-15 13:46:22,233 - qm - INFO     - Performing health check\n",
      "2023-09-15 13:46:22,282 - qm - INFO     - Health check passed\n",
      "2023-09-15 13:46:25,030 - qm - WARNING  - Open QM ended with warning 0: Opening a new Quantum Machine and closing existing identical Quantum Machine qm-1694750174527\n",
      "2023-09-15 13:46:25,031 - qm - WARNING  - Open QM ended with warning 0: Quantum Machine qm-1694750174527 is canceling running job 1684735462124.\n"
     ]
    }
   ],
   "source": [
    "MEAS.connect_OPX(host_ip= '192.168.0.3')"
   ]
  },
  {
   "cell_type": "code",
   "execution_count": 7,
   "id": "33c1099b-5613-42f3-9168-86c2f5fc0f21",
   "metadata": {},
   "outputs": [],
   "source": [
    "import numpy as np"
   ]
  },
  {
   "cell_type": "code",
   "execution_count": 17,
   "id": "f1924d33-eab7-43cb-a94f-3e86105b226d",
   "metadata": {},
   "outputs": [
    {
     "name": "stdout",
     "output_type": "stream",
     "text": [
      "(25,) (25,)\n"
     ]
    }
   ],
   "source": [
    "load_ramp_time_list =np.arange(4,1000, 40, dtype = int)\n",
    "init_load_mixed_list =np.arange(4,1000, 40, dtype = int)\n",
    "print(np.shape(load_ramp_time_list), np.shape(init_load_mixed_list))"
   ]
  },
  {
   "cell_type": "markdown",
   "id": "a9deeb69-d986-4993-b847-ba4cc086cfe7",
   "metadata": {},
   "source": [
    "Defining the parameters to be swept and adding setpoints to them. Also parameters to be recorded are added. In this case the measured state of SET 2"
   ]
  },
  {
   "cell_type": "code",
   "execution_count": 9,
   "id": "161e7ba6-5123-42e6-9dbd-0746b0a66b1e",
   "metadata": {},
   "outputs": [],
   "source": [
    "\"\"\"\n",
    "For parameter sweep along two axises -> get() will return n x m shaped array (n )\n",
    "\"\"\"\n",
    "MEAS.settables = [\n",
    "    MEAS.init_odd.tDeltaLoadRampMixed,\n",
    "    MEAS.init_odd.tInitLoadMixed\n",
    "]\n",
    "MEAS.setpoints_grid = [\n",
    "    load_ramp_time_list, init_load_mixed_list\n",
    "]"
   ]
  },
  {
   "cell_type": "code",
   "execution_count": 10,
   "id": "e7487c24-603c-449c-b0a2-159884c4b2bb",
   "metadata": {},
   "outputs": [
    {
     "data": {
      "text/plain": [
       "' \\nFor parameter sweep along ONE axises while adjusting all parameters at the same \\ntime -> get() will return n shaped array (n: length of both input arrays -> \\nneeds to be the same)\\n'"
      ]
     },
     "execution_count": 10,
     "metadata": {},
     "output_type": "execute_result"
    }
   ],
   "source": [
    "\"\"\" \n",
    "For parameter sweep along ONE axises while adjusting all parameters at the same \n",
    "time -> get() will return n shaped array (n: length of both input arrays -> \n",
    "needs to be the same)\n",
    "\"\"\"\n",
    "MEAS.settables = [\n",
    "    [MEAS.init_odd.tDeltaLoadRampMixed,\n",
    "    MEAS.init_Tminus.tInitLoadMixed,]\n",
    "]\n",
    "\n",
    "MEAS.setpoints_grid = [\n",
    "    [init_load_mixed_list,init_load_mixed_list],\n",
    "]"
   ]
  },
  {
   "cell_type": "markdown",
   "id": "2e34e487-a7f8-4586-9ff9-07dfbbc8e95c",
   "metadata": {},
   "source": [
    "Just defined values are automatically added to `meas_ctrl` by running `prepare_meas_ctrl`"
   ]
  },
  {
   "cell_type": "markdown",
   "id": "3c99c8ea-59e7-4f02-a9b4-ea8e9d564b6f",
   "metadata": {},
   "source": [
    "... and run the job! Dont worry, the program will only run the first iteration and wait for us to retreive the result and only continue after that."
   ]
  },
  {
   "cell_type": "code",
   "execution_count": 11,
   "id": "77eb8430-0db2-488e-aebd-e1431a64096e",
   "metadata": {},
   "outputs": [
    {
     "name": "stdout",
     "output_type": "stream",
     "text": [
      "Adding qua <class 'int'> variable for tDeltaLoadRampMixed\n",
      "Adding qua <class 'int'> variable for tInitLoadMixed\n",
      "Adding qua sweep loop for tInitLoadMixed\n",
      "Adding qua sweep loop for tDeltaLoadRampMixed\n",
      "2023-09-15 13:46:26,020 - qm - INFO     - Sending program to QOP for compilation\n",
      "2023-09-15 13:46:39,887 - qm - INFO     - Executing program\n"
     ]
    }
   ],
   "source": [
    "MEAS.run()"
   ]
  },
  {
   "cell_type": "markdown",
   "id": "b98085c6-b7a6-4513-91bc-839ec8ec22eb",
   "metadata": {},
   "source": [
    "After the system is compiled successfully you can start streaming results.\n",
    "Note however that you have to stop and run the sequence again with new parameters for different setpoints."
   ]
  },
  {
   "cell_type": "code",
   "execution_count": null,
   "id": "9e81f0c8-27fb-4006-99e9-2d4a9e6c9a31",
   "metadata": {},
   "outputs": [],
   "source": [
    "MEAS.read1.diff_set2_read_I.get()"
   ]
  },
  {
   "cell_type": "code",
   "execution_count": null,
   "id": "6a881166-5bf0-4ea9-896e-2bc8c77c9e0b",
   "metadata": {},
   "outputs": [],
   "source": []
  }
 ],
 "metadata": {
  "kernelspec": {
   "display_name": "temp2_env",
   "language": "python",
   "name": "temp2_env"
  },
  "language_info": {
   "codemirror_mode": {
    "name": "ipython",
    "version": 3
   },
   "file_extension": ".py",
   "mimetype": "text/x-python",
   "name": "python",
   "nbconvert_exporter": "python",
   "pygments_lexer": "ipython3",
   "version": "3.11.4"
  }
 },
 "nbformat": 4,
 "nbformat_minor": 5
}
