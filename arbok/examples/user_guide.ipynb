{
 "cells": [
  {
   "cell_type": "markdown",
   "id": "66676d17-8b12-4219-9e63-2d2c392fb74d",
   "metadata": {},
   "source": [
    "# Demo notebook showing arbok functionalities"
   ]
  },
  {
   "cell_type": "markdown",
   "id": "6ddd3d2f-407d-4cc1-bab6-f347ef036bf1",
   "metadata": {},
   "source": [
    "This is a simple demo notebook containing the core functionalities of arbok"
   ]
  },
  {
   "cell_type": "markdown",
   "id": "1eb3a010-7cd8-4d8e-825e-e00615c3dd1a",
   "metadata": {},
   "source": [
    "### Importing qm and arbok module"
   ]
  },
  {
   "cell_type": "code",
   "execution_count": 1,
   "id": "e4c1f0ef-8d28-4e8b-a648-1f46bb929720",
   "metadata": {},
   "outputs": [
    {
     "name": "stdout",
     "output_type": "stream",
     "text": [
      "2023-07-14 16:08:34,190 - qm - INFO     - Starting session: 868d41ee-7da4-41d6-ba21-d7ae125cb30b\n"
     ]
    }
   ],
   "source": [
    "from qm.qua import *\n",
    "from qm.QuantumMachinesManager import QuantumMachinesManager\n",
    "from qm.simulate.credentials import create_credentials\n",
    "from qm import SimulationConfig"
   ]
  },
  {
   "cell_type": "code",
   "execution_count": 2,
   "id": "44a36d4a-043e-46d6-a025-a883417c2cd6",
   "metadata": {},
   "outputs": [],
   "source": [
    "from arbok.core.sequence import Sequence\n",
    "from arbok.core.sample import Sample\n",
    "\n",
    "from arbok.samples.sunshine.readout.other_ST_read import OtherStReadout\n",
    "from arbok.samples.sunshine.initialization.mixed_down_up_init import (\n",
    "    MixedDownUpInit\n",
    ")\n",
    "from arbok.samples.sunshine.configs.rf2v_config import rf2v_config"
   ]
  },
  {
   "cell_type": "markdown",
   "id": "60573607-0bbf-4fd2-b5aa-df0b2a128d60",
   "metadata": {},
   "source": [
    "### Instanciating Arbok modules"
   ]
  },
  {
   "cell_type": "markdown",
   "id": "6436a744-6f42-40a1-b159-a5c1300b4f23",
   "metadata": {},
   "source": [
    "Firstly we instanciate `Sequence` objects describing initialization and readout"
   ]
  },
  {
   "cell_type": "code",
   "execution_count": 3,
   "id": "9fbcacb3-1a90-4118-bde3-defddd9be447",
   "metadata": {
    "scrolled": true
   },
   "outputs": [],
   "source": [
    "duInit = MixedDownUpInit('duInit')\n",
    "stReadout = OtherStReadout('stReadout')\n",
    "stReadout2 = OtherStReadout('stReadout20')"
   ]
  },
  {
   "cell_type": "markdown",
   "id": "3b9a516a-a035-4e60-8d99-9f32a56c3e1a",
   "metadata": {},
   "source": [
    "Next a `Sample` object is created containing the device config. With this we can create an empty `Sequence` that we will populate with other sequences in the following"
   ]
  },
  {
   "cell_type": "code",
   "execution_count": 4,
   "id": "309e45a9-6f3c-45e7-95a9-2ba7f48e9658",
   "metadata": {},
   "outputs": [],
   "source": [
    "sunshine = Sample('sunshine', rf2v_config)\n",
    "qh = Sequence('CNOT', sample = sunshine)\n",
    "qb = Sequence('CYY', sample = sunshine)"
   ]
  },
  {
   "cell_type": "markdown",
   "id": "60e2c651-6638-4b90-b9b1-98a34127e0c5",
   "metadata": {},
   "source": [
    "Note how parameters that have already been defined in 'qh' are skipped."
   ]
  },
  {
   "cell_type": "code",
   "execution_count": 5,
   "id": "c2f83543-ce4e-43dc-b244-b4276b9fe0bd",
   "metadata": {},
   "outputs": [],
   "source": [
    "qh.add_subsequence(duInit, verbose = True)\n",
    "qh.add_subsequence(stReadout, verbose = True)\n",
    "qh.add_subsequence(stReadout2, verbose = True)"
   ]
  },
  {
   "cell_type": "code",
   "execution_count": 6,
   "id": "44c5b54f-90ad-49e0-ad67-278fa597f593",
   "metadata": {},
   "outputs": [],
   "source": [
    "qb.add_subsequence(qh)\n",
    "qb.add_subsequence(OtherStReadout('stReadout30'))"
   ]
  },
  {
   "cell_type": "markdown",
   "id": "1433e882-4fd3-45b1-a195-0f5e8f7e8c63",
   "metadata": {},
   "source": [
    "Hereby the QCoDeS `Parameter`s describing the respective sequenes are referenced\n",
    "in the containing `Sequence`. Therefore changes in the subsequences take effect \n",
    "in the merged sequence"
   ]
  },
  {
   "cell_type": "code",
   "execution_count": 7,
   "id": "d0244671-d91f-4a8c-a7ca-07a48f6e9f68",
   "metadata": {},
   "outputs": [
    {
     "data": {
      "text/plain": [
       "<Sequence: CNOT>"
      ]
     },
     "execution_count": 7,
     "metadata": {},
     "output_type": "execute_result"
    }
   ],
   "source": [
    "duInit.parent"
   ]
  },
  {
   "cell_type": "code",
   "execution_count": 8,
   "id": "6cea010b-8e77-4855-a41b-b779f3e07312",
   "metadata": {},
   "outputs": [
    {
     "name": "stdout",
     "output_type": "stream",
     "text": [
      "625000\n",
      "500\n"
     ]
    }
   ],
   "source": [
    "print(duInit.tInitLoadMixed())\n",
    "duInit.tInitLoadMixed(int(2e3/4))\n",
    "print(duInit.tInitLoadMixed())"
   ]
  },
  {
   "cell_type": "code",
   "execution_count": 9,
   "id": "427868fa-fe4a-4ad7-9283-dbdf304675d2",
   "metadata": {},
   "outputs": [
    {
     "data": {
      "text/plain": [
       "<Sequence: CYY>"
      ]
     },
     "execution_count": 9,
     "metadata": {},
     "output_type": "execute_result"
    }
   ],
   "source": [
    "qh.duInit.root_instrument"
   ]
  },
  {
   "cell_type": "markdown",
   "id": "4436c1e8-37f7-4644-a78f-ffbebe2bf079",
   "metadata": {},
   "source": [
    "### Simulating Sequences"
   ]
  },
  {
   "cell_type": "markdown",
   "id": "2ab065c8-73ce-46bf-95a2-53d312ad1688",
   "metadata": {},
   "source": [
    "The entire sequence can now be simulated. Note that 'tInitLoadMixed' and 'tPreControl' have been reduced for the sake of visibility."
   ]
  },
  {
   "cell_type": "code",
   "execution_count": null,
   "id": "c5ac833e-9ce2-4ecf-8b53-e6080f7349c6",
   "metadata": {},
   "outputs": [],
   "source": [
    "qb."
   ]
  },
  {
   "cell_type": "code",
   "execution_count": 10,
   "id": "19566ba9-4fd6-4870-885f-a2261dcea2e2",
   "metadata": {},
   "outputs": [
    {
     "ename": "AttributeError",
     "evalue": "'Sequence' object and its delegates have no attribute 'duInit'",
     "output_type": "error",
     "traceback": [
      "\u001b[1;31m---------------------------------------------------------------------------\u001b[0m",
      "\u001b[1;31mAttributeError\u001b[0m                            Traceback (most recent call last)",
      "Cell \u001b[1;32mIn[10], line 1\u001b[0m\n\u001b[1;32m----> 1\u001b[0m \u001b[43mqb\u001b[49m\u001b[38;5;241;43m.\u001b[39;49m\u001b[43mduInit\u001b[49m\u001b[38;5;241m.\u001b[39mtPreControl(\u001b[38;5;28mint\u001b[39m(\u001b[38;5;241m2e3\u001b[39m\u001b[38;5;241m/\u001b[39m\u001b[38;5;241m4\u001b[39m))\n\u001b[0;32m      2\u001b[0m qb\u001b[38;5;241m.\u001b[39mrun_remote_simulation(duration \u001b[38;5;241m=\u001b[39m \u001b[38;5;241m5000\u001b[39m)\n",
      "File \u001b[1;32m~\\AppData\\Local\\miniconda3\\envs\\temp_env\\Lib\\site-packages\\qcodes\\utils\\attribute_helpers.py:74\u001b[0m, in \u001b[0;36mDelegateAttributes.__getattr__\u001b[1;34m(self, key)\u001b[0m\n\u001b[0;32m     71\u001b[0m     \u001b[38;5;28;01mexcept\u001b[39;00m \u001b[38;5;167;01mAttributeError\u001b[39;00m:\n\u001b[0;32m     72\u001b[0m         \u001b[38;5;28;01mpass\u001b[39;00m\n\u001b[1;32m---> 74\u001b[0m \u001b[38;5;28;01mraise\u001b[39;00m \u001b[38;5;167;01mAttributeError\u001b[39;00m(\n\u001b[0;32m     75\u001b[0m     \u001b[38;5;124m\"\u001b[39m\u001b[38;5;124m'\u001b[39m\u001b[38;5;132;01m{}\u001b[39;00m\u001b[38;5;124m'\u001b[39m\u001b[38;5;124m object and its delegates have no attribute \u001b[39m\u001b[38;5;124m'\u001b[39m\u001b[38;5;132;01m{}\u001b[39;00m\u001b[38;5;124m'\u001b[39m\u001b[38;5;124m\"\u001b[39m\u001b[38;5;241m.\u001b[39mformat(\n\u001b[0;32m     76\u001b[0m         \u001b[38;5;28mself\u001b[39m\u001b[38;5;241m.\u001b[39m\u001b[38;5;18m__class__\u001b[39m\u001b[38;5;241m.\u001b[39m\u001b[38;5;18m__name__\u001b[39m, key\n\u001b[0;32m     77\u001b[0m     )\n\u001b[0;32m     78\u001b[0m )\n",
      "\u001b[1;31mAttributeError\u001b[0m: 'Sequence' object and its delegates have no attribute 'duInit'"
     ]
    }
   ],
   "source": [
    "qb.qh.duInit.tPreControl(int(2e3/4))\n",
    "qb.run_remote_simulation(duration = 5000)"
   ]
  },
  {
   "cell_type": "code",
   "execution_count": null,
   "id": "639cbb7f-f9b6-469c-a485-643db982babc",
   "metadata": {},
   "outputs": [],
   "source": [
    "qh.duInit.tPreControl(int(2e3/4))\n",
    "qh.run_remote_simulation(duration = 4500)"
   ]
  },
  {
   "cell_type": "markdown",
   "id": "694e7c14-7e98-4d0b-bb01-e928df5b3e81",
   "metadata": {},
   "source": [
    "The subsequences can be run as well if we add a sample to their classes"
   ]
  },
  {
   "cell_type": "code",
   "execution_count": null,
   "id": "309bc305-4ac1-479d-b53a-3f2ffcb6bbc5",
   "metadata": {},
   "outputs": [],
   "source": [
    "duInit.submodules"
   ]
  },
  {
   "cell_type": "code",
   "execution_count": null,
   "id": "d10c06c4-cbb4-4490-afb8-a1859839bf46",
   "metadata": {},
   "outputs": [],
   "source": [
    "duInit.sample = sunshine\n",
    "duInit.tPreControl(int(2e3/4))\n",
    "duInit.run_remote_simulation(duration = 4500)"
   ]
  },
  {
   "cell_type": "code",
   "execution_count": null,
   "id": "6667adaf-db16-4077-b0f3-7c1d7bf0f5d2",
   "metadata": {},
   "outputs": [],
   "source": [
    "stReadout.sample = sunshine\n",
    "stReadout.run_remote_simulation(duration = 300)"
   ]
  },
  {
   "cell_type": "code",
   "execution_count": null,
   "id": "3772449b-576b-4658-8d29-ae80a49302f0",
   "metadata": {},
   "outputs": [],
   "source": [
    "qh.submodules"
   ]
  },
  {
   "cell_type": "markdown",
   "id": "57be81a1-4f2a-4cbe-9dd1-d7e83631f7b3",
   "metadata": {},
   "source": [
    "### Using the `Sequence` in the quantify-core library"
   ]
  },
  {
   "cell_type": "code",
   "execution_count": null,
   "id": "26113b0e-88bb-4805-a346-c75c1e797607",
   "metadata": {},
   "outputs": [],
   "source": [
    "import quantify_core.data.handling as dh\n",
    "from quantify_core.measurement import MeasurementControl"
   ]
  },
  {
   "cell_type": "code",
   "execution_count": null,
   "id": "55a090b8-41a8-4386-8f87-bc725a63b6e5",
   "metadata": {},
   "outputs": [],
   "source": [
    "dh.set_datadir(dh.default_datadir())"
   ]
  },
  {
   "cell_type": "code",
   "execution_count": null,
   "id": "ebd07acd-f481-4140-9c0b-17dfc40d1bb1",
   "metadata": {},
   "outputs": [],
   "source": []
  },
  {
   "cell_type": "code",
   "execution_count": null,
   "id": "b0bb0729-cd0c-4b83-8927-42a15760fdef",
   "metadata": {},
   "outputs": [],
   "source": [
    "meas_ctrl = MeasurementControl('meas_ctrl')"
   ]
  },
  {
   "cell_type": "code",
   "execution_count": null,
   "id": "54ece6aa-1a9a-49f5-85d0-26079aa4cda7",
   "metadata": {},
   "outputs": [],
   "source": [
    "import quantify_core.visualization.pyqt_plotmon as pqm"
   ]
  },
  {
   "cell_type": "code",
   "execution_count": null,
   "id": "5b6e8f86-f67b-4faf-a91d-9adc6063bf03",
   "metadata": {
    "scrolled": true
   },
   "outputs": [],
   "source": [
    "plotmon = pqm.PlotMonitor_pyqt(\"plotmon\")\n",
    "meas_ctrl.instr_plotmon(plotmon.name)"
   ]
  },
  {
   "cell_type": "code",
   "execution_count": null,
   "id": "b36f1f2b-53ae-40ec-bc6c-7546a3b6f62d",
   "metadata": {},
   "outputs": [],
   "source": [
    "from quantify_core.visualization.instrument_monitor import InstrumentMonitor"
   ]
  },
  {
   "cell_type": "code",
   "execution_count": null,
   "id": "252dd20a-1ef6-41b0-b802-459fdedb3828",
   "metadata": {},
   "outputs": [],
   "source": [
    "insmon = InstrumentMonitor(\"InstrumentMonitor\")"
   ]
  },
  {
   "cell_type": "code",
   "execution_count": null,
   "id": "0f5a0df8-30f4-442c-bbe6-85774b51611b",
   "metadata": {},
   "outputs": [],
   "source": [
    "qh.stReadout2.vHome_J1(100)"
   ]
  },
  {
   "cell_type": "code",
   "execution_count": null,
   "id": "03866837-fc85-4f49-b02f-4e0a093f4102",
   "metadata": {},
   "outputs": [],
   "source": [
    "meas_ctrl.settables([qh.tControl, qh.tPreRead])\n",
    "meas_ctrl.setpoints_grid([\n",
    "    range(1,300), \n",
    "    range(100,300)\n",
    "])\n",
    "\n",
    "meas_ctrl.gettables()\n",
    "#dset = meas_ctrl.run(name=\"Frequency sweep\")"
   ]
  },
  {
   "cell_type": "code",
   "execution_count": null,
   "id": "63587b49-3893-419b-8173-05bc1b918a23",
   "metadata": {},
   "outputs": [],
   "source": [
    "qh.parameters.keys()"
   ]
  },
  {
   "cell_type": "code",
   "execution_count": null,
   "id": "02f0a45d-fa1c-4923-a48b-ae2e2b42aa62",
   "metadata": {},
   "outputs": [],
   "source": [
    "readout.read_read.get_raw()"
   ]
  },
  {
   "cell_type": "code",
   "execution_count": null,
   "id": "b1d420d1-4261-4606-83b4-0b02f2ccff74",
   "metadata": {},
   "outputs": [],
   "source": [
    "if {'item':'some'}:\n",
    "    print(\"not empty\")"
   ]
  },
  {
   "cell_type": "code",
   "execution_count": null,
   "id": "6e44a42a-a22d-4c0a-8927-d5dc8c009b50",
   "metadata": {},
   "outputs": [],
   "source": [
    "qh.duInit.root_instrument"
   ]
  },
  {
   "cell_type": "code",
   "execution_count": null,
   "id": "95ac32c0-55e5-4e6e-b196-fb262dda4dd0",
   "metadata": {},
   "outputs": [],
   "source": [
    "qh.stReadout.parent"
   ]
  },
  {
   "cell_type": "code",
   "execution_count": null,
   "id": "df7cfc8e-2617-4ae0-87b9-e33fc6e5e00c",
   "metadata": {},
   "outputs": [],
   "source": [
    "qh.instrument_modules"
   ]
  },
  {
   "cell_type": "code",
   "execution_count": null,
   "id": "d0380075-3513-4aaa-b82d-af3b311da3ac",
   "metadata": {},
   "outputs": [],
   "source": [
    "from qcodes.instrument import InstrumentModule"
   ]
  },
  {
   "cell_type": "code",
   "execution_count": null,
   "id": "00b3cc6e-27e2-445c-96f2-486bb4b1b1db",
   "metadata": {},
   "outputs": [],
   "source": [
    "im = InstrumentModule('test')"
   ]
  },
  {
   "cell_type": "code",
   "execution_count": null,
   "id": "104f5786-d5e3-47b2-9d39-020361f476f2",
   "metadata": {},
   "outputs": [],
   "source": []
  }
 ],
 "metadata": {
  "kernelspec": {
   "display_name": "temp_env",
   "language": "python",
   "name": "temp_env"
  },
  "language_info": {
   "codemirror_mode": {
    "name": "ipython",
    "version": 3
   },
   "file_extension": ".py",
   "mimetype": "text/x-python",
   "name": "python",
   "nbconvert_exporter": "python",
   "pygments_lexer": "ipython3",
   "version": "3.11.3"
  }
 },
 "nbformat": 4,
 "nbformat_minor": 5
}
