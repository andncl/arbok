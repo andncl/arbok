{
 "cells": [
  {
   "cell_type": "markdown",
   "id": "66676d17-8b12-4219-9e63-2d2c392fb74d",
   "metadata": {},
   "source": [
    "# Demo notebook showing arbok functionalities"
   ]
  },
  {
   "cell_type": "markdown",
   "id": "6ddd3d2f-407d-4cc1-bab6-f347ef036bf1",
   "metadata": {},
   "source": [
    "This is a simple demo notebook containing the core functionalities of arbok"
   ]
  },
  {
   "cell_type": "markdown",
   "id": "1eb3a010-7cd8-4d8e-825e-e00615c3dd1a",
   "metadata": {},
   "source": [
    "### Importing qm and arbok module"
   ]
  },
  {
   "cell_type": "code",
   "execution_count": 1,
   "id": "e4c1f0ef-8d28-4e8b-a648-1f46bb929720",
   "metadata": {},
   "outputs": [
    {
     "name": "stdout",
     "output_type": "stream",
     "text": [
      "2023-07-13 17:18:30,764 - qm - INFO     - Starting session: abd8ba12-2673-499e-8be9-03a83dd11b05\n"
     ]
    }
   ],
   "source": [
    "from qm.qua import *\n",
    "from qm.QuantumMachinesManager import QuantumMachinesManager\n",
    "from qm.simulate.credentials import create_credentials\n",
    "from qm import SimulationConfig"
   ]
  },
  {
   "cell_type": "code",
   "execution_count": 2,
   "id": "44a36d4a-043e-46d6-a025-a883417c2cd6",
   "metadata": {},
   "outputs": [],
   "source": [
    "from arbok.core.quantify_handler import QuantifyHandler\n",
    "from arbok.core.run_sequence import RunSequence\n",
    "from arbok.core.sample import Sample\n",
    "\n",
    "from arbok.samples.sunshine.readout.other_ST_read import OtherStReadout\n",
    "from arbok.samples.sunshine.initialization.mixed_down_up_init import (\n",
    "    MixedDownUpInit\n",
    ")\n",
    "from arbok.samples.sunshine.configs.rf2v_config import rf2v_config"
   ]
  },
  {
   "cell_type": "markdown",
   "id": "60573607-0bbf-4fd2-b5aa-df0b2a128d60",
   "metadata": {},
   "source": [
    "### Instanciating Arbok modules"
   ]
  },
  {
   "cell_type": "markdown",
   "id": "6436a744-6f42-40a1-b159-a5c1300b4f23",
   "metadata": {},
   "source": [
    "Firstly we instanciate `Sequence` objects describing initialization and readout"
   ]
  },
  {
   "cell_type": "code",
   "execution_count": 3,
   "id": "9fbcacb3-1a90-4118-bde3-defddd9be447",
   "metadata": {
    "scrolled": true
   },
   "outputs": [
    {
     "name": "stdout",
     "output_type": "stream",
     "text": [
      "Added elements: ['P1', 'J1', 'P2']\n",
      "Added unit_amp successfully!\n",
      "Added tPreControl successfully!\n",
      "Added vHome_P1 successfully!\n",
      "Added vHome_J1 successfully!\n",
      "Added vHome_P2 successfully!\n",
      "Added vDeltaM_P1 successfully!\n",
      "Added vDeltaM_J1 successfully!\n",
      "Added vDeltaM_P2 successfully!\n",
      "Added tPreControlRampMixed successfully!\n",
      "Added tInitLoadMixed successfully!\n",
      "Added vInitPreLoadMixed1_P1 successfully!\n",
      "Added vInitPreLoadMixed1_J1 successfully!\n",
      "Added vInitPreLoadMixed1_P2 successfully!\n",
      "Added tInitPreLoad successfully!\n",
      "Added tInitPreLoadRamp successfully!\n",
      "Added tControl successfully!\n",
      "Added tInitLoadRamp successfully!\n",
      "Added vInitMixed2_P1 successfully!\n",
      "Added vInitMixed2_J1 successfully!\n",
      "Added vInitMixed2_P2 successfully!\n",
      "Added elements: ['P1', 'J1', 'P2']\n",
      "Added unit_amp successfully!\n",
      "Added vHome_P1 successfully!\n",
      "Added vHome_J1 successfully!\n",
      "Added vHome_P2 successfully!\n",
      "Added vReference_P1 successfully!\n",
      "Added vReference_J1 successfully!\n",
      "Added vReference_P2 successfully!\n",
      "Added tReadReferenceRamp successfully!\n",
      "Added vPreRead_P1 successfully!\n",
      "Added vPreRead_J1 successfully!\n",
      "Added vPreRead_P2 successfully!\n",
      "Added tPreReadRamp successfully!\n",
      "Added vPreReadPoint_P1 successfully!\n",
      "Added vPreReadPoint_J1 successfully!\n",
      "Added vPreReadPoint_P2 successfully!\n",
      "Added tPreReadPoint successfully!\n",
      "Added vRead_P1 successfully!\n",
      "Added vRead_J1 successfully!\n",
      "Added vRead_P2 successfully!\n",
      "Added tReadRamp successfully!\n",
      "Added tPreRead successfully!\n",
      "Added tPostRead successfully!\n",
      "success\n",
      "success\n",
      "success\n",
      "Existing paramter \"IDN\" SKIPPED\n",
      "None\n",
      "read_TIMES\n"
     ]
    },
    {
     "name": "stderr",
     "output_type": "stream",
     "text": [
      "C:\\Users\\z5440260\\AppData\\Local\\miniconda3\\envs\\temp_env\\Lib\\site-packages\\qcodes\\instrument\\instrument_base.py:143: QCoDeSDeprecationWarning: Parameter read_TIMES on instrument OtherStReadout does not correctly pass kwargs to its baseclass. A Parameter class must take `**kwargs` and forward them to its baseclass.\n",
      "  warnings.warn(\n"
     ]
    },
    {
     "ename": "TypeError",
     "evalue": "ParameterBase.__init__() got an unexpected keyword argument 'intial_value'",
     "output_type": "error",
     "traceback": [
      "\u001b[1;31m---------------------------------------------------------------------------\u001b[0m",
      "\u001b[1;31mTypeError\u001b[0m                                 Traceback (most recent call last)",
      "File \u001b[1;32m~\\AppData\\Local\\miniconda3\\envs\\temp_env\\Lib\\site-packages\\qcodes\\instrument\\instrument_base.py:140\u001b[0m, in \u001b[0;36mInstrumentBase.add_parameter\u001b[1;34m(self, name, parameter_class, **kwargs)\u001b[0m\n\u001b[0;32m    139\u001b[0m \u001b[38;5;28;01mtry\u001b[39;00m:\n\u001b[1;32m--> 140\u001b[0m     param \u001b[38;5;241m=\u001b[39m \u001b[43mparameter_class\u001b[49m\u001b[43m(\u001b[49m\u001b[43mname\u001b[49m\u001b[38;5;241;43m=\u001b[39;49m\u001b[43mname\u001b[49m\u001b[43m,\u001b[49m\u001b[43m \u001b[49m\u001b[43minstrument\u001b[49m\u001b[38;5;241;43m=\u001b[39;49m\u001b[38;5;28;43mself\u001b[39;49m\u001b[43m,\u001b[49m\u001b[43m \u001b[49m\u001b[38;5;241;43m*\u001b[39;49m\u001b[38;5;241;43m*\u001b[39;49m\u001b[43mkwargs\u001b[49m\u001b[43m)\u001b[49m\n\u001b[0;32m    141\u001b[0m \u001b[38;5;28;01mexcept\u001b[39;00m \u001b[38;5;167;01mTypeError\u001b[39;00m:\n",
      "File \u001b[1;32m~\\AppData\\Local\\miniconda3\\envs\\temp_env\\Lib\\site-packages\\qcodes\\parameters\\parameter.py:233\u001b[0m, in \u001b[0;36mParameter.__init__\u001b[1;34m(self, name, instrument, label, unit, get_cmd, set_cmd, initial_value, max_val_age, vals, docstring, initial_cache_value, bind_to_instrument, **kwargs)\u001b[0m\n\u001b[0;32m    227\u001b[0m             \u001b[38;5;28;01mraise\u001b[39;00m \u001b[38;5;167;01mValueError\u001b[39;00m(\n\u001b[0;32m    228\u001b[0m                 \u001b[38;5;124mf\u001b[39m\u001b[38;5;124m\"\u001b[39m\u001b[38;5;124mThe unit of the parameter \u001b[39m\u001b[38;5;124m'\u001b[39m\u001b[38;5;132;01m{\u001b[39;00mname\u001b[38;5;132;01m}\u001b[39;00m\u001b[38;5;124m'\u001b[39m\u001b[38;5;124m is \u001b[39m\u001b[38;5;124m'\u001b[39m\u001b[38;5;132;01m{\u001b[39;00munit\u001b[38;5;132;01m}\u001b[39;00m\u001b[38;5;124m'\u001b[39m\u001b[38;5;124m. \u001b[39m\u001b[38;5;124m\"\u001b[39m\n\u001b[0;32m    229\u001b[0m                 \u001b[38;5;124mf\u001b[39m\u001b[38;5;124m\"\u001b[39m\u001b[38;5;124mThis is inconsistent with the unit defined in the \u001b[39m\u001b[38;5;124m\"\u001b[39m\n\u001b[0;32m    230\u001b[0m                 \u001b[38;5;124mf\u001b[39m\u001b[38;5;124m\"\u001b[39m\u001b[38;5;124mbase class\u001b[39m\u001b[38;5;124m\"\u001b[39m\n\u001b[0;32m    231\u001b[0m             )\n\u001b[1;32m--> 233\u001b[0m \u001b[38;5;28;43msuper\u001b[39;49m\u001b[43m(\u001b[49m\u001b[43m)\u001b[49m\u001b[38;5;241;43m.\u001b[39;49m\u001b[38;5;21;43m__init__\u001b[39;49m\u001b[43m(\u001b[49m\n\u001b[0;32m    234\u001b[0m \u001b[43m    \u001b[49m\u001b[43mname\u001b[49m\u001b[38;5;241;43m=\u001b[39;49m\u001b[43mname\u001b[49m\u001b[43m,\u001b[49m\n\u001b[0;32m    235\u001b[0m \u001b[43m    \u001b[49m\u001b[43minstrument\u001b[49m\u001b[38;5;241;43m=\u001b[39;49m\u001b[43minstrument\u001b[49m\u001b[43m,\u001b[49m\n\u001b[0;32m    236\u001b[0m \u001b[43m    \u001b[49m\u001b[43mvals\u001b[49m\u001b[38;5;241;43m=\u001b[39;49m\u001b[43mvals\u001b[49m\u001b[43m,\u001b[49m\n\u001b[0;32m    237\u001b[0m \u001b[43m    \u001b[49m\u001b[43mmax_val_age\u001b[49m\u001b[38;5;241;43m=\u001b[39;49m\u001b[43mmax_val_age\u001b[49m\u001b[43m,\u001b[49m\n\u001b[0;32m    238\u001b[0m \u001b[43m    \u001b[49m\u001b[43mbind_to_instrument\u001b[49m\u001b[38;5;241;43m=\u001b[39;49m\u001b[43mbind_to_instrument\u001b[49m\u001b[43m,\u001b[49m\n\u001b[0;32m    239\u001b[0m \u001b[43m    \u001b[49m\u001b[38;5;241;43m*\u001b[39;49m\u001b[38;5;241;43m*\u001b[39;49m\u001b[43mkwargs\u001b[49m\u001b[43m,\u001b[49m\n\u001b[0;32m    240\u001b[0m \u001b[43m\u001b[49m\u001b[43m)\u001b[49m\n\u001b[0;32m    242\u001b[0m no_instrument_get \u001b[38;5;241m=\u001b[39m \u001b[38;5;129;01mnot\u001b[39;00m \u001b[38;5;28mself\u001b[39m\u001b[38;5;241m.\u001b[39mgettable \u001b[38;5;129;01mand\u001b[39;00m (get_cmd \u001b[38;5;129;01mis\u001b[39;00m \u001b[38;5;28;01mNone\u001b[39;00m \u001b[38;5;129;01mor\u001b[39;00m get_cmd \u001b[38;5;129;01mis\u001b[39;00m \u001b[38;5;28;01mFalse\u001b[39;00m)\n",
      "\u001b[1;31mTypeError\u001b[0m: ParameterBase.__init__() got an unexpected keyword argument 'intial_value'",
      "\nDuring handling of the above exception, another exception occurred:\n",
      "\u001b[1;31mTypeError\u001b[0m                                 Traceback (most recent call last)",
      "Cell \u001b[1;32mIn[3], line 2\u001b[0m\n\u001b[0;32m      1\u001b[0m init \u001b[38;5;241m=\u001b[39m MixedDownUpInit()\n\u001b[1;32m----> 2\u001b[0m readout \u001b[38;5;241m=\u001b[39m \u001b[43mOtherStReadout\u001b[49m\u001b[43m(\u001b[49m\u001b[43m)\u001b[49m\n",
      "File \u001b[1;32m~\\AppData\\Local\\miniconda3\\envs\\temp_env\\Lib\\site-packages\\qcodes\\instrument\\instrument_meta.py:36\u001b[0m, in \u001b[0;36mInstrumentMeta.__call__\u001b[1;34m(cls, *args, **kwargs)\u001b[0m\n\u001b[0;32m     31\u001b[0m \u001b[38;5;28;01mdef\u001b[39;00m \u001b[38;5;21m__call__\u001b[39m(\u001b[38;5;28mcls\u001b[39m, \u001b[38;5;241m*\u001b[39margs: Any, \u001b[38;5;241m*\u001b[39m\u001b[38;5;241m*\u001b[39mkwargs: Any) \u001b[38;5;241m-\u001b[39m\u001b[38;5;241m>\u001b[39m Any:\n\u001b[0;32m     32\u001b[0m \u001b[38;5;250m    \u001b[39m\u001b[38;5;124;03m\"\"\"\u001b[39;00m\n\u001b[0;32m     33\u001b[0m \u001b[38;5;124;03m    Overloads `type.__call__` to add code that runs only if __init__ completes\u001b[39;00m\n\u001b[0;32m     34\u001b[0m \u001b[38;5;124;03m    successfully.\u001b[39;00m\n\u001b[0;32m     35\u001b[0m \u001b[38;5;124;03m    \"\"\"\u001b[39;00m\n\u001b[1;32m---> 36\u001b[0m     new_inst \u001b[38;5;241m=\u001b[39m \u001b[38;5;28;43msuper\u001b[39;49m\u001b[43m(\u001b[49m\u001b[43m)\u001b[49m\u001b[38;5;241;43m.\u001b[39;49m\u001b[38;5;21;43m__call__\u001b[39;49m\u001b[43m(\u001b[49m\u001b[38;5;241;43m*\u001b[39;49m\u001b[43margs\u001b[49m\u001b[43m,\u001b[49m\u001b[43m \u001b[49m\u001b[38;5;241;43m*\u001b[39;49m\u001b[38;5;241;43m*\u001b[39;49m\u001b[43mkwargs\u001b[49m\u001b[43m)\u001b[49m\n\u001b[0;32m     37\u001b[0m     is_abstract \u001b[38;5;241m=\u001b[39m new_inst\u001b[38;5;241m.\u001b[39m_is_abstract()\n\u001b[0;32m     38\u001b[0m     \u001b[38;5;28;01mif\u001b[39;00m is_abstract:\n",
      "File \u001b[1;32mc:\\users\\z5440260\\gitrepos\\arbok\\arbok\\samples\\sunshine\\readout\\other_ST_read.py:56\u001b[0m, in \u001b[0;36mOtherStReadout.__init__\u001b[1;34m(self, name, param_config)\u001b[0m\n\u001b[0;32m     54\u001b[0m \u001b[38;5;28mself\u001b[39m\u001b[38;5;241m.\u001b[39mgettables \u001b[38;5;241m=\u001b[39m [get_set_1]\n\u001b[0;32m     55\u001b[0m \u001b[38;5;28;01mfor\u001b[39;00m getset \u001b[38;5;129;01min\u001b[39;00m \u001b[38;5;28mself\u001b[39m\u001b[38;5;241m.\u001b[39mgettables:\n\u001b[1;32m---> 56\u001b[0m     \u001b[38;5;28;43mself\u001b[39;49m\u001b[38;5;241;43m.\u001b[39;49m\u001b[43madd_subsequence_qc_params\u001b[49m\u001b[43m(\u001b[49m\u001b[43mgetset\u001b[49m\u001b[43m,\u001b[49m\u001b[43m \u001b[49m\u001b[43mverbose\u001b[49m\u001b[43m \u001b[49m\u001b[38;5;241;43m=\u001b[39;49m\u001b[43m \u001b[49m\u001b[38;5;28;43;01mTrue\u001b[39;49;00m\u001b[43m)\u001b[49m\n",
      "File \u001b[1;32mc:\\users\\z5440260\\gitrepos\\arbok\\arbok\\core\\sequence.py:89\u001b[0m, in \u001b[0;36mSequence.add_subsequence_qc_params\u001b[1;34m(self, new_sequence, verbose)\u001b[0m\n\u001b[0;32m     87\u001b[0m \u001b[38;5;28mprint\u001b[39m(par())\n\u001b[0;32m     88\u001b[0m \u001b[38;5;28mprint\u001b[39m(name)\n\u001b[1;32m---> 89\u001b[0m \u001b[38;5;28;43mself\u001b[39;49m\u001b[38;5;241;43m.\u001b[39;49m\u001b[43madd_parameter\u001b[49m\u001b[43m(\u001b[49m\n\u001b[0;32m     90\u001b[0m \u001b[43m    \u001b[49m\u001b[43mname\u001b[49m\u001b[43m \u001b[49m\u001b[38;5;241;43m=\u001b[39;49m\u001b[43m \u001b[49m\u001b[43mname\u001b[49m\u001b[43m,\u001b[49m\n\u001b[0;32m     91\u001b[0m \u001b[43m    \u001b[49m\u001b[43munit\u001b[49m\u001b[43m \u001b[49m\u001b[38;5;241;43m=\u001b[39;49m\u001b[43m \u001b[49m\u001b[43mpar\u001b[49m\u001b[38;5;241;43m.\u001b[39;49m\u001b[43munit\u001b[49m\u001b[43m,\u001b[49m\n\u001b[0;32m     92\u001b[0m \u001b[43m    \u001b[49m\u001b[43mintial_value\u001b[49m\u001b[43m \u001b[49m\u001b[38;5;241;43m=\u001b[39;49m\u001b[43m \u001b[49m\u001b[43mpar\u001b[49m\u001b[43m(\u001b[49m\u001b[43m)\u001b[49m\u001b[43m,\u001b[49m\n\u001b[0;32m     93\u001b[0m \u001b[43m    \u001b[49m\u001b[43mset_cmd\u001b[49m\u001b[43m \u001b[49m\u001b[38;5;241;43m=\u001b[39;49m\u001b[43m \u001b[49m\u001b[43mpar\u001b[49m\u001b[38;5;241;43m.\u001b[39;49m\u001b[43mset_raw\u001b[49m\u001b[43m,\u001b[49m\n\u001b[0;32m     94\u001b[0m \u001b[43m    \u001b[49m\u001b[43mget_cmd\u001b[49m\u001b[43m \u001b[49m\u001b[38;5;241;43m=\u001b[39;49m\u001b[43m \u001b[49m\u001b[43mpar\u001b[49m\u001b[38;5;241;43m.\u001b[39;49m\u001b[43mget_raw\u001b[49m\u001b[43m,\u001b[49m\n\u001b[0;32m     95\u001b[0m \u001b[43m\u001b[49m\u001b[43m)\u001b[49m\n\u001b[0;32m     96\u001b[0m \u001b[38;5;66;03m#setattr(self, name, par\u001b[39;00m\n\u001b[0;32m     97\u001b[0m \u001b[38;5;28;01mif\u001b[39;00m verbose: \u001b[38;5;28mprint\u001b[39m(\u001b[38;5;124m\"\u001b[39m\u001b[38;5;124mAdded \u001b[39m\u001b[38;5;124m\"\u001b[39m \u001b[38;5;241m+\u001b[39m name \u001b[38;5;241m+\u001b[39m \u001b[38;5;124m\"\u001b[39m\u001b[38;5;124m successfully!!\u001b[39m\u001b[38;5;124m\"\u001b[39m \u001b[38;5;241m+\u001b[39m \u001b[38;5;28mstr\u001b[39m(par())) \n",
      "File \u001b[1;32m~\\AppData\\Local\\miniconda3\\envs\\temp_env\\Lib\\site-packages\\qcodes\\instrument\\instrument_base.py:150\u001b[0m, in \u001b[0;36mInstrumentBase.add_parameter\u001b[1;34m(self, name, parameter_class, **kwargs)\u001b[0m\n\u001b[0;32m    142\u001b[0m     kwargs\u001b[38;5;241m.\u001b[39mpop(\u001b[38;5;124m\"\u001b[39m\u001b[38;5;124mbind_to_instrument\u001b[39m\u001b[38;5;124m\"\u001b[39m)\n\u001b[0;32m    143\u001b[0m     warnings\u001b[38;5;241m.\u001b[39mwarn(\n\u001b[0;32m    144\u001b[0m         \u001b[38;5;124mf\u001b[39m\u001b[38;5;124m\"\u001b[39m\u001b[38;5;124mParameter \u001b[39m\u001b[38;5;132;01m{\u001b[39;00mname\u001b[38;5;132;01m}\u001b[39;00m\u001b[38;5;124m on instrument \u001b[39m\u001b[38;5;132;01m{\u001b[39;00m\u001b[38;5;28mself\u001b[39m\u001b[38;5;241m.\u001b[39mname\u001b[38;5;132;01m}\u001b[39;00m\u001b[38;5;124m does \u001b[39m\u001b[38;5;124m\"\u001b[39m\n\u001b[0;32m    145\u001b[0m         \u001b[38;5;124mf\u001b[39m\u001b[38;5;124m\"\u001b[39m\u001b[38;5;124mnot correctly pass kwargs to its baseclass. A \u001b[39m\u001b[38;5;124m\"\u001b[39m\n\u001b[1;32m   (...)\u001b[0m\n\u001b[0;32m    148\u001b[0m         QCoDeSDeprecationWarning,\n\u001b[0;32m    149\u001b[0m     )\n\u001b[1;32m--> 150\u001b[0m     param \u001b[38;5;241m=\u001b[39m \u001b[43mparameter_class\u001b[49m\u001b[43m(\u001b[49m\u001b[43mname\u001b[49m\u001b[38;5;241;43m=\u001b[39;49m\u001b[43mname\u001b[49m\u001b[43m,\u001b[49m\u001b[43m \u001b[49m\u001b[43minstrument\u001b[49m\u001b[38;5;241;43m=\u001b[39;49m\u001b[38;5;28;43mself\u001b[39;49m\u001b[43m,\u001b[49m\u001b[43m \u001b[49m\u001b[38;5;241;43m*\u001b[39;49m\u001b[38;5;241;43m*\u001b[39;49m\u001b[43mkwargs\u001b[49m\u001b[43m)\u001b[49m\n\u001b[0;32m    152\u001b[0m existing_parameter \u001b[38;5;241m=\u001b[39m \u001b[38;5;28mself\u001b[39m\u001b[38;5;241m.\u001b[39mparameters\u001b[38;5;241m.\u001b[39mget(name, \u001b[38;5;28;01mNone\u001b[39;00m)\n\u001b[0;32m    153\u001b[0m \u001b[38;5;28;01mif\u001b[39;00m \u001b[38;5;129;01mnot\u001b[39;00m existing_parameter:\n",
      "File \u001b[1;32m~\\AppData\\Local\\miniconda3\\envs\\temp_env\\Lib\\site-packages\\qcodes\\parameters\\parameter.py:233\u001b[0m, in \u001b[0;36mParameter.__init__\u001b[1;34m(self, name, instrument, label, unit, get_cmd, set_cmd, initial_value, max_val_age, vals, docstring, initial_cache_value, bind_to_instrument, **kwargs)\u001b[0m\n\u001b[0;32m    226\u001b[0m         \u001b[38;5;28;01mif\u001b[39;00m existing_unit \u001b[38;5;241m!=\u001b[39m unit:\n\u001b[0;32m    227\u001b[0m             \u001b[38;5;28;01mraise\u001b[39;00m \u001b[38;5;167;01mValueError\u001b[39;00m(\n\u001b[0;32m    228\u001b[0m                 \u001b[38;5;124mf\u001b[39m\u001b[38;5;124m\"\u001b[39m\u001b[38;5;124mThe unit of the parameter \u001b[39m\u001b[38;5;124m'\u001b[39m\u001b[38;5;132;01m{\u001b[39;00mname\u001b[38;5;132;01m}\u001b[39;00m\u001b[38;5;124m'\u001b[39m\u001b[38;5;124m is \u001b[39m\u001b[38;5;124m'\u001b[39m\u001b[38;5;132;01m{\u001b[39;00munit\u001b[38;5;132;01m}\u001b[39;00m\u001b[38;5;124m'\u001b[39m\u001b[38;5;124m. \u001b[39m\u001b[38;5;124m\"\u001b[39m\n\u001b[0;32m    229\u001b[0m                 \u001b[38;5;124mf\u001b[39m\u001b[38;5;124m\"\u001b[39m\u001b[38;5;124mThis is inconsistent with the unit defined in the \u001b[39m\u001b[38;5;124m\"\u001b[39m\n\u001b[0;32m    230\u001b[0m                 \u001b[38;5;124mf\u001b[39m\u001b[38;5;124m\"\u001b[39m\u001b[38;5;124mbase class\u001b[39m\u001b[38;5;124m\"\u001b[39m\n\u001b[0;32m    231\u001b[0m             )\n\u001b[1;32m--> 233\u001b[0m \u001b[38;5;28;43msuper\u001b[39;49m\u001b[43m(\u001b[49m\u001b[43m)\u001b[49m\u001b[38;5;241;43m.\u001b[39;49m\u001b[38;5;21;43m__init__\u001b[39;49m\u001b[43m(\u001b[49m\n\u001b[0;32m    234\u001b[0m \u001b[43m    \u001b[49m\u001b[43mname\u001b[49m\u001b[38;5;241;43m=\u001b[39;49m\u001b[43mname\u001b[49m\u001b[43m,\u001b[49m\n\u001b[0;32m    235\u001b[0m \u001b[43m    \u001b[49m\u001b[43minstrument\u001b[49m\u001b[38;5;241;43m=\u001b[39;49m\u001b[43minstrument\u001b[49m\u001b[43m,\u001b[49m\n\u001b[0;32m    236\u001b[0m \u001b[43m    \u001b[49m\u001b[43mvals\u001b[49m\u001b[38;5;241;43m=\u001b[39;49m\u001b[43mvals\u001b[49m\u001b[43m,\u001b[49m\n\u001b[0;32m    237\u001b[0m \u001b[43m    \u001b[49m\u001b[43mmax_val_age\u001b[49m\u001b[38;5;241;43m=\u001b[39;49m\u001b[43mmax_val_age\u001b[49m\u001b[43m,\u001b[49m\n\u001b[0;32m    238\u001b[0m \u001b[43m    \u001b[49m\u001b[43mbind_to_instrument\u001b[49m\u001b[38;5;241;43m=\u001b[39;49m\u001b[43mbind_to_instrument\u001b[49m\u001b[43m,\u001b[49m\n\u001b[0;32m    239\u001b[0m \u001b[43m    \u001b[49m\u001b[38;5;241;43m*\u001b[39;49m\u001b[38;5;241;43m*\u001b[39;49m\u001b[43mkwargs\u001b[49m\u001b[43m,\u001b[49m\n\u001b[0;32m    240\u001b[0m \u001b[43m\u001b[49m\u001b[43m)\u001b[49m\n\u001b[0;32m    242\u001b[0m no_instrument_get \u001b[38;5;241m=\u001b[39m \u001b[38;5;129;01mnot\u001b[39;00m \u001b[38;5;28mself\u001b[39m\u001b[38;5;241m.\u001b[39mgettable \u001b[38;5;129;01mand\u001b[39;00m (get_cmd \u001b[38;5;129;01mis\u001b[39;00m \u001b[38;5;28;01mNone\u001b[39;00m \u001b[38;5;129;01mor\u001b[39;00m get_cmd \u001b[38;5;129;01mis\u001b[39;00m \u001b[38;5;28;01mFalse\u001b[39;00m)\n\u001b[0;32m    243\u001b[0m \u001b[38;5;66;03m# TODO: a matching check should be in ParameterBase but\u001b[39;00m\n\u001b[0;32m    244\u001b[0m \u001b[38;5;66;03m#   due to the current limited design the ParameterBase cannot\u001b[39;00m\n\u001b[0;32m    245\u001b[0m \u001b[38;5;66;03m#   know if this subclass will supply a get_cmd\u001b[39;00m\n\u001b[0;32m    246\u001b[0m \u001b[38;5;66;03m#   To work around this a RunTime check is put into get of GetLatest\u001b[39;00m\n\u001b[0;32m    247\u001b[0m \u001b[38;5;66;03m#   and into get of _Cache\u001b[39;00m\n",
      "\u001b[1;31mTypeError\u001b[0m: ParameterBase.__init__() got an unexpected keyword argument 'intial_value'"
     ]
    }
   ],
   "source": [
    "init = MixedDownUpInit()\n",
    "readout = OtherStReadout()"
   ]
  },
  {
   "cell_type": "markdown",
   "id": "3b9a516a-a035-4e60-8d99-9f32a56c3e1a",
   "metadata": {},
   "source": [
    "Next a `Sample` object is created containing the device config. With this we can create an empty `Sequence` that we will populate with other sequences in the following"
   ]
  },
  {
   "cell_type": "code",
   "execution_count": null,
   "id": "776cd11a-2b1e-447a-862a-3af388726f5a",
   "metadata": {},
   "outputs": [],
   "source": [
    "readout.tReadRamp"
   ]
  },
  {
   "cell_type": "code",
   "execution_count": null,
   "id": "309e45a9-6f3c-45e7-95a9-2ba7f48e9658",
   "metadata": {},
   "outputs": [],
   "source": [
    "sunshine = Sample('sunshine', rf2v_config)\n",
    "qh = RunSequence('CNOT', sunshine)"
   ]
  },
  {
   "cell_type": "markdown",
   "id": "60e2c651-6638-4b90-b9b1-98a34127e0c5",
   "metadata": {},
   "source": [
    "Note how parameters that have already been defined in 'qh' are skipped."
   ]
  },
  {
   "cell_type": "code",
   "execution_count": null,
   "id": "8f5ce080-0b23-4fda-a9f6-5724b5acaf20",
   "metadata": {},
   "outputs": [],
   "source": [
    "readout.read"
   ]
  },
  {
   "cell_type": "code",
   "execution_count": null,
   "id": "c2f83543-ce4e-43dc-b244-b4276b9fe0bd",
   "metadata": {},
   "outputs": [],
   "source": [
    "qh.add_subsequence(init, verbose = True)\n",
    "qh.add_subsequence(readout, verbose = True)"
   ]
  },
  {
   "cell_type": "markdown",
   "id": "1433e882-4fd3-45b1-a195-0f5e8f7e8c63",
   "metadata": {},
   "source": [
    "Hereby the QCoDeS `Parameter`s describing the respective sequenes are referenced\n",
    "in the containing `Sequence`. Therefore changes in the subsequences take effect \n",
    "in the merged sequence"
   ]
  },
  {
   "cell_type": "code",
   "execution_count": null,
   "id": "6cea010b-8e77-4855-a41b-b779f3e07312",
   "metadata": {},
   "outputs": [],
   "source": [
    "print(qh.tInitLoadMixed())\n",
    "init.tInitLoadMixed(int(1e3/4))\n",
    "print(qh.tInitLoadMixed())"
   ]
  },
  {
   "cell_type": "markdown",
   "id": "4436c1e8-37f7-4644-a78f-ffbebe2bf079",
   "metadata": {},
   "source": [
    "### Simulating Sequences"
   ]
  },
  {
   "cell_type": "markdown",
   "id": "2ab065c8-73ce-46bf-95a2-53d312ad1688",
   "metadata": {},
   "source": [
    "The entire sequence can now be simulated. Note that 'tInitLoadMixed' and 'tPreControl' have been reduced for the sake of visibility."
   ]
  },
  {
   "cell_type": "code",
   "execution_count": null,
   "id": "639cbb7f-f9b6-469c-a485-643db982babc",
   "metadata": {},
   "outputs": [],
   "source": [
    "qh.tPreControl(int(2e3/4))\n",
    "qh.run_remote_simulation(duration = 4000)"
   ]
  },
  {
   "cell_type": "markdown",
   "id": "694e7c14-7e98-4d0b-bb01-e928df5b3e81",
   "metadata": {},
   "source": [
    "The subsequences can be run as well if we add a sample to their classes"
   ]
  },
  {
   "cell_type": "code",
   "execution_count": null,
   "id": "d10c06c4-cbb4-4490-afb8-a1859839bf46",
   "metadata": {},
   "outputs": [],
   "source": [
    "init.sample = sunshine\n",
    "init.run_remote_simulation(duration = 4500)"
   ]
  },
  {
   "cell_type": "code",
   "execution_count": null,
   "id": "6667adaf-db16-4077-b0f3-7c1d7bf0f5d2",
   "metadata": {
    "scrolled": true
   },
   "outputs": [],
   "source": [
    "readout.sample = sunshine\n",
    "readout.run_remote_simulation(duration = 300)"
   ]
  },
  {
   "cell_type": "markdown",
   "id": "57be81a1-4f2a-4cbe-9dd1-d7e83631f7b3",
   "metadata": {},
   "source": [
    "### Using the `Sequence` in the quantify-core library"
   ]
  },
  {
   "cell_type": "code",
   "execution_count": null,
   "id": "26113b0e-88bb-4805-a346-c75c1e797607",
   "metadata": {},
   "outputs": [],
   "source": [
    "import quantify_core.data.handling as dh\n",
    "from quantify_core.measurement import MeasurementControl"
   ]
  },
  {
   "cell_type": "code",
   "execution_count": null,
   "id": "55a090b8-41a8-4386-8f87-bc725a63b6e5",
   "metadata": {},
   "outputs": [],
   "source": [
    "dh.set_datadir(dh.default_datadir())"
   ]
  },
  {
   "cell_type": "code",
   "execution_count": null,
   "id": "b0bb0729-cd0c-4b83-8927-42a15760fdef",
   "metadata": {},
   "outputs": [],
   "source": [
    "meas_ctrl = MeasurementControl('meas_ctrl')"
   ]
  },
  {
   "cell_type": "code",
   "execution_count": null,
   "id": "03866837-fc85-4f49-b02f-4e0a093f4102",
   "metadata": {},
   "outputs": [],
   "source": [
    "meas_ctrl.settables([qh.tControl, qh.tPreRead])\n",
    "meas_ctrl.setpoints_grid([\n",
    "    range(1,300), \n",
    "    range(100,300)\n",
    "])\n",
    "\n",
    "meas_ctrl.gettables()\n",
    "dset = meas_ctrl.run(name=\"Frequency sweep\")"
   ]
  },
  {
   "cell_type": "code",
   "execution_count": null,
   "id": "63587b49-3893-419b-8173-05bc1b918a23",
   "metadata": {},
   "outputs": [],
   "source": [
    "qh.parameters.keys()"
   ]
  },
  {
   "cell_type": "code",
   "execution_count": null,
   "id": "02f0a45d-fa1c-4923-a48b-ae2e2b42aa62",
   "metadata": {},
   "outputs": [],
   "source": [
    "readout.read_read.get_raw()"
   ]
  },
  {
   "cell_type": "code",
   "execution_count": null,
   "id": "b1d420d1-4261-4606-83b4-0b02f2ccff74",
   "metadata": {},
   "outputs": [],
   "source": []
  }
 ],
 "metadata": {
  "kernelspec": {
   "display_name": "temp_env",
   "language": "python",
   "name": "temp_env"
  },
  "language_info": {
   "codemirror_mode": {
    "name": "ipython",
    "version": 3
   },
   "file_extension": ".py",
   "mimetype": "text/x-python",
   "name": "python",
   "nbconvert_exporter": "python",
   "pygments_lexer": "ipython3",
   "version": "3.11.3"
  }
 },
 "nbformat": 4,
 "nbformat_minor": 5
}
